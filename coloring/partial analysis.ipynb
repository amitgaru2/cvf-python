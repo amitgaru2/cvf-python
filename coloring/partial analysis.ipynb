{
 "cells": [
  {
   "cell_type": "code",
   "execution_count": 1,
   "id": "60dddb4c-e19b-4adb-bc43-a502cdaaedbf",
   "metadata": {},
   "outputs": [
    {
     "name": "stderr",
     "output_type": "stream",
     "text": [
      "C:\\Users\\amitg\\AppData\\Local\\Temp\\ipykernel_4940\\2917558309.py:7: DeprecationWarning: \n",
      "Pyarrow will become a required dependency of pandas in the next major release of pandas (pandas 3.0),\n",
      "(to allow more performant data types, such as the Arrow string type, and better interoperability with other libraries)\n",
      "but was not found to be installed on your system.\n",
      "If this would cause problems for you,\n",
      "please provide us feedback at https://github.com/pandas-dev/pandas/issues/54466\n",
      "        \n",
      "  import pandas as pd\n"
     ]
    }
   ],
   "source": [
    "import os\n",
    "import csv\n",
    "import copy\n",
    "import math\n",
    "import random\n",
    "\n",
    "import pandas as pd\n",
    "\n",
    "from itertools import combinations"
   ]
  },
  {
   "cell_type": "code",
   "execution_count": 2,
   "id": "4e0b67b5-4db5-41af-a8e6-9ec8a1a0bd7a",
   "metadata": {},
   "outputs": [],
   "source": [
    "graphs_dir = \"graphs\"\n",
    "results_dir = \"results\""
   ]
  },
  {
   "cell_type": "code",
   "execution_count": 22,
   "id": "2facd467-3d59-42ed-933c-8bcc375e677f",
   "metadata": {},
   "outputs": [],
   "source": [
    "K_sampling = 1"
   ]
  },
  {
   "cell_type": "code",
   "execution_count": 3,
   "id": "edd4cde5-27ff-4687-9828-9ef65d314176",
   "metadata": {},
   "outputs": [
    {
     "data": {
      "text/plain": [
       "{'A': {'D', 'F', 'G'},\n",
       " 'B': {'D', 'E'},\n",
       " 'C': {'D', 'E', 'F', 'G', 'I'},\n",
       " 'D': {'A', 'B', 'C', 'E', 'F', 'H', 'I'},\n",
       " 'E': {'B', 'C', 'D', 'H'},\n",
       " 'F': {'A', 'C', 'D', 'G'},\n",
       " 'G': {'A', 'C', 'F', 'H'},\n",
       " 'H': {'D', 'E', 'G'},\n",
       " 'I': {'C', 'D', 'E'}}"
      ]
     },
     "execution_count": 3,
     "metadata": {},
     "output_type": "execute_result"
    }
   ],
   "source": [
    "graph_name = \"graph_powerlaw_cluster_graph_n9\"\n",
    "\n",
    "graph = {}\n",
    "with open(os.path.join(graphs_dir, f\"{graph_name}.txt\"), \"r\") as f:\n",
    "    line = f.readline()\n",
    "    while line:\n",
    "        node_edges = line.split()\n",
    "        node = node_edges[0]        \n",
    "        edges = node_edges[1:]\n",
    "        graph[node] = set(edges)\n",
    "        line = f.readline()\n",
    "\n",
    "graph"
   ]
  },
  {
   "cell_type": "code",
   "execution_count": 4,
   "id": "0fe1a282-5370-4941-b977-497d82625230",
   "metadata": {},
   "outputs": [],
   "source": [
    "nodes = list(graph.keys())\n",
    "node_positions = {v: i for i, v in enumerate(nodes)}"
   ]
  },
  {
   "cell_type": "code",
   "execution_count": 5,
   "id": "ba7defd8-1fe2-48eb-bc35-132c4cd49da2",
   "metadata": {},
   "outputs": [
    {
     "name": "stdout",
     "output_type": "stream",
     "text": [
      "Degree of all nodes (starting from 0):\n"
     ]
    },
    {
     "data": {
      "text/plain": [
       "{'A': 3, 'B': 2, 'C': 5, 'D': 7, 'E': 4, 'F': 4, 'G': 4, 'H': 3, 'I': 3}"
      ]
     },
     "execution_count": 5,
     "metadata": {},
     "output_type": "execute_result"
    }
   ],
   "source": [
    "degree_of_nodes = {n: len(graph[n]) for n in nodes}\n",
    "\n",
    "print(\"Degree of all nodes (starting from 0):\")\n",
    "degree_of_nodes # start from 0"
   ]
  },
  {
   "cell_type": "code",
   "execution_count": 6,
   "id": "a8564a0d-fdf1-46ff-aea4-e9298f325a95",
   "metadata": {},
   "outputs": [
    {
     "name": "stdout",
     "output_type": "stream",
     "text": [
      "No. of Configurations: 1152000\n"
     ]
    }
   ],
   "source": [
    "configurations = {\n",
    "    tuple([0 for i in range(len(nodes))])\n",
    "}\n",
    "# perturb each state at a time for all states in configurations and accumulate the same in the configurations for next state to perturb\n",
    "for n in nodes:\n",
    "    node_pos = node_positions[n]\n",
    "    config_copy = copy.deepcopy(configurations)\n",
    "    for i in range(1, degree_of_nodes[n]+1):\n",
    "        for cc in config_copy:\n",
    "            cc = list(cc)\n",
    "            cc[node_pos] = i\n",
    "            configurations.add(tuple(cc))\n",
    "\n",
    "print(\"No. of Configurations:\", len(configurations))"
   ]
  },
  {
   "cell_type": "code",
   "execution_count": 7,
   "id": "970d96c6-a5db-457d-8be3-8f607dd1cc2d",
   "metadata": {},
   "outputs": [
    {
     "name": "stdout",
     "output_type": "stream",
     "text": [
      "Invariants and Count of Invariants:\n"
     ]
    },
    {
     "data": {
      "text/plain": [
       "64944"
      ]
     },
     "execution_count": 7,
     "metadata": {},
     "output_type": "execute_result"
    }
   ],
   "source": [
    "invariants = set()\n",
    "for state in configurations:\n",
    "    all_paths = combinations(range(len(state)), 2)\n",
    "    for src, dest in all_paths:\n",
    "        src_node, dest_node = nodes[src], nodes[dest]\n",
    "        src_color, dest_color = state[src], state[dest]\n",
    "        if dest_node in graph[src_node] and src_color == dest_color:\n",
    "            # found same color node between neighbors\n",
    "            break\n",
    "    else:\n",
    "        invariants.add(state)\n",
    "\n",
    "print(\"Invariants and Count of Invariants:\")\n",
    "len(invariants)"
   ]
  },
  {
   "cell_type": "code",
   "execution_count": 8,
   "id": "136354f5-a4bc-4716-93f3-606dfc803375",
   "metadata": {},
   "outputs": [],
   "source": [
    "program_transitions_rank = {}\n",
    "for inv in invariants:\n",
    "    program_transitions_rank[inv] = {\"L\": 0, \"C\": 1, \"A\": 0, \"Ar\": 0, \"M\": 0}"
   ]
  },
  {
   "cell_type": "code",
   "execution_count": 9,
   "id": "d00bfc85-f433-446b-bb3d-8732ceba7d7a",
   "metadata": {},
   "outputs": [],
   "source": [
    "def find_min_possible_color(colors):\n",
    "    for i in range(len(colors)+1):\n",
    "        if i not in colors:\n",
    "            return i"
   ]
  },
  {
   "cell_type": "code",
   "execution_count": 10,
   "id": "f3153bb0-847b-49b9-9a12-79407e37664c",
   "metadata": {},
   "outputs": [],
   "source": [
    "def is_different_color(color, other_colors):\n",
    "    \"\"\"\n",
    "    return True if \"color\" is different from all \"other_colors\"\n",
    "    \"\"\"\n",
    "    for c in other_colors:\n",
    "        if color == c:\n",
    "            return False\n",
    "    return True"
   ]
  },
  {
   "cell_type": "code",
   "execution_count": 11,
   "id": "94daffff-063c-486c-9471-8f75bc3561d3",
   "metadata": {},
   "outputs": [],
   "source": [
    "def is_program_transition(perturb_pos, start_state, dest_state):\n",
    "    if start_state in invariants and dest_state in invariants:\n",
    "        return False\n",
    "\n",
    "    node = nodes[perturb_pos]\n",
    "    neighbor_pos = [node_positions[n] for n in graph[node]]\n",
    "    neighbor_colors = set(dest_state[i] for i in neighbor_pos)\n",
    "    min_color = find_min_possible_color(neighbor_colors)\n",
    "    return dest_state[perturb_pos] == min_color"
   ]
  },
  {
   "cell_type": "code",
   "execution_count": 12,
   "id": "dbfa6c62-c510-490f-8eb9-47accc1267d5",
   "metadata": {},
   "outputs": [],
   "source": [
    "def generate_random_samples(population, k):\n",
    "    N = copy.deepcopy(population)\n",
    "    random.shuffle(N)\n",
    "    indx = 0\n",
    "    samples = []\n",
    "    while k > 0 and N:\n",
    "        sampled_indx = random.randint(0, len(N[indx])-1)\n",
    "        samples.append(N[indx].pop(sampled_indx))\n",
    "        \n",
    "        if not N[indx]: # all elements popped for this list\n",
    "            N.pop(indx)\n",
    "            if N:\n",
    "                indx = indx % len(N)\n",
    "        else:\n",
    "            indx = (indx + 1)%len(N)\n",
    "\n",
    "        if indx == 0 and len(N) > 1:\n",
    "            random.shuffle(N)\n",
    "\n",
    "        k -= 1\n",
    "\n",
    "    return samples"
   ]
  },
  {
   "cell_type": "code",
   "execution_count": 23,
   "id": "b320d198-f8be-4a9b-ba31-62eeb5d5f994",
   "metadata": {},
   "outputs": [],
   "source": [
    "def get_program_transitions(start_state):\n",
    "    program_transitions = []\n",
    "    pt_per_node = []\n",
    "    for position, val in enumerate(start_state):\n",
    "        # check if node already has different color among the neighbors => If yes => no need to perturb that node's value\n",
    "        node = nodes[position]\n",
    "        neighbor_pos = [node_positions[n] for n in graph[node]]\n",
    "        neighbor_colors = set(start_state[i] for i in neighbor_pos)\n",
    "        if is_different_color(val, neighbor_colors):\n",
    "            continue\n",
    "        \n",
    "        # if the current node's color is not different among the neighbors => search for the program transitions possible\n",
    "        possible_node_colors = set(range(degree_of_nodes[nodes[position]]+1)) - {start_state[position]}\n",
    "        for perturb_val in possible_node_colors:\n",
    "            perturb_state = list(start_state)\n",
    "            perturb_state[position] = perturb_val\n",
    "            perturb_state = tuple(perturb_state)\n",
    "            if is_program_transition(position, start_state, perturb_state):\n",
    "                pt_per_node.append(perturb_state)\n",
    "\n",
    "        if pt_per_node:\n",
    "            program_transitions.append(pt_per_node)\n",
    "            pt_per_node = []\n",
    "\n",
    "    result = generate_random_samples(program_transitions, K_sampling)\n",
    "    return {\"program_transitions\": set(result)}\n",
    "\n",
    "# get_program_transitions((0,0,0,0))"
   ]
  },
  {
   "cell_type": "code",
   "execution_count": 14,
   "id": "6dc6043c-1271-4c34-87de-e5026d93dd84",
   "metadata": {},
   "outputs": [],
   "source": [
    "def get_cvfs(start_state):\n",
    "    cvfs_in = dict()\n",
    "    cvfs_out = dict()\n",
    "    for position, _ in enumerate(start_state):\n",
    "        possible_node_colors = set(range(degree_of_nodes[nodes[position]]+1)) - {start_state[position]}\n",
    "        for perturb_val in possible_node_colors:\n",
    "            perturb_state = list(start_state)\n",
    "            perturb_state[position] = perturb_val\n",
    "            perturb_state = tuple(perturb_state)\n",
    "            if start_state in invariants:\n",
    "                cvfs_in[perturb_state] = position # track the nodes to calculate its overall rank effect\n",
    "            else:\n",
    "                cvfs_out[perturb_state] = position\n",
    "    return {\"cvfs_in\": cvfs_in, \"cvfs_out\": cvfs_out}"
   ]
  },
  {
   "cell_type": "code",
   "execution_count": 15,
   "id": "2c468fa0-cefa-4b84-8d5e-e1983cab3f63",
   "metadata": {},
   "outputs": [],
   "source": [
    "program_transitions_n_cvf = {}\n",
    "\n",
    "for state in configurations:\n",
    "    program_transitions_n_cvf[state] = {**get_program_transitions(state), **get_cvfs(state)}"
   ]
  },
  {
   "cell_type": "code",
   "execution_count": 16,
   "id": "758d3339-f8a3-44f8-bde8-7522bc371e1a",
   "metadata": {},
   "outputs": [
    {
     "name": "stdout",
     "output_type": "stream",
     "text": [
      "Unranked states for Program transitions: 1087056\n"
     ]
    }
   ],
   "source": [
    "unranked_states = set(program_transitions_n_cvf.keys()) - set(program_transitions_rank.keys())\n",
    "print(\"Unranked states for Program transitions:\", len(unranked_states))"
   ]
  },
  {
   "cell_type": "code",
   "execution_count": 17,
   "id": "3cd05efb-742b-451c-9e55-1c97551641c9",
   "metadata": {},
   "outputs": [],
   "source": [
    "# rank the states that has all the paths to the ranked one\n",
    "while unranked_states:\n",
    "    ranked_states = set(program_transitions_rank.keys())\n",
    "    remove_from_unranked_states = set()\n",
    "    for state in unranked_states:\n",
    "        dests = program_transitions_n_cvf[state]['program_transitions']\n",
    "        if dests - ranked_states:       # some desitnations states are yet to be ranked\n",
    "            pass\n",
    "        else:                           # all the destination has been ranked\n",
    "            total_path_length = 0\n",
    "            path_count = 0\n",
    "            _max = 0\n",
    "            for succ in dests:\n",
    "                path_count += program_transitions_rank[succ][\"C\"]\n",
    "                total_path_length += program_transitions_rank[succ][\"L\"] + program_transitions_rank[succ][\"C\"]\n",
    "                _max = max(_max, program_transitions_rank[succ][\"M\"])\n",
    "            program_transitions_rank[state] = {\n",
    "                \"L\": total_path_length,\n",
    "                \"C\": path_count,\n",
    "                \"A\": total_path_length/path_count,\n",
    "                \"Ar\": math.ceil(total_path_length/path_count),\n",
    "                \"M\": _max + 1\n",
    "            }\n",
    "            remove_from_unranked_states.add(state)\n",
    "    unranked_states -= remove_from_unranked_states"
   ]
  },
  {
   "cell_type": "code",
   "execution_count": 18,
   "id": "92b8db36-1be0-48ec-ae03-4c05a7473cd5",
   "metadata": {},
   "outputs": [],
   "source": [
    "pt_rank_effect = {}\n",
    "\n",
    "for state, pt_cvfs in program_transitions_n_cvf.items():\n",
    "    for pt in pt_cvfs['program_transitions']:\n",
    "        pt_rank_effect[(state, pt)] = {\n",
    "            \"Ar\": program_transitions_rank[pt][\"Ar\"] - program_transitions_rank[state][\"Ar\"],\n",
    "            \"M\": program_transitions_rank[pt][\"M\"] - program_transitions_rank[state][\"M\"]\n",
    "        }"
   ]
  },
  {
   "cell_type": "markdown",
   "id": "dd89300a-669d-4e51-ad97-6bea02878599",
   "metadata": {},
   "source": [
    "# Rank count"
   ]
  },
  {
   "cell_type": "code",
   "execution_count": 19,
   "id": "fb8e5bc2-2bc7-42aa-af0d-a23e39084233",
   "metadata": {},
   "outputs": [],
   "source": [
    "pt_rank_ = []\n",
    "for state in program_transitions_rank:\n",
    "    pt_rank_.append({\"state\": state, **program_transitions_rank[state]})\n",
    "\n",
    "pt_rank_df = pd.DataFrame(pt_rank_)"
   ]
  },
  {
   "cell_type": "code",
   "execution_count": 20,
   "id": "896ad920-607e-48fe-a0aa-6e4eb908a4a3",
   "metadata": {},
   "outputs": [],
   "source": [
    "pt_avg_counts = pt_rank_df['Ar'].value_counts()\n",
    "pt_max_counts = pt_rank_df['M'].value_counts()"
   ]
  },
  {
   "cell_type": "code",
   "execution_count": 21,
   "id": "c875e260-93fa-41d5-8480-45b91fe4d7e7",
   "metadata": {},
   "outputs": [],
   "source": [
    "fieldnames = [\"Rank\", \"Count (Max)\", \"Count (Avg)\"]\n",
    "with open(os.path.join(results_dir, f\"rank_partial_{graph_name}.csv\"), \"w\", newline=\"\") as f:\n",
    "    writer = csv.DictWriter(f, fieldnames=fieldnames)\n",
    "    writer.writeheader()\n",
    "\n",
    "    for rank in sorted(set(pt_avg_counts.index)|set(pt_max_counts.index)):\n",
    "        writer.writerow({\"Rank\": rank, \"Count (Max)\": pt_max_counts.get(rank, 0), \"Count (Avg)\": pt_avg_counts.get(rank, 0)})"
   ]
  },
  {
   "cell_type": "markdown",
   "id": "a04fe139-3f88-4e56-b712-69167245f6a8",
   "metadata": {},
   "source": [
    "# Rank Effect Count"
   ]
  },
  {
   "cell_type": "code",
   "execution_count": null,
   "id": "2dfc24da-b0ce-403a-b5ef-4274bc878035",
   "metadata": {},
   "outputs": [],
   "source": []
  }
 ],
 "metadata": {
  "kernelspec": {
   "display_name": "Python 3 (ipykernel)",
   "language": "python",
   "name": "python3"
  },
  "language_info": {
   "codemirror_mode": {
    "name": "ipython",
    "version": 3
   },
   "file_extension": ".py",
   "mimetype": "text/x-python",
   "name": "python",
   "nbconvert_exporter": "python",
   "pygments_lexer": "ipython3",
   "version": "3.12.2"
  }
 },
 "nbformat": 4,
 "nbformat_minor": 5
}
