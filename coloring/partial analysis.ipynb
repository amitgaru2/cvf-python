{
 "cells": [
  {
   "cell_type": "code",
   "execution_count": 1,
   "id": "60dddb4c-e19b-4adb-bc43-a502cdaaedbf",
   "metadata": {},
   "outputs": [
    {
     "name": "stderr",
     "output_type": "stream",
     "text": [
      "C:\\Users\\amitg\\AppData\\Local\\Temp\\ipykernel_16840\\455751299.py:6: DeprecationWarning: \n",
      "Pyarrow will become a required dependency of pandas in the next major release of pandas (pandas 3.0),\n",
      "(to allow more performant data types, such as the Arrow string type, and better interoperability with other libraries)\n",
      "but was not found to be installed on your system.\n",
      "If this would cause problems for you,\n",
      "please provide us feedback at https://github.com/pandas-dev/pandas/issues/54466\n",
      "        \n",
      "  import pandas as pd\n"
     ]
    }
   ],
   "source": [
    "import os\n",
    "import csv\n",
    "import copy\n",
    "import math\n",
    "\n",
    "import pandas as pd\n",
    "\n",
    "from itertools import combinations"
   ]
  },
  {
   "cell_type": "code",
   "execution_count": 2,
   "id": "4e0b67b5-4db5-41af-a8e6-9ec8a1a0bd7a",
   "metadata": {},
   "outputs": [],
   "source": [
    "graphs_dir = \"graphs\"\n",
    "results_dir = \"results\""
   ]
  },
  {
   "cell_type": "code",
   "execution_count": 3,
   "id": "edd4cde5-27ff-4687-9828-9ef65d314176",
   "metadata": {},
   "outputs": [
    {
     "data": {
      "text/plain": [
       "{'A': {'B', 'C', 'D'}, 'B': {'A'}, 'C': {'A'}, 'D': {'A'}}"
      ]
     },
     "execution_count": 3,
     "metadata": {},
     "output_type": "execute_result"
    }
   ],
   "source": [
    "graph_name = \"graph\"\n",
    "\n",
    "graph = {}\n",
    "with open(os.path.join(graphs_dir, f\"{graph_name}.txt\"), \"r\") as f:\n",
    "    line = f.readline()\n",
    "    while line:\n",
    "        node_edges = line.split()\n",
    "        node = node_edges[0]        \n",
    "        edges = node_edges[1:]\n",
    "        graph[node] = set(edges)\n",
    "        line = f.readline()\n",
    "\n",
    "graph"
   ]
  },
  {
   "cell_type": "code",
   "execution_count": 4,
   "id": "0fe1a282-5370-4941-b977-497d82625230",
   "metadata": {},
   "outputs": [],
   "source": [
    "nodes = list(graph.keys())\n",
    "node_positions = {v: i for i, v in enumerate(nodes)}"
   ]
  },
  {
   "cell_type": "code",
   "execution_count": 5,
   "id": "ba7defd8-1fe2-48eb-bc35-132c4cd49da2",
   "metadata": {},
   "outputs": [
    {
     "name": "stdout",
     "output_type": "stream",
     "text": [
      "Degree of all nodes (starting from 0):\n"
     ]
    },
    {
     "data": {
      "text/plain": [
       "{'A': 3, 'B': 1, 'C': 1, 'D': 1}"
      ]
     },
     "execution_count": 5,
     "metadata": {},
     "output_type": "execute_result"
    }
   ],
   "source": [
    "# max_degree = max(len(graph[n]) for n in nodes)\n",
    "# degree_of_nodes = {n: max_degree for n in nodes}\n",
    "\n",
    "degree_of_nodes = {n: len(graph[n]) for n in nodes}\n",
    "\n",
    "print(\"Degree of all nodes (starting from 0):\")\n",
    "degree_of_nodes # start from 0"
   ]
  },
  {
   "cell_type": "code",
   "execution_count": 6,
   "id": "a8564a0d-fdf1-46ff-aea4-e9298f325a95",
   "metadata": {},
   "outputs": [
    {
     "name": "stdout",
     "output_type": "stream",
     "text": [
      "No. of Configurations: 32\n"
     ]
    }
   ],
   "source": [
    "configurations = {\n",
    "    tuple([0 for i in range(len(nodes))])\n",
    "}\n",
    "# perturb each state at a time for all states in configurations and accumulate the same in the configurations for next state to perturb\n",
    "for n in nodes:\n",
    "    node_pos = node_positions[n]\n",
    "    config_copy = copy.deepcopy(configurations)\n",
    "    for i in range(1, degree_of_nodes[n]+1):\n",
    "        for cc in config_copy:\n",
    "            cc = list(cc)\n",
    "            cc[node_pos] = i\n",
    "            configurations.add(tuple(cc))\n",
    "\n",
    "print(\"No. of Configurations:\", len(configurations))"
   ]
  },
  {
   "cell_type": "code",
   "execution_count": 7,
   "id": "970d96c6-a5db-457d-8be3-8f607dd1cc2d",
   "metadata": {},
   "outputs": [
    {
     "name": "stdout",
     "output_type": "stream",
     "text": [
      "Invariants and Count of Invariants:\n"
     ]
    },
    {
     "data": {
      "text/plain": [
       "18"
      ]
     },
     "execution_count": 7,
     "metadata": {},
     "output_type": "execute_result"
    }
   ],
   "source": [
    "invariants = set()\n",
    "for state in configurations:\n",
    "    all_paths = combinations(range(len(state)), 2)\n",
    "    for src, dest in all_paths:\n",
    "        src_node, dest_node = nodes[src], nodes[dest]\n",
    "        src_color, dest_color = state[src], state[dest]\n",
    "        if dest_node in graph[src_node] and src_color == dest_color:\n",
    "            # found same color node between neighbors\n",
    "            break\n",
    "    else:\n",
    "        invariants.add(state)\n",
    "\n",
    "print(\"Invariants and Count of Invariants:\")\n",
    "len(invariants)"
   ]
  },
  {
   "cell_type": "code",
   "execution_count": 8,
   "id": "136354f5-a4bc-4716-93f3-606dfc803375",
   "metadata": {},
   "outputs": [],
   "source": [
    "program_transitions_rank = {}\n",
    "for inv in invariants:\n",
    "    program_transitions_rank[inv] = {\"L\": 0, \"C\": 1, \"A\": 0, \"Ar\": 0, \"M\": 0}"
   ]
  },
  {
   "cell_type": "code",
   "execution_count": 9,
   "id": "d00bfc85-f433-446b-bb3d-8732ceba7d7a",
   "metadata": {},
   "outputs": [],
   "source": [
    "def find_min_possible_color(colors):\n",
    "    for i in range(len(colors)+1):\n",
    "        if i not in colors:\n",
    "            return i"
   ]
  },
  {
   "cell_type": "code",
   "execution_count": 10,
   "id": "f3153bb0-847b-49b9-9a12-79407e37664c",
   "metadata": {},
   "outputs": [],
   "source": [
    "def is_different_color(color, other_colors):\n",
    "    \"\"\"\n",
    "    return True if \"color\" is different from all \"other_colors\"\n",
    "    \"\"\"\n",
    "    for c in other_colors:\n",
    "        if color == c:\n",
    "            return False\n",
    "    return True"
   ]
  },
  {
   "cell_type": "code",
   "execution_count": 11,
   "id": "94daffff-063c-486c-9471-8f75bc3561d3",
   "metadata": {},
   "outputs": [],
   "source": [
    "def is_program_transition(perturb_pos, start_state, dest_state):\n",
    "    if start_state in invariants and dest_state in invariants:\n",
    "        return False\n",
    "\n",
    "    node = nodes[perturb_pos]\n",
    "    neighbor_pos = [node_positions[n] for n in graph[node]]\n",
    "    neighbor_colors = set(dest_state[i] for i in neighbor_pos)\n",
    "    min_color = find_min_possible_color(neighbor_colors)\n",
    "    return dest_state[perturb_pos] == min_color"
   ]
  },
  {
   "cell_type": "code",
   "execution_count": 12,
   "id": "b320d198-f8be-4a9b-ba31-62eeb5d5f994",
   "metadata": {},
   "outputs": [],
   "source": [
    "def get_program_transitions(start_state):\n",
    "    program_transitions = set()\n",
    "    for position, val in enumerate(start_state):\n",
    "        # check if node already has different color among the neighbors => If yes => no need to perturb that node's value\n",
    "        node = nodes[position]\n",
    "        neighbor_pos = [node_positions[n] for n in graph[node]]\n",
    "        neighbor_colors = set(start_state[i] for i in neighbor_pos)\n",
    "        if is_different_color(val, neighbor_colors):\n",
    "            continue\n",
    "        \n",
    "        # if the current node's color is not different among the neighbors => search for the program transitions possible\n",
    "        possible_node_colors = set(range(degree_of_nodes[nodes[position]]+1))\n",
    "        for perturb_val in possible_node_colors:\n",
    "            perturb_state = list(start_state)\n",
    "            perturb_state[position] = perturb_val\n",
    "            perturb_state = tuple(perturb_state)\n",
    "            if perturb_state != start_state:\n",
    "                if is_program_transition(position, start_state, perturb_state):\n",
    "                    program_transitions.add(perturb_state)\n",
    "    return {\"program_transitions\": program_transitions}"
   ]
  },
  {
   "cell_type": "code",
   "execution_count": 13,
   "id": "6dc6043c-1271-4c34-87de-e5026d93dd84",
   "metadata": {},
   "outputs": [],
   "source": [
    "def get_cvfs(start_state):\n",
    "    cvfs_in = dict()\n",
    "    cvfs_out = dict()\n",
    "    for position, _ in enumerate(start_state):\n",
    "        possible_node_colors = set(range(degree_of_nodes[nodes[position]]+1))\n",
    "        for perturb_val in possible_node_colors:\n",
    "            perturb_state = list(start_state)\n",
    "            perturb_state[position] = perturb_val\n",
    "            perturb_state = tuple(perturb_state)\n",
    "            if perturb_state != start_state:\n",
    "                if start_state in invariants:\n",
    "                    cvfs_in[perturb_state] = position # track the nodes to calculate its overall rank effect\n",
    "                else:\n",
    "                    cvfs_out[perturb_state] = position\n",
    "    return {\"cvfs_in\": cvfs_in, \"cvfs_out\": cvfs_out}"
   ]
  },
  {
   "cell_type": "code",
   "execution_count": 14,
   "id": "2c468fa0-cefa-4b84-8d5e-e1983cab3f63",
   "metadata": {},
   "outputs": [],
   "source": [
    "program_transitions_n_cvf = {}\n",
    "\n",
    "for state in configurations:\n",
    "    program_transitions_n_cvf[state] = {**get_program_transitions(state), **get_cvfs(state)}"
   ]
  },
  {
   "cell_type": "code",
   "execution_count": 15,
   "id": "758d3339-f8a3-44f8-bde8-7522bc371e1a",
   "metadata": {},
   "outputs": [
    {
     "name": "stdout",
     "output_type": "stream",
     "text": [
      "Unranked states for Program transitions: 14\n"
     ]
    }
   ],
   "source": [
    "unranked_states = set(program_transitions_n_cvf.keys()) - set(program_transitions_rank.keys())\n",
    "print(\"Unranked states for Program transitions:\", len(unranked_states))"
   ]
  },
  {
   "cell_type": "code",
   "execution_count": 16,
   "id": "3cd05efb-742b-451c-9e55-1c97551641c9",
   "metadata": {},
   "outputs": [],
   "source": [
    "# rank the states that has all the paths to the ranked one\n",
    "while unranked_states:\n",
    "    ranked_states = set(program_transitions_rank.keys())\n",
    "    remove_from_unranked_states = set()\n",
    "    for state in unranked_states:\n",
    "        dests = program_transitions_n_cvf[state]['program_transitions']\n",
    "        if dests - ranked_states:       # some desitnations states are yet to be ranked\n",
    "            pass\n",
    "        else:                           # all the destination has been ranked\n",
    "            total_path_length = 0\n",
    "            path_count = 0\n",
    "            _max = 0\n",
    "            for succ in dests:\n",
    "                path_count += program_transitions_rank[succ][\"C\"]\n",
    "                total_path_length += program_transitions_rank[succ][\"L\"] + program_transitions_rank[succ][\"C\"]\n",
    "                _max = max(_max, program_transitions_rank[succ][\"M\"])\n",
    "            program_transitions_rank[state] = {\n",
    "                \"L\": total_path_length,\n",
    "                \"C\": path_count,\n",
    "                \"A\": total_path_length/path_count,\n",
    "                \"Ar\": math.ceil(total_path_length/path_count),\n",
    "                \"M\": _max + 1\n",
    "            }\n",
    "            remove_from_unranked_states.add(state)\n",
    "    unranked_states -= remove_from_unranked_states"
   ]
  },
  {
   "cell_type": "code",
   "execution_count": 17,
   "id": "1d3a9a1b-0919-44a7-bfaa-0a53c84fb896",
   "metadata": {},
   "outputs": [
    {
     "data": {
      "text/plain": [
       "{(3, 0, 1, 1): {'L': 0, 'C': 1, 'A': 0, 'Ar': 0, 'M': 0},\n",
       " (3, 1, 1, 1): {'L': 0, 'C': 1, 'A': 0, 'Ar': 0, 'M': 0},\n",
       " (2, 1, 1, 0): {'L': 0, 'C': 1, 'A': 0, 'Ar': 0, 'M': 0},\n",
       " (0, 1, 1, 1): {'L': 0, 'C': 1, 'A': 0, 'Ar': 0, 'M': 0},\n",
       " (2, 0, 0, 1): {'L': 0, 'C': 1, 'A': 0, 'Ar': 0, 'M': 0},\n",
       " (3, 1, 1, 0): {'L': 0, 'C': 1, 'A': 0, 'Ar': 0, 'M': 0},\n",
       " (3, 0, 0, 1): {'L': 0, 'C': 1, 'A': 0, 'Ar': 0, 'M': 0},\n",
       " (2, 0, 0, 0): {'L': 0, 'C': 1, 'A': 0, 'Ar': 0, 'M': 0},\n",
       " (3, 0, 1, 0): {'L': 0, 'C': 1, 'A': 0, 'Ar': 0, 'M': 0},\n",
       " (3, 1, 0, 1): {'L': 0, 'C': 1, 'A': 0, 'Ar': 0, 'M': 0},\n",
       " (2, 0, 1, 1): {'L': 0, 'C': 1, 'A': 0, 'Ar': 0, 'M': 0},\n",
       " (2, 1, 0, 1): {'L': 0, 'C': 1, 'A': 0, 'Ar': 0, 'M': 0},\n",
       " (2, 1, 0, 0): {'L': 0, 'C': 1, 'A': 0, 'Ar': 0, 'M': 0},\n",
       " (3, 0, 0, 0): {'L': 0, 'C': 1, 'A': 0, 'Ar': 0, 'M': 0},\n",
       " (3, 1, 0, 0): {'L': 0, 'C': 1, 'A': 0, 'Ar': 0, 'M': 0},\n",
       " (1, 0, 0, 0): {'L': 0, 'C': 1, 'A': 0, 'Ar': 0, 'M': 0},\n",
       " (2, 1, 1, 1): {'L': 0, 'C': 1, 'A': 0, 'Ar': 0, 'M': 0},\n",
       " (2, 0, 1, 0): {'L': 0, 'C': 1, 'A': 0, 'Ar': 0, 'M': 0},\n",
       " (0, 1, 0, 1): {'L': 2, 'C': 2, 'A': 1.0, 'Ar': 1, 'M': 1},\n",
       " (1, 1, 0, 0): {'L': 2, 'C': 2, 'A': 1.0, 'Ar': 1, 'M': 1},\n",
       " (0, 1, 1, 0): {'L': 2, 'C': 2, 'A': 1.0, 'Ar': 1, 'M': 1},\n",
       " (1, 0, 1, 0): {'L': 2, 'C': 2, 'A': 1.0, 'Ar': 1, 'M': 1},\n",
       " (1, 0, 0, 1): {'L': 2, 'C': 2, 'A': 1.0, 'Ar': 1, 'M': 1},\n",
       " (0, 0, 1, 1): {'L': 2, 'C': 2, 'A': 1.0, 'Ar': 1, 'M': 1},\n",
       " (0, 0, 0, 1): {'L': 9, 'C': 5, 'A': 1.8, 'Ar': 2, 'M': 2},\n",
       " (0, 0, 1, 0): {'L': 9, 'C': 5, 'A': 1.8, 'Ar': 2, 'M': 2},\n",
       " (1, 0, 1, 1): {'L': 9, 'C': 5, 'A': 1.8, 'Ar': 2, 'M': 2},\n",
       " (0, 1, 0, 0): {'L': 9, 'C': 5, 'A': 1.8, 'Ar': 2, 'M': 2},\n",
       " (1, 1, 1, 0): {'L': 9, 'C': 5, 'A': 1.8, 'Ar': 2, 'M': 2},\n",
       " (1, 1, 0, 1): {'L': 9, 'C': 5, 'A': 1.8, 'Ar': 2, 'M': 2},\n",
       " (1, 1, 1, 1): {'L': 43, 'C': 16, 'A': 2.6875, 'Ar': 3, 'M': 3},\n",
       " (0, 0, 0, 0): {'L': 43, 'C': 16, 'A': 2.6875, 'Ar': 3, 'M': 3}}"
      ]
     },
     "execution_count": 17,
     "metadata": {},
     "output_type": "execute_result"
    }
   ],
   "source": [
    "program_transitions_rank"
   ]
  },
  {
   "cell_type": "code",
   "execution_count": null,
   "id": "92b8db36-1be0-48ec-ae03-4c05a7473cd5",
   "metadata": {},
   "outputs": [],
   "source": []
  }
 ],
 "metadata": {
  "kernelspec": {
   "display_name": "Python 3 (ipykernel)",
   "language": "python",
   "name": "python3"
  },
  "language_info": {
   "codemirror_mode": {
    "name": "ipython",
    "version": 3
   },
   "file_extension": ".py",
   "mimetype": "text/x-python",
   "name": "python",
   "nbconvert_exporter": "python",
   "pygments_lexer": "ipython3",
   "version": "3.12.2"
  }
 },
 "nbformat": 4,
 "nbformat_minor": 5
}
