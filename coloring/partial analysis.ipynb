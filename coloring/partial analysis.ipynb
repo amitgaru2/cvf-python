{
 "cells": [
  {
   "cell_type": "code",
   "execution_count": 1,
   "id": "60dddb4c-e19b-4adb-bc43-a502cdaaedbf",
   "metadata": {},
   "outputs": [
    {
     "name": "stderr",
     "output_type": "stream",
     "text": [
      "C:\\Users\\amitg\\AppData\\Local\\Temp\\ipykernel_16216\\2917558309.py:7: DeprecationWarning: \n",
      "Pyarrow will become a required dependency of pandas in the next major release of pandas (pandas 3.0),\n",
      "(to allow more performant data types, such as the Arrow string type, and better interoperability with other libraries)\n",
      "but was not found to be installed on your system.\n",
      "If this would cause problems for you,\n",
      "please provide us feedback at https://github.com/pandas-dev/pandas/issues/54466\n",
      "        \n",
      "  import pandas as pd\n"
     ]
    }
   ],
   "source": [
    "import os\n",
    "import csv\n",
    "import copy\n",
    "import math\n",
    "import random\n",
    "\n",
    "import pandas as pd\n",
    "\n",
    "from itertools import combinations"
   ]
  },
  {
   "cell_type": "code",
   "execution_count": 2,
   "id": "4e0b67b5-4db5-41af-a8e6-9ec8a1a0bd7a",
   "metadata": {},
   "outputs": [],
   "source": [
    "graphs_dir = \"graphs\"\n",
    "results_dir = \"results\""
   ]
  },
  {
   "cell_type": "code",
   "execution_count": 3,
   "id": "2facd467-3d59-42ed-933c-8bcc375e677f",
   "metadata": {},
   "outputs": [],
   "source": [
    "K_sampling = 12"
   ]
  },
  {
   "cell_type": "code",
   "execution_count": 4,
   "id": "edd4cde5-27ff-4687-9828-9ef65d314176",
   "metadata": {},
   "outputs": [
    {
     "data": {
      "text/plain": [
       "{'A': {'D'},\n",
       " 'B': {'D', 'E'},\n",
       " 'C': {'D', 'E'},\n",
       " 'D': {'A', 'B', 'C', 'E'},\n",
       " 'E': {'B', 'C', 'D'}}"
      ]
     },
     "execution_count": 4,
     "metadata": {},
     "output_type": "execute_result"
    }
   ],
   "source": [
    "graph_name = \"graph_powerlaw_cluster_graph_n5\"\n",
    "\n",
    "graph = {}\n",
    "with open(os.path.join(graphs_dir, f\"{graph_name}.txt\"), \"r\") as f:\n",
    "    line = f.readline()\n",
    "    while line:\n",
    "        node_edges = line.split()\n",
    "        node = node_edges[0]        \n",
    "        edges = node_edges[1:]\n",
    "        graph[node] = set(edges)\n",
    "        line = f.readline()\n",
    "\n",
    "graph"
   ]
  },
  {
   "cell_type": "code",
   "execution_count": 5,
   "id": "0fe1a282-5370-4941-b977-497d82625230",
   "metadata": {},
   "outputs": [],
   "source": [
    "nodes = list(graph.keys())\n",
    "node_positions = {v: i for i, v in enumerate(nodes)}"
   ]
  },
  {
   "cell_type": "code",
   "execution_count": 6,
   "id": "ba7defd8-1fe2-48eb-bc35-132c4cd49da2",
   "metadata": {},
   "outputs": [
    {
     "name": "stdout",
     "output_type": "stream",
     "text": [
      "Degree of all nodes (starting from 0):\n"
     ]
    },
    {
     "data": {
      "text/plain": [
       "{'A': 1, 'B': 2, 'C': 2, 'D': 4, 'E': 3}"
      ]
     },
     "execution_count": 6,
     "metadata": {},
     "output_type": "execute_result"
    }
   ],
   "source": [
    "degree_of_nodes = {n: len(graph[n]) for n in nodes}\n",
    "\n",
    "print(\"Degree of all nodes (starting from 0):\")\n",
    "degree_of_nodes # start from 0"
   ]
  },
  {
   "cell_type": "code",
   "execution_count": 7,
   "id": "a8564a0d-fdf1-46ff-aea4-e9298f325a95",
   "metadata": {},
   "outputs": [
    {
     "name": "stdout",
     "output_type": "stream",
     "text": [
      "No. of Configurations: 360\n"
     ]
    }
   ],
   "source": [
    "configurations = {\n",
    "    tuple([0 for i in range(len(nodes))])\n",
    "}\n",
    "# perturb each state at a time for all states in configurations and accumulate the same in the configurations for next state to perturb\n",
    "for n in nodes:\n",
    "    node_pos = node_positions[n]\n",
    "    config_copy = copy.deepcopy(configurations)\n",
    "    for i in range(1, degree_of_nodes[n]+1):\n",
    "        for cc in config_copy:\n",
    "            cc = list(cc)\n",
    "            cc[node_pos] = i\n",
    "            configurations.add(tuple(cc))\n",
    "\n",
    "print(\"No. of Configurations:\", len(configurations))"
   ]
  },
  {
   "cell_type": "code",
   "execution_count": 8,
   "id": "970d96c6-a5db-457d-8be3-8f607dd1cc2d",
   "metadata": {},
   "outputs": [
    {
     "name": "stdout",
     "output_type": "stream",
     "text": [
      "Invariants and Count of Invariants:\n"
     ]
    },
    {
     "data": {
      "text/plain": [
       "90"
      ]
     },
     "execution_count": 8,
     "metadata": {},
     "output_type": "execute_result"
    }
   ],
   "source": [
    "invariants = set()\n",
    "for state in configurations:\n",
    "    all_paths = combinations(range(len(state)), 2)\n",
    "    for src, dest in all_paths:\n",
    "        src_node, dest_node = nodes[src], nodes[dest]\n",
    "        src_color, dest_color = state[src], state[dest]\n",
    "        if dest_node in graph[src_node] and src_color == dest_color:\n",
    "            # found same color node between neighbors\n",
    "            break\n",
    "    else:\n",
    "        invariants.add(state)\n",
    "\n",
    "print(\"Invariants and Count of Invariants:\")\n",
    "len(invariants)"
   ]
  },
  {
   "cell_type": "code",
   "execution_count": 9,
   "id": "136354f5-a4bc-4716-93f3-606dfc803375",
   "metadata": {},
   "outputs": [],
   "source": [
    "program_transitions_rank = {}\n",
    "for inv in invariants:\n",
    "    program_transitions_rank[inv] = {\"L\": 0, \"C\": 1, \"A\": 0, \"Ar\": 0, \"M\": 0}"
   ]
  },
  {
   "cell_type": "code",
   "execution_count": 10,
   "id": "d00bfc85-f433-446b-bb3d-8732ceba7d7a",
   "metadata": {},
   "outputs": [],
   "source": [
    "def find_min_possible_color(colors):\n",
    "    for i in range(len(colors)+1):\n",
    "        if i not in colors:\n",
    "            return i"
   ]
  },
  {
   "cell_type": "code",
   "execution_count": 11,
   "id": "f3153bb0-847b-49b9-9a12-79407e37664c",
   "metadata": {},
   "outputs": [],
   "source": [
    "def is_different_color(color, other_colors):\n",
    "    \"\"\"\n",
    "    return True if \"color\" is different from all \"other_colors\"\n",
    "    \"\"\"\n",
    "    for c in other_colors:\n",
    "        if color == c:\n",
    "            return False\n",
    "    return True"
   ]
  },
  {
   "cell_type": "code",
   "execution_count": 12,
   "id": "94daffff-063c-486c-9471-8f75bc3561d3",
   "metadata": {},
   "outputs": [],
   "source": [
    "def is_program_transition(perturb_pos, start_state, dest_state):\n",
    "    if start_state in invariants and dest_state in invariants:\n",
    "        return False\n",
    "\n",
    "    node = nodes[perturb_pos]\n",
    "    neighbor_pos = [node_positions[n] for n in graph[node]]\n",
    "    neighbor_colors = set(dest_state[i] for i in neighbor_pos)\n",
    "    min_color = find_min_possible_color(neighbor_colors)\n",
    "    return dest_state[perturb_pos] == min_color"
   ]
  },
  {
   "cell_type": "code",
   "execution_count": 13,
   "id": "dbfa6c62-c510-490f-8eb9-47accc1267d5",
   "metadata": {},
   "outputs": [],
   "source": [
    "def generate_random_samples(population, k):\n",
    "    N = copy.deepcopy(population)\n",
    "    random.shuffle(N)\n",
    "    indx = 0\n",
    "    samples = []\n",
    "    while k > 0 and N:\n",
    "        sampled_indx = random.randint(0, len(N[indx])-1)\n",
    "        samples.append(N[indx].pop(sampled_indx))\n",
    "        \n",
    "        if not N[indx]: # all elements popped for this list\n",
    "            N.pop(indx)\n",
    "            if N:\n",
    "                indx = indx % len(N)\n",
    "        else:\n",
    "            indx = (indx + 1)%len(N)\n",
    "\n",
    "        if indx == 0 and len(N) > 1:\n",
    "            random.shuffle(N)\n",
    "\n",
    "        k -= 1\n",
    "\n",
    "    return samples"
   ]
  },
  {
   "cell_type": "code",
   "execution_count": 14,
   "id": "b320d198-f8be-4a9b-ba31-62eeb5d5f994",
   "metadata": {},
   "outputs": [],
   "source": [
    "def get_program_transitions(start_state):\n",
    "    program_transitions = []\n",
    "    pt_per_node = []\n",
    "    for position, val in enumerate(start_state):\n",
    "        # check if node already has different color among the neighbors => If yes => no need to perturb that node's value\n",
    "        node = nodes[position]\n",
    "        neighbor_pos = [node_positions[n] for n in graph[node]]\n",
    "        neighbor_colors = set(start_state[i] for i in neighbor_pos)\n",
    "        if is_different_color(val, neighbor_colors):\n",
    "            continue\n",
    "        \n",
    "        # if the current node's color is not different among the neighbors => search for the program transitions possible\n",
    "        possible_node_colors = set(range(degree_of_nodes[nodes[position]]+1)) - {start_state[position]}\n",
    "        for perturb_val in possible_node_colors:\n",
    "            perturb_state = list(start_state)\n",
    "            perturb_state[position] = perturb_val\n",
    "            perturb_state = tuple(perturb_state)\n",
    "            if is_program_transition(position, start_state, perturb_state):\n",
    "                pt_per_node.append(perturb_state)\n",
    "\n",
    "        if pt_per_node:\n",
    "            program_transitions.append(pt_per_node)\n",
    "            pt_per_node = []\n",
    "\n",
    "    result = generate_random_samples(program_transitions, K_sampling)\n",
    "    return {\"program_transitions\": set(result)}\n",
    "\n",
    "# get_program_transitions((0,0,0,0))"
   ]
  },
  {
   "cell_type": "code",
   "execution_count": 15,
   "id": "6dc6043c-1271-4c34-87de-e5026d93dd84",
   "metadata": {},
   "outputs": [],
   "source": [
    "def get_cvfs(start_state):\n",
    "    def _flat_list_to_dict(lst):\n",
    "        result = {}\n",
    "        for item in lst:\n",
    "            result[item[0]] = item[1]\n",
    "        return result\n",
    "\n",
    "    cvfs_in = []\n",
    "    cvfs_out = []\n",
    "    cvfs_in_per_node = []\n",
    "    cvfs_out_per_node = []\n",
    "    for position, _ in enumerate(start_state):\n",
    "        possible_node_colors = set(range(degree_of_nodes[nodes[position]]+1)) - {start_state[position]}\n",
    "        for perturb_val in possible_node_colors:\n",
    "            perturb_state = list(start_state)\n",
    "            perturb_state[position] = perturb_val\n",
    "            perturb_state = tuple(perturb_state)\n",
    "            if start_state in invariants:\n",
    "                cvfs_in_per_node.append((perturb_state, position))\n",
    "                # cvfs_in[perturb_state] = position # track the nodes to calculate its overall rank effect\n",
    "            else:\n",
    "                cvfs_out_per_node.append((perturb_state, position))\n",
    "                # cvfs_out[perturb_state] = position\n",
    "    \n",
    "        if cvfs_in_per_node:\n",
    "            cvfs_in.append(cvfs_in_per_node)\n",
    "            cvfs_in_per_node = []\n",
    "\n",
    "        if cvfs_out_per_node:\n",
    "            cvfs_out.append(cvfs_out_per_node)\n",
    "            cvfs_out_per_node = []\n",
    "\n",
    "        result_cvfs_in = _flat_list_to_dict(generate_random_samples(cvfs_in, K_sampling))\n",
    "        result_cvfs_out = _flat_list_to_dict(generate_random_samples(cvfs_out, K_sampling))\n",
    "            \n",
    "    return {\"cvfs_in\": result_cvfs_in, \"cvfs_out\": result_cvfs_out}"
   ]
  },
  {
   "cell_type": "code",
   "execution_count": 16,
   "id": "2c468fa0-cefa-4b84-8d5e-e1983cab3f63",
   "metadata": {},
   "outputs": [],
   "source": [
    "program_transitions_n_cvf = {}\n",
    "\n",
    "for state in configurations:\n",
    "    program_transitions_n_cvf[state] = {**get_program_transitions(state), **get_cvfs(state)}"
   ]
  },
  {
   "cell_type": "code",
   "execution_count": 17,
   "id": "758d3339-f8a3-44f8-bde8-7522bc371e1a",
   "metadata": {},
   "outputs": [
    {
     "name": "stdout",
     "output_type": "stream",
     "text": [
      "Unranked states for Program transitions: 270\n"
     ]
    }
   ],
   "source": [
    "unranked_states = set(program_transitions_n_cvf.keys()) - set(program_transitions_rank.keys())\n",
    "print(\"Unranked states for Program transitions:\", len(unranked_states))"
   ]
  },
  {
   "cell_type": "code",
   "execution_count": 18,
   "id": "3cd05efb-742b-451c-9e55-1c97551641c9",
   "metadata": {},
   "outputs": [],
   "source": [
    "# rank the states that has all the paths to the ranked one\n",
    "while unranked_states:\n",
    "    ranked_states = set(program_transitions_rank.keys())\n",
    "    remove_from_unranked_states = set()\n",
    "    for state in unranked_states:\n",
    "        dests = program_transitions_n_cvf[state]['program_transitions']\n",
    "        if dests - ranked_states:       # some desitnations states are yet to be ranked\n",
    "            pass\n",
    "        else:                           # all the destination has been ranked\n",
    "            total_path_length = 0\n",
    "            path_count = 0\n",
    "            _max = 0\n",
    "            for succ in dests:\n",
    "                path_count += program_transitions_rank[succ][\"C\"]\n",
    "                total_path_length += program_transitions_rank[succ][\"L\"] + program_transitions_rank[succ][\"C\"]\n",
    "                _max = max(_max, program_transitions_rank[succ][\"M\"])\n",
    "            program_transitions_rank[state] = {\n",
    "                \"L\": total_path_length,\n",
    "                \"C\": path_count,\n",
    "                \"A\": total_path_length/path_count,\n",
    "                \"Ar\": math.ceil(total_path_length/path_count),\n",
    "                \"M\": _max + 1\n",
    "            }\n",
    "            remove_from_unranked_states.add(state)\n",
    "    unranked_states -= remove_from_unranked_states"
   ]
  },
  {
   "cell_type": "code",
   "execution_count": 19,
   "id": "92b8db36-1be0-48ec-ae03-4c05a7473cd5",
   "metadata": {},
   "outputs": [],
   "source": [
    "pt_rank_effect = {}\n",
    "\n",
    "for state, pt_cvfs in program_transitions_n_cvf.items():\n",
    "    for pt in pt_cvfs['program_transitions']:\n",
    "        pt_rank_effect[(state, pt)] = {\n",
    "            \"Ar\": program_transitions_rank[pt][\"Ar\"] - program_transitions_rank[state][\"Ar\"],\n",
    "            \"M\": program_transitions_rank[pt][\"M\"] - program_transitions_rank[state][\"M\"]\n",
    "        }"
   ]
  },
  {
   "cell_type": "code",
   "execution_count": 20,
   "id": "da55fc20-227d-4db5-a453-146a218b0b05",
   "metadata": {},
   "outputs": [],
   "source": [
    "cvfs_in_rank_effect = {}\n",
    "cvfs_out_rank_effect = {}\n",
    "\n",
    "for state, pt_cvfs in program_transitions_n_cvf.items():\n",
    "    for cvf, node in pt_cvfs['cvfs_in'].items():\n",
    "        cvfs_in_rank_effect[(state, cvf)] = {\n",
    "            \"node\": node,\n",
    "            \"Ar\": program_transitions_rank[cvf][\"Ar\"] - program_transitions_rank[state][\"Ar\"],\n",
    "            \"M\": program_transitions_rank[cvf][\"M\"] - program_transitions_rank[state][\"M\"]\n",
    "        }\n",
    "    for cvf, node in pt_cvfs['cvfs_out'].items():\n",
    "        cvfs_out_rank_effect[(state, cvf)] = {\n",
    "            \"node\": node,\n",
    "            \"Ar\": program_transitions_rank[cvf][\"Ar\"] - program_transitions_rank[state][\"Ar\"],\n",
    "            \"M\": program_transitions_rank[cvf][\"M\"] - program_transitions_rank[state][\"M\"]\n",
    "        }"
   ]
  },
  {
   "cell_type": "markdown",
   "id": "dd89300a-669d-4e51-ad97-6bea02878599",
   "metadata": {},
   "source": [
    "# Rank count"
   ]
  },
  {
   "cell_type": "code",
   "execution_count": 21,
   "id": "fb8e5bc2-2bc7-42aa-af0d-a23e39084233",
   "metadata": {},
   "outputs": [],
   "source": [
    "pt_rank_ = []\n",
    "for state in program_transitions_rank:\n",
    "    pt_rank_.append({\"state\": state, **program_transitions_rank[state]})\n",
    "\n",
    "pt_rank_df = pd.DataFrame(pt_rank_)"
   ]
  },
  {
   "cell_type": "code",
   "execution_count": 22,
   "id": "896ad920-607e-48fe-a0aa-6e4eb908a4a3",
   "metadata": {},
   "outputs": [],
   "source": [
    "pt_avg_counts = pt_rank_df['Ar'].value_counts()\n",
    "pt_max_counts = pt_rank_df['M'].value_counts()"
   ]
  },
  {
   "cell_type": "code",
   "execution_count": 23,
   "id": "c875e260-93fa-41d5-8480-45b91fe4d7e7",
   "metadata": {},
   "outputs": [],
   "source": [
    "fieldnames = [\"Rank\", \"Count (Max)\", \"Count (Avg)\"]\n",
    "with open(os.path.join(results_dir, f\"rank_partial_{graph_name}.csv\"), \"w\", newline=\"\") as f:\n",
    "    writer = csv.DictWriter(f, fieldnames=fieldnames)\n",
    "    writer.writeheader()\n",
    "\n",
    "    for rank in sorted(set(pt_avg_counts.index)|set(pt_max_counts.index)):\n",
    "        writer.writerow({\"Rank\": rank, \"Count (Max)\": pt_max_counts.get(rank, 0), \"Count (Avg)\": pt_avg_counts.get(rank, 0)})"
   ]
  },
  {
   "cell_type": "markdown",
   "id": "a04fe139-3f88-4e56-b712-69167245f6a8",
   "metadata": {},
   "source": [
    "# Rank Effect Count"
   ]
  },
  {
   "cell_type": "code",
   "execution_count": 24,
   "id": "937d7e2c-88c0-47ca-96c3-3cbc042f3f6e",
   "metadata": {},
   "outputs": [],
   "source": [
    "pt_rank_effect_ = []\n",
    "for state in pt_rank_effect:\n",
    "    pt_rank_effect_.append({\"state\": state, **pt_rank_effect[state]})\n",
    "\n",
    "pt_rank_effect_df = pd.DataFrame(pt_rank_effect_)"
   ]
  },
  {
   "cell_type": "code",
   "execution_count": 25,
   "id": "50da85ff-47ff-49e7-a1cb-6d4dd8b1fdfe",
   "metadata": {},
   "outputs": [],
   "source": [
    "cvfs_in_rank_effect_ = []\n",
    "for state in cvfs_in_rank_effect:\n",
    "    cvfs_in_rank_effect_.append({\"state\": state, **cvfs_in_rank_effect[state]})\n",
    "    \n",
    "cvfs_in_rank_effect_df = pd.DataFrame(cvfs_in_rank_effect_)"
   ]
  },
  {
   "cell_type": "code",
   "execution_count": 26,
   "id": "9949dfe3-e6ac-4c68-8d8c-bf1708d04373",
   "metadata": {},
   "outputs": [],
   "source": [
    "cvfs_out_rank_effect_ = []\n",
    "for state in cvfs_out_rank_effect:\n",
    "    cvfs_out_rank_effect_.append({\"state\": state, **cvfs_out_rank_effect[state]})\n",
    "\n",
    "cvfs_out_rank_effect_df = pd.DataFrame(cvfs_out_rank_effect_)"
   ]
  },
  {
   "cell_type": "code",
   "execution_count": 27,
   "id": "c140d238-ff2b-49a0-88c1-7fd7716de9db",
   "metadata": {},
   "outputs": [],
   "source": [
    "pt_avg_counts = pt_rank_effect_df['Ar'].value_counts()\n",
    "pt_max_counts = pt_rank_effect_df['M'].value_counts()\n",
    "cvf_in_avg_counts = cvfs_in_rank_effect_df['Ar'].value_counts()\n",
    "cvf_in_max_counts = cvfs_in_rank_effect_df['M'].value_counts()\n",
    "cvf_out_avg_counts = cvfs_out_rank_effect_df['Ar'].value_counts()\n",
    "cvf_out_max_counts = cvfs_out_rank_effect_df['M'].value_counts()"
   ]
  },
  {
   "cell_type": "code",
   "execution_count": 28,
   "id": "19807053-fb89-4a42-a7c0-1d6280e21e50",
   "metadata": {},
   "outputs": [],
   "source": [
    "fieldnames = [\"Rank Effect\", \"PT (Max)\", \"PT (Avg)\", \"CVF In (Max)\", \"CVF In (Avg)\", \"CVF Out (Max)\", \"CVF Out (Avg)\"]\n",
    "with open(os.path.join(results_dir, f\"rank_effect_partial_{graph_name}.csv\"), \"w\", newline=\"\") as f:\n",
    "    writer = csv.DictWriter(f, fieldnames=fieldnames)\n",
    "    writer.writeheader()\n",
    "\n",
    "    for re in sorted(\n",
    "        set(pt_avg_counts.index) |\n",
    "        set(pt_max_counts.index) |\n",
    "        set(cvf_in_avg_counts.index) |\n",
    "        set(cvf_in_max_counts.index) |\n",
    "        set(cvf_out_avg_counts.index) |\n",
    "        set(cvf_out_max_counts.index)\n",
    "    ):\n",
    "        writer.writerow({\n",
    "            \"Rank Effect\": re,\n",
    "            \"PT (Max)\": pt_max_counts.get(re, 0),\n",
    "            \"PT (Avg)\": pt_avg_counts.get(re, 0),\n",
    "            \"CVF In (Max)\": cvf_in_max_counts.get(re, 0),\n",
    "            \"CVF In (Avg)\": cvf_in_avg_counts.get(re, 0),\n",
    "            \"CVF Out (Max)\": cvf_out_max_counts.get(re, 0),\n",
    "            \"CVF Out (Avg)\": cvf_out_avg_counts.get(re, 0),\n",
    "        })"
   ]
  },
  {
   "cell_type": "markdown",
   "id": "97a4af46-d4ab-4b79-bbb4-f90d5a104409",
   "metadata": {},
   "source": [
    "# Rank Effect of Individual Nodes"
   ]
  },
  {
   "cell_type": "code",
   "execution_count": 29,
   "id": "d4d313f3-56f1-4778-ab17-1c1c5958e8da",
   "metadata": {},
   "outputs": [],
   "source": [
    "cvf_in_avg_counts_by_node = cvfs_in_rank_effect_df.groupby(['node', 'Ar'])['Ar'].count()\n",
    "cvf_in_max_counts_by_node = cvfs_in_rank_effect_df.groupby(['node', 'M'])['M'].count()\n",
    "cvf_out_avg_counts_by_node = cvfs_out_rank_effect_df.groupby(['node', 'Ar'])['Ar'].count()\n",
    "cvf_out_max_counts_by_node = cvfs_out_rank_effect_df.groupby(['node', 'M'])['M'].count()"
   ]
  },
  {
   "cell_type": "code",
   "execution_count": 30,
   "id": "cfa93df5-69dd-4b2b-8991-5b73dd421751",
   "metadata": {},
   "outputs": [
    {
     "data": {
      "text/plain": [
       "(3, -3, 3, -3, 3, -3)"
      ]
     },
     "execution_count": 30,
     "metadata": {},
     "output_type": "execute_result"
    }
   ],
   "source": [
    "max_Ar = max(cvfs_in_rank_effect_df['Ar'].max(), cvfs_out_rank_effect_df['Ar'].max())\n",
    "min_Ar = min(cvfs_in_rank_effect_df['Ar'].min(), cvfs_out_rank_effect_df['Ar'].min())\n",
    "\n",
    "max_M = max(cvfs_in_rank_effect_df['M'].max(), cvfs_out_rank_effect_df['M'].max())\n",
    "min_M = min(cvfs_in_rank_effect_df['M'].min(), cvfs_out_rank_effect_df['M'].min())\n",
    "\n",
    "max_Ar_M = max(max_Ar, max_M)\n",
    "min_Ar_M = min(min_Ar, min_M)\n",
    "\n",
    "max_Ar, min_Ar, max_M, min_M, max_Ar_M, min_Ar_M"
   ]
  },
  {
   "cell_type": "code",
   "execution_count": 31,
   "id": "3f4da24b-6d39-4c6f-8e5f-70425efed1ee",
   "metadata": {},
   "outputs": [],
   "source": [
    "# rank effect of individual node\n",
    "fieldnames = [\"Node\", \"Rank Effect\", \"CVF In (Max)\", \"CVF In (Avg)\", \"CVF Out (Max)\", \"CVF Out (Avg)\"]\n",
    "with open(os.path.join(results_dir, f\"rank_effect_by_node_partial_{graph_name}.csv\"), \"w\", newline=\"\") as f:\n",
    "    writer = csv.DictWriter(f, fieldnames=fieldnames)\n",
    "    writer.writeheader()\n",
    "\n",
    "    for node in nodes:\n",
    "        for rank_effect in range(min_Ar_M, max_Ar_M+1):\n",
    "            node_re = (node_positions[node], rank_effect)\n",
    "            writer.writerow({\n",
    "                \"Node\": node,\n",
    "                \"Rank Effect\": rank_effect,\n",
    "                \"CVF In (Max)\": cvf_in_max_counts_by_node.get(node_re, 0),\n",
    "                \"CVF In (Avg)\": cvf_in_avg_counts_by_node.get(node_re, 0),\n",
    "                \"CVF Out (Max)\": cvf_out_max_counts_by_node.get(node_re, 0),\n",
    "                \"CVF Out (Avg)\": cvf_out_avg_counts_by_node.get(node_re, 0),\n",
    "            })"
   ]
  },
  {
   "cell_type": "code",
   "execution_count": null,
   "id": "b022a65f-b7b4-400a-aab4-06c9264e7fd0",
   "metadata": {},
   "outputs": [],
   "source": []
  }
 ],
 "metadata": {
  "kernelspec": {
   "display_name": "Python 3 (ipykernel)",
   "language": "python",
   "name": "python3"
  },
  "language_info": {
   "codemirror_mode": {
    "name": "ipython",
    "version": 3
   },
   "file_extension": ".py",
   "mimetype": "text/x-python",
   "name": "python",
   "nbconvert_exporter": "python",
   "pygments_lexer": "ipython3",
   "version": "3.12.2"
  }
 },
 "nbformat": 4,
 "nbformat_minor": 5
}
