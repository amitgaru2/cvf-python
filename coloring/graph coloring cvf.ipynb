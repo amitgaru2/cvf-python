{
 "cells": [
  {
   "cell_type": "code",
   "execution_count": 1,
   "id": "0f835198-d227-43b9-93df-b3802a6ec3cd",
   "metadata": {},
   "outputs": [],
   "source": [
    "import os\n",
    "import csv\n",
    "import copy\n",
    "import math\n",
    "\n",
    "import pandas as pd\n",
    "\n",
    "from itertools import combinations"
   ]
  },
  {
   "cell_type": "code",
   "execution_count": 2,
   "id": "ebe2c280-bfd0-4c03-bb41-864228fcfdc2",
   "metadata": {},
   "outputs": [],
   "source": [
    "graphs_dir = \"graphs\"\n",
    "results_dir = \"results\""
   ]
  },
  {
   "cell_type": "code",
   "execution_count": 3,
   "id": "0abdc286-adec-4144-b854-cbf93244533b",
   "metadata": {},
   "outputs": [
    {
     "data": {
      "text/plain": [
       "{'A': {'B', 'C'}, 'B': {'A', 'C'}, 'C': {'A', 'B'}}"
      ]
     },
     "execution_count": 3,
     "metadata": {},
     "output_type": "execute_result"
    }
   ],
   "source": [
    "graph_name = \"graph_random_regular_graph_n3_d2\"\n",
    "\n",
    "graph = {}\n",
    "with open(os.path.join(graphs_dir, f\"{graph_name}.txt\"), \"r\") as f:\n",
    "    line = f.readline()\n",
    "    while line:\n",
    "        node_edges = line.split()\n",
    "        node = node_edges[0]        \n",
    "        edges = node_edges[1:]\n",
    "        graph[node] = set(edges)\n",
    "        line = f.readline()\n",
    "\n",
    "graph"
   ]
  },
  {
   "cell_type": "code",
   "execution_count": 4,
   "id": "af124b06-64da-41aa-baca-5b44f3550299",
   "metadata": {},
   "outputs": [],
   "source": [
    "nodes = list(graph.keys())\n",
    "node_positions = {v: i for i, v in enumerate(nodes)}\n",
    "degree_of_nodes = {n: len(graph[n]) for n in nodes}"
   ]
  },
  {
   "cell_type": "code",
   "execution_count": 5,
   "id": "d5e33ad8-d5d2-48c3-9cfd-15598a53fa08",
   "metadata": {},
   "outputs": [
    {
     "name": "stdout",
     "output_type": "stream",
     "text": [
      "Degree of all nodes (starting from 0):\n"
     ]
    },
    {
     "data": {
      "text/plain": [
       "{'A': 2, 'B': 2, 'C': 2}"
      ]
     },
     "execution_count": 5,
     "metadata": {},
     "output_type": "execute_result"
    }
   ],
   "source": [
    "max_degree = max(len(graph[n]) for n in nodes)\n",
    "degree_of_nodes = {n: max_degree for n in nodes}\n",
    "\n",
    "# degree_of_nodes = {n: len(graph[n]) for n in nodes}\n",
    "\n",
    "print(\"Degree of all nodes (starting from 0):\")\n",
    "degree_of_nodes # start from 0"
   ]
  },
  {
   "cell_type": "code",
   "execution_count": 6,
   "id": "a899267f-9f8a-4b36-b1fe-7609281a809c",
   "metadata": {},
   "outputs": [
    {
     "name": "stdout",
     "output_type": "stream",
     "text": [
      "No. of Configurations: 27\n"
     ]
    }
   ],
   "source": [
    "configurations = {\n",
    "    tuple([0 for i in range(len(nodes))])\n",
    "}\n",
    "# perturb each state at a time for all states in configurations and accumulate the same in the configurations for next state to perturb\n",
    "for n in nodes:\n",
    "    node_pos = node_positions[n]\n",
    "    config_copy = copy.deepcopy(configurations)\n",
    "    for i in range(1, degree_of_nodes[n]+1):\n",
    "        for cc in config_copy:\n",
    "            cc = list(cc)\n",
    "            cc[node_pos] = i\n",
    "            configurations.add(tuple(cc))\n",
    "\n",
    "print(\"No. of Configurations:\", len(configurations))"
   ]
  },
  {
   "cell_type": "code",
   "execution_count": 7,
   "id": "f842f8f6-5e31-4ee1-bd21-4891cc4e7718",
   "metadata": {},
   "outputs": [
    {
     "name": "stdout",
     "output_type": "stream",
     "text": [
      "Invariants and Count of Invariants:\n"
     ]
    },
    {
     "data": {
      "text/plain": [
       "({(0, 1, 2), (0, 2, 1), (1, 0, 2), (1, 2, 0), (2, 0, 1), (2, 1, 0)}, 6)"
      ]
     },
     "execution_count": 7,
     "metadata": {},
     "output_type": "execute_result"
    }
   ],
   "source": [
    "invariants = set()\n",
    "for state in configurations:\n",
    "    all_paths = combinations(range(len(state)), 2)\n",
    "    for path in all_paths:\n",
    "        source = nodes[path[0]]\n",
    "        dest = nodes[path[1]]\n",
    "        source_color = state[path[0]]\n",
    "        dest_color = state[path[1]]\n",
    "        if dest in graph[source] and source_color == dest_color:\n",
    "            # found same color node between neighbors\n",
    "            break\n",
    "    else:\n",
    "        invariants.add(state)\n",
    "\n",
    "print(\"Invariants and Count of Invariants:\")\n",
    "invariants, len(invariants)"
   ]
  },
  {
   "cell_type": "code",
   "execution_count": 8,
   "id": "983f031e-5928-4a60-b23e-dc20f2217c71",
   "metadata": {},
   "outputs": [
    {
     "name": "stdout",
     "output_type": "stream",
     "text": [
      "Program transitions rank for invariants:\n"
     ]
    },
    {
     "data": {
      "text/plain": [
       "{(0, 2, 1): {'L': 0, 'C': 1, 'A': 0, 'Ar': 0, 'M': 0},\n",
       " (1, 2, 0): {'L': 0, 'C': 1, 'A': 0, 'Ar': 0, 'M': 0},\n",
       " (2, 1, 0): {'L': 0, 'C': 1, 'A': 0, 'Ar': 0, 'M': 0},\n",
       " (2, 0, 1): {'L': 0, 'C': 1, 'A': 0, 'Ar': 0, 'M': 0},\n",
       " (0, 1, 2): {'L': 0, 'C': 1, 'A': 0, 'Ar': 0, 'M': 0},\n",
       " (1, 0, 2): {'L': 0, 'C': 1, 'A': 0, 'Ar': 0, 'M': 0}}"
      ]
     },
     "execution_count": 8,
     "metadata": {},
     "output_type": "execute_result"
    }
   ],
   "source": [
    "program_transitions_rank = {}\n",
    "for inv in invariants:\n",
    "    program_transitions_rank[inv] = {\"L\": 0, \"C\": 1, \"A\": 0, \"Ar\": 0, \"M\": 0}\n",
    "\n",
    "print(\"Program transitions rank for invariants:\")\n",
    "program_transitions_rank"
   ]
  },
  {
   "cell_type": "code",
   "execution_count": 9,
   "id": "ed3c1c99-393b-4502-b7d2-2fb196865cbb",
   "metadata": {},
   "outputs": [],
   "source": [
    "def find_min_color(colors):\n",
    "    for i in range(len(colors)+1):\n",
    "        if i not in colors:\n",
    "            return i"
   ]
  },
  {
   "cell_type": "code",
   "execution_count": 10,
   "id": "3e7fde7f-f961-43c1-8185-6048e235ee0b",
   "metadata": {},
   "outputs": [],
   "source": [
    "def is_program_transition(perturb_pos, start_state, dest_state):\n",
    "    if start_state in invariants and dest_state in invariants:\n",
    "        return False\n",
    "\n",
    "    node = nodes[perturb_pos]\n",
    "    neighbor_pos = [node_positions[n] for n in graph[node]]\n",
    "    neighbor_colors = set(dest_state[i] for i in neighbor_pos)\n",
    "    min_color = find_min_color(neighbor_colors)\n",
    "    return dest_state[perturb_pos] == min_color"
   ]
  },
  {
   "cell_type": "code",
   "execution_count": 11,
   "id": "bb8e6cf5-6045-4223-9301-4bbeeb4df77a",
   "metadata": {},
   "outputs": [],
   "source": [
    "def get_program_transitions(start_state):\n",
    "    program_transitions = set()\n",
    "    for position, val in enumerate(start_state):\n",
    "        possible_node_colors = set(range(degree_of_nodes[nodes[position]]+1))\n",
    "        for perturb_val in possible_node_colors:\n",
    "            perturb_state = list(start_state)\n",
    "            perturb_state[position] = perturb_val\n",
    "            perturb_state = tuple(perturb_state)\n",
    "            if perturb_state != start_state:\n",
    "                if is_program_transition(position, start_state, perturb_state):\n",
    "                    program_transitions.add(perturb_state)\n",
    "    return {\"program_transitions\": program_transitions}"
   ]
  },
  {
   "cell_type": "code",
   "execution_count": 12,
   "id": "96ae2f66-a78f-487e-8e01-e07436e739b3",
   "metadata": {},
   "outputs": [],
   "source": [
    "def get_cvfs(start_state):\n",
    "    cvfs_in = set()\n",
    "    cvfs_out = set()\n",
    "    for position, _ in enumerate(start_state):\n",
    "        possible_node_colors = set(range(degree_of_nodes[nodes[position]]+1))\n",
    "        for perturb_val in possible_node_colors:\n",
    "            perturb_state = list(start_state)\n",
    "            perturb_state[position] = perturb_val\n",
    "            perturb_state = tuple(perturb_state)\n",
    "            if perturb_state != start_state:\n",
    "                if start_state in invariants:\n",
    "                    cvfs_in.add(perturb_state)\n",
    "                else:\n",
    "                    cvfs_out.add(perturb_state)\n",
    "    return {\"cvfs_in\": cvfs_in, \"cvfs_out\": cvfs_out}"
   ]
  },
  {
   "cell_type": "code",
   "execution_count": 13,
   "id": "f97ddc0c-677b-4392-9192-81f91182a1a1",
   "metadata": {},
   "outputs": [
    {
     "name": "stdout",
     "output_type": "stream",
     "text": [
      "All Program transitions and CVFs:\n"
     ]
    },
    {
     "data": {
      "text/plain": [
       "{(2, 0, 2): {'program_transitions': {(1, 0, 2), (2, 0, 1)},\n",
       "  'cvfs_in': set(),\n",
       "  'cvfs_out': {(0, 0, 2),\n",
       "   (1, 0, 2),\n",
       "   (2, 0, 0),\n",
       "   (2, 0, 1),\n",
       "   (2, 1, 2),\n",
       "   (2, 2, 2)}},\n",
       " (0, 1, 0): {'program_transitions': {(0, 1, 2), (2, 1, 0)},\n",
       "  'cvfs_in': set(),\n",
       "  'cvfs_out': {(0, 0, 0),\n",
       "   (0, 1, 1),\n",
       "   (0, 1, 2),\n",
       "   (0, 2, 0),\n",
       "   (1, 1, 0),\n",
       "   (2, 1, 0)}},\n",
       " (2, 2, 2): {'program_transitions': {(0, 2, 2), (2, 0, 2), (2, 2, 0)},\n",
       "  'cvfs_in': set(),\n",
       "  'cvfs_out': {(0, 2, 2),\n",
       "   (1, 2, 2),\n",
       "   (2, 0, 2),\n",
       "   (2, 1, 2),\n",
       "   (2, 2, 0),\n",
       "   (2, 2, 1)}},\n",
       " (2, 1, 0): {'program_transitions': set(),\n",
       "  'cvfs_in': {(0, 1, 0),\n",
       "   (1, 1, 0),\n",
       "   (2, 0, 0),\n",
       "   (2, 1, 1),\n",
       "   (2, 1, 2),\n",
       "   (2, 2, 0)},\n",
       "  'cvfs_out': set()},\n",
       " (1, 2, 2): {'program_transitions': {(0, 2, 2), (1, 0, 2), (1, 2, 0)},\n",
       "  'cvfs_in': set(),\n",
       "  'cvfs_out': {(0, 2, 2),\n",
       "   (1, 0, 2),\n",
       "   (1, 1, 2),\n",
       "   (1, 2, 0),\n",
       "   (1, 2, 1),\n",
       "   (2, 2, 2)}},\n",
       " (0, 0, 1): {'program_transitions': {(0, 2, 1), (2, 0, 1)},\n",
       "  'cvfs_in': set(),\n",
       "  'cvfs_out': {(0, 0, 0),\n",
       "   (0, 0, 2),\n",
       "   (0, 1, 1),\n",
       "   (0, 2, 1),\n",
       "   (1, 0, 1),\n",
       "   (2, 0, 1)}},\n",
       " (0, 2, 1): {'program_transitions': set(),\n",
       "  'cvfs_in': {(0, 0, 1),\n",
       "   (0, 1, 1),\n",
       "   (0, 2, 0),\n",
       "   (0, 2, 2),\n",
       "   (1, 2, 1),\n",
       "   (2, 2, 1)},\n",
       "  'cvfs_out': set()},\n",
       " (1, 0, 1): {'program_transitions': {(1, 0, 2), (2, 0, 1)},\n",
       "  'cvfs_in': set(),\n",
       "  'cvfs_out': {(0, 0, 1),\n",
       "   (1, 0, 0),\n",
       "   (1, 0, 2),\n",
       "   (1, 1, 1),\n",
       "   (1, 2, 1),\n",
       "   (2, 0, 1)}},\n",
       " (1, 1, 0): {'program_transitions': {(1, 2, 0), (2, 1, 0)},\n",
       "  'cvfs_in': set(),\n",
       "  'cvfs_out': {(0, 1, 0),\n",
       "   (1, 0, 0),\n",
       "   (1, 1, 1),\n",
       "   (1, 1, 2),\n",
       "   (1, 2, 0),\n",
       "   (2, 1, 0)}},\n",
       " (2, 0, 1): {'program_transitions': set(),\n",
       "  'cvfs_in': {(0, 0, 1),\n",
       "   (1, 0, 1),\n",
       "   (2, 0, 0),\n",
       "   (2, 0, 2),\n",
       "   (2, 1, 1),\n",
       "   (2, 2, 1)},\n",
       "  'cvfs_out': set()},\n",
       " (2, 1, 2): {'program_transitions': {(0, 1, 2), (2, 0, 2), (2, 1, 0)},\n",
       "  'cvfs_in': set(),\n",
       "  'cvfs_out': {(0, 1, 2),\n",
       "   (1, 1, 2),\n",
       "   (2, 0, 2),\n",
       "   (2, 1, 0),\n",
       "   (2, 1, 1),\n",
       "   (2, 2, 2)}},\n",
       " (2, 2, 1): {'program_transitions': {(0, 2, 1), (2, 0, 1), (2, 2, 0)},\n",
       "  'cvfs_in': set(),\n",
       "  'cvfs_out': {(0, 2, 1),\n",
       "   (1, 2, 1),\n",
       "   (2, 0, 1),\n",
       "   (2, 1, 1),\n",
       "   (2, 2, 0),\n",
       "   (2, 2, 2)}},\n",
       " (0, 1, 2): {'program_transitions': set(),\n",
       "  'cvfs_in': {(0, 0, 2),\n",
       "   (0, 1, 0),\n",
       "   (0, 1, 1),\n",
       "   (0, 2, 2),\n",
       "   (1, 1, 2),\n",
       "   (2, 1, 2)},\n",
       "  'cvfs_out': set()},\n",
       " (1, 2, 1): {'program_transitions': {(0, 2, 1), (1, 0, 1), (1, 2, 0)},\n",
       "  'cvfs_in': set(),\n",
       "  'cvfs_out': {(0, 2, 1),\n",
       "   (1, 0, 1),\n",
       "   (1, 1, 1),\n",
       "   (1, 2, 0),\n",
       "   (1, 2, 2),\n",
       "   (2, 2, 1)}},\n",
       " (0, 2, 0): {'program_transitions': {(0, 1, 0), (0, 2, 1), (1, 2, 0)},\n",
       "  'cvfs_in': set(),\n",
       "  'cvfs_out': {(0, 0, 0),\n",
       "   (0, 1, 0),\n",
       "   (0, 2, 1),\n",
       "   (0, 2, 2),\n",
       "   (1, 2, 0),\n",
       "   (2, 2, 0)}},\n",
       " (0, 0, 0): {'program_transitions': {(0, 0, 1), (0, 1, 0), (1, 0, 0)},\n",
       "  'cvfs_in': set(),\n",
       "  'cvfs_out': {(0, 0, 1),\n",
       "   (0, 0, 2),\n",
       "   (0, 1, 0),\n",
       "   (0, 2, 0),\n",
       "   (1, 0, 0),\n",
       "   (2, 0, 0)}},\n",
       " (1, 1, 2): {'program_transitions': {(0, 1, 2), (1, 0, 2), (1, 1, 0)},\n",
       "  'cvfs_in': set(),\n",
       "  'cvfs_out': {(0, 1, 2),\n",
       "   (1, 0, 2),\n",
       "   (1, 1, 0),\n",
       "   (1, 1, 1),\n",
       "   (1, 2, 2),\n",
       "   (2, 1, 2)}},\n",
       " (1, 0, 0): {'program_transitions': {(1, 0, 2), (1, 2, 0)},\n",
       "  'cvfs_in': set(),\n",
       "  'cvfs_out': {(0, 0, 0),\n",
       "   (1, 0, 1),\n",
       "   (1, 0, 2),\n",
       "   (1, 1, 0),\n",
       "   (1, 2, 0),\n",
       "   (2, 0, 0)}},\n",
       " (2, 0, 0): {'program_transitions': {(1, 0, 0), (2, 0, 1), (2, 1, 0)},\n",
       "  'cvfs_in': set(),\n",
       "  'cvfs_out': {(0, 0, 0),\n",
       "   (1, 0, 0),\n",
       "   (2, 0, 1),\n",
       "   (2, 0, 2),\n",
       "   (2, 1, 0),\n",
       "   (2, 2, 0)}},\n",
       " (2, 2, 0): {'program_transitions': {(1, 2, 0), (2, 1, 0)},\n",
       "  'cvfs_in': set(),\n",
       "  'cvfs_out': {(0, 2, 0),\n",
       "   (1, 2, 0),\n",
       "   (2, 0, 0),\n",
       "   (2, 1, 0),\n",
       "   (2, 2, 1),\n",
       "   (2, 2, 2)}},\n",
       " (0, 1, 1): {'program_transitions': {(0, 1, 2), (0, 2, 1)},\n",
       "  'cvfs_in': set(),\n",
       "  'cvfs_out': {(0, 0, 1),\n",
       "   (0, 1, 0),\n",
       "   (0, 1, 2),\n",
       "   (0, 2, 1),\n",
       "   (1, 1, 1),\n",
       "   (2, 1, 1)}},\n",
       " (2, 1, 1): {'program_transitions': {(0, 1, 1), (2, 0, 1), (2, 1, 0)},\n",
       "  'cvfs_in': set(),\n",
       "  'cvfs_out': {(0, 1, 1),\n",
       "   (1, 1, 1),\n",
       "   (2, 0, 1),\n",
       "   (2, 1, 0),\n",
       "   (2, 1, 2),\n",
       "   (2, 2, 1)}},\n",
       " (1, 2, 0): {'program_transitions': set(),\n",
       "  'cvfs_in': {(0, 2, 0),\n",
       "   (1, 0, 0),\n",
       "   (1, 1, 0),\n",
       "   (1, 2, 1),\n",
       "   (1, 2, 2),\n",
       "   (2, 2, 0)},\n",
       "  'cvfs_out': set()},\n",
       " (0, 0, 2): {'program_transitions': {(0, 0, 1), (0, 1, 2), (1, 0, 2)},\n",
       "  'cvfs_in': set(),\n",
       "  'cvfs_out': {(0, 0, 0),\n",
       "   (0, 0, 1),\n",
       "   (0, 1, 2),\n",
       "   (0, 2, 2),\n",
       "   (1, 0, 2),\n",
       "   (2, 0, 2)}},\n",
       " (0, 2, 2): {'program_transitions': {(0, 1, 2), (0, 2, 1)},\n",
       "  'cvfs_in': set(),\n",
       "  'cvfs_out': {(0, 0, 2),\n",
       "   (0, 1, 2),\n",
       "   (0, 2, 0),\n",
       "   (0, 2, 1),\n",
       "   (1, 2, 2),\n",
       "   (2, 2, 2)}},\n",
       " (1, 0, 2): {'program_transitions': set(),\n",
       "  'cvfs_in': {(0, 0, 2),\n",
       "   (1, 0, 0),\n",
       "   (1, 0, 1),\n",
       "   (1, 1, 2),\n",
       "   (1, 2, 2),\n",
       "   (2, 0, 2)},\n",
       "  'cvfs_out': set()},\n",
       " (1, 1, 1): {'program_transitions': {(0, 1, 1), (1, 0, 1), (1, 1, 0)},\n",
       "  'cvfs_in': set(),\n",
       "  'cvfs_out': {(0, 1, 1),\n",
       "   (1, 0, 1),\n",
       "   (1, 1, 0),\n",
       "   (1, 1, 2),\n",
       "   (1, 2, 1),\n",
       "   (2, 1, 1)}}}"
      ]
     },
     "execution_count": 13,
     "metadata": {},
     "output_type": "execute_result"
    }
   ],
   "source": [
    "program_transitions_n_cvf = {}\n",
    "\n",
    "for state in configurations:\n",
    "    program_transitions_n_cvf[state] = {**get_program_transitions(state), **get_cvfs(state)}\n",
    "\n",
    "print(\"All Program transitions and CVFs:\")\n",
    "program_transitions_n_cvf"
   ]
  },
  {
   "cell_type": "code",
   "execution_count": 14,
   "id": "38f90235-8707-49df-b403-6f8f793978f8",
   "metadata": {},
   "outputs": [
    {
     "name": "stdout",
     "output_type": "stream",
     "text": [
      "Unranked states for Program transitions: 21\n"
     ]
    }
   ],
   "source": [
    "unranked_states = set(program_transitions_n_cvf.keys()) - set(program_transitions_rank.keys())\n",
    "print(\"Unranked states for Program transitions:\", len(unranked_states))"
   ]
  },
  {
   "cell_type": "code",
   "execution_count": 15,
   "id": "1708f79f-e68e-4a29-a234-5457b6bb0d48",
   "metadata": {},
   "outputs": [],
   "source": [
    "# rank the states that has all the paths to the ranked one\n",
    "while unranked_states:\n",
    "    ranked_states = set(program_transitions_rank.keys())\n",
    "    remove_from_unranked_states = set()\n",
    "    for state in unranked_states:\n",
    "        dests = program_transitions_n_cvf[state]['program_transitions']\n",
    "        if dests - ranked_states:       # some desitnations states are yet to be ranked\n",
    "            pass\n",
    "        else:                           # all the destination has been ranked\n",
    "            total_path_length = 0\n",
    "            path_count = 0\n",
    "            _max = 0\n",
    "            for succ in dests:\n",
    "                path_count += program_transitions_rank[succ][\"C\"]\n",
    "                total_path_length += program_transitions_rank[succ][\"L\"] + program_transitions_rank[succ][\"C\"]\n",
    "                _max = max(_max, program_transitions_rank[succ][\"M\"])\n",
    "            program_transitions_rank[state] = {\n",
    "                \"L\": total_path_length,\n",
    "                \"C\": path_count,\n",
    "                \"A\": total_path_length/path_count,\n",
    "                \"Ar\": math.ceil(total_path_length/path_count),\n",
    "                \"M\": _max + 1\n",
    "            }\n",
    "            remove_from_unranked_states.add(state)\n",
    "    unranked_states -= remove_from_unranked_states"
   ]
  },
  {
   "cell_type": "code",
   "execution_count": 16,
   "id": "5f52741a",
   "metadata": {},
   "outputs": [],
   "source": [
    "pt_rank_effect = {}\n",
    "\n",
    "for state, pt_cvfs in program_transitions_n_cvf.items():\n",
    "    for pt in pt_cvfs['program_transitions']:\n",
    "        pt_rank_effect[(state, pt)] = {\n",
    "            \"Ar\": program_transitions_rank[pt][\"Ar\"] - program_transitions_rank[state][\"Ar\"],\n",
    "            \"M\": program_transitions_rank[pt][\"M\"] - program_transitions_rank[state][\"M\"]\n",
    "        }"
   ]
  },
  {
   "cell_type": "code",
   "execution_count": 17,
   "id": "59ddd413-b2ef-4901-8585-caeceeffd852",
   "metadata": {},
   "outputs": [],
   "source": [
    "cvfs_in_rank_effect = {}\n",
    "cvfs_out_rank_effect = {}\n",
    "\n",
    "for state, pt_cvfs in program_transitions_n_cvf.items():\n",
    "    for cvf in pt_cvfs['cvfs_in']:\n",
    "        cvfs_in_rank_effect[(state, cvf)] = {\n",
    "            \"Ar\": program_transitions_rank[cvf][\"Ar\"] - program_transitions_rank[state][\"Ar\"],\n",
    "            \"M\": program_transitions_rank[cvf][\"M\"] - program_transitions_rank[state][\"M\"]\n",
    "        }\n",
    "    for cvf in pt_cvfs['cvfs_out']:\n",
    "        cvfs_out_rank_effect[(state, cvf)] = {\n",
    "            \"Ar\": program_transitions_rank[cvf][\"Ar\"] - program_transitions_rank[state][\"Ar\"],\n",
    "            \"M\": program_transitions_rank[cvf][\"M\"] - program_transitions_rank[state][\"M\"]\n",
    "        }"
   ]
  },
  {
   "cell_type": "code",
   "execution_count": 18,
   "id": "66ef52a3-259a-485a-8d53-0e564d6bd9b4",
   "metadata": {},
   "outputs": [],
   "source": [
    "pt_rank_effect_ = []\n",
    "for state in pt_rank_effect:\n",
    "    pt_rank_effect_.append({\"state\": state, **pt_rank_effect[state]})\n",
    "\n",
    "pt_rank_effect_df = pd.DataFrame(pt_rank_effect_)"
   ]
  },
  {
   "cell_type": "code",
   "execution_count": 19,
   "id": "82fb894b-2090-40e3-a814-3c6b77d62667",
   "metadata": {},
   "outputs": [],
   "source": [
    "cvfs_in_rank_effect_ = []\n",
    "for state in cvfs_in_rank_effect:\n",
    "    cvfs_in_rank_effect_.append({\"state\": state, **cvfs_in_rank_effect[state]})\n",
    "    \n",
    "cvfs_in_rank_effect_df = pd.DataFrame(cvfs_in_rank_effect_)"
   ]
  },
  {
   "cell_type": "code",
   "execution_count": 20,
   "id": "3fb05018-d31f-4336-bdb7-0578ec668eba",
   "metadata": {},
   "outputs": [],
   "source": [
    "cvfs_out_rank_effect_ = []\n",
    "for state in cvfs_out_rank_effect:\n",
    "    cvfs_out_rank_effect_.append({\"state\": state, **cvfs_out_rank_effect[state]})\n",
    "\n",
    "cvfs_out_rank_effect_df = pd.DataFrame(cvfs_out_rank_effect_)"
   ]
  },
  {
   "cell_type": "code",
   "execution_count": 21,
   "id": "cd6f6844-9f38-48f3-9cac-fe9456c82317",
   "metadata": {},
   "outputs": [],
   "source": [
    "pt_avg_counts = pt_rank_effect_df['Ar'].value_counts()\n",
    "pt_max_counts = pt_rank_effect_df['M'].value_counts()\n",
    "cvf_in_avg_counts = cvfs_in_rank_effect_df['Ar'].value_counts()\n",
    "cvf_in_max_counts = cvfs_in_rank_effect_df['M'].value_counts()\n",
    "cvf_out_avg_counts = cvfs_out_rank_effect_df['Ar'].value_counts()\n",
    "cvf_out_max_counts = cvfs_out_rank_effect_df['M'].value_counts()"
   ]
  },
  {
   "cell_type": "code",
   "execution_count": 22,
   "id": "14f713a5-b04d-4a73-beb1-c45a7c95576c",
   "metadata": {},
   "outputs": [],
   "source": [
    "fieldnames = [\"Rank Effect\", \"PT (Max)\", \"PT (Avg)\", \"CVF In (Max)\", \"CVF In (Avg)\", \"CVF Out (Max)\", \"CVF Out (Avg)\"]\n",
    "with open(os.path.join(results_dir, f\"rank_effect_{graph_name}.csv\"), \"w\", newline=\"\") as f:\n",
    "    writer = csv.DictWriter(f, fieldnames=fieldnames)\n",
    "    writer.writeheader()\n",
    "\n",
    "    for re in sorted(\n",
    "        set(pt_avg_counts.index) |\n",
    "        set(pt_max_counts.index) |\n",
    "        set(cvf_in_avg_counts.index) |\n",
    "        set(cvf_in_max_counts.index) |\n",
    "        set(cvf_out_avg_counts.index) |\n",
    "        set(cvf_out_max_counts.index)\n",
    "    ):\n",
    "        writer.writerow({\n",
    "            \"Rank Effect\": re,\n",
    "            \"PT (Max)\": pt_max_counts.get(re, 0),\n",
    "            \"PT (Avg)\": pt_avg_counts.get(re, 0),\n",
    "            \"CVF In (Max)\": cvf_in_max_counts.get(re, 0),\n",
    "            \"CVF In (Avg)\": cvf_in_avg_counts.get(re, 0),\n",
    "            \"CVF Out (Max)\": cvf_out_max_counts.get(re, 0),\n",
    "            \"CVF Out (Avg)\": cvf_out_avg_counts.get(re, 0),\n",
    "        })"
   ]
  },
  {
   "cell_type": "code",
   "execution_count": 23,
   "id": "8e221173-fb81-4401-8587-4258f9ed4197",
   "metadata": {},
   "outputs": [],
   "source": [
    "pt_rank_ = []\n",
    "for state in program_transitions_rank:\n",
    "    pt_rank_.append({\"state\": state, **program_transitions_rank[state]})\n",
    "\n",
    "pt_rank_df = pd.DataFrame(pt_rank_)"
   ]
  },
  {
   "cell_type": "code",
   "execution_count": 24,
   "id": "9c06c416-f725-43cb-8728-d4ac9a9dff5c",
   "metadata": {},
   "outputs": [],
   "source": [
    "pt_avg_counts = pt_rank_df['Ar'].value_counts()\n",
    "pt_max_counts = pt_rank_df['M'].value_counts()"
   ]
  },
  {
   "cell_type": "code",
   "execution_count": 25,
   "id": "f84b50cc-f5f6-450b-9db1-d360d8122a78",
   "metadata": {},
   "outputs": [],
   "source": [
    "fieldnames = [\"Rank\", \"Count (Max)\", \"Count (Avg)\"]\n",
    "with open(os.path.join(results_dir, f\"rank_{graph_name}.csv\"), \"w\", newline=\"\") as f:\n",
    "    writer = csv.DictWriter(f, fieldnames=fieldnames)\n",
    "    writer.writeheader()\n",
    "\n",
    "    for rank in sorted(set(pt_avg_counts.index)|set(pt_max_counts.index)):\n",
    "        writer.writerow({\"Rank\": rank, \"Count (Max)\": pt_max_counts.get(rank, 0), \"Count (Avg)\": pt_avg_counts.get(rank, 0)})"
   ]
  },
  {
   "cell_type": "code",
   "execution_count": null,
   "id": "8934f68d-b1d3-4b91-8a5e-c3c51de4cb98",
   "metadata": {},
   "outputs": [],
   "source": []
  }
 ],
 "metadata": {
  "kernelspec": {
   "display_name": "Python 3 (ipykernel)",
   "language": "python",
   "name": "python3"
  },
  "language_info": {
   "codemirror_mode": {
    "name": "ipython",
    "version": 3
   },
   "file_extension": ".py",
   "mimetype": "text/x-python",
   "name": "python",
   "nbconvert_exporter": "python",
   "pygments_lexer": "ipython3",
   "version": "3.11.6"
  }
 },
 "nbformat": 4,
 "nbformat_minor": 5
}
