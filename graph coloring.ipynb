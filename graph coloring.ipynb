{
 "cells": [
  {
   "cell_type": "code",
   "execution_count": 1,
   "id": "43213937-6393-4de4-9a40-17ca26dfbf4a",
   "metadata": {},
   "outputs": [],
   "source": [
    "import numpy as np\n",
    "import matplotlib.pyplot as plt\n",
    "\n",
    "from itertools import product, combinations"
   ]
  },
  {
   "cell_type": "code",
   "execution_count": 2,
   "id": "1b400314-5895-41b7-a47a-ee5ca72f0ab7",
   "metadata": {},
   "outputs": [],
   "source": [
    "graph = {\n",
    "    0: {1, 2, 3},\n",
    "    1: {0, 2, 3},\n",
    "    2: {0, 1, 3},\n",
    "    3: {0, 1, 2}\n",
    "}"
   ]
  },
  {
   "cell_type": "code",
   "execution_count": 3,
   "id": "865f85da-e93f-4a32-ac59-1838910efd1b",
   "metadata": {},
   "outputs": [
    {
     "data": {
      "text/plain": [
       "3"
      ]
     },
     "execution_count": 3,
     "metadata": {},
     "output_type": "execute_result"
    }
   ],
   "source": [
    "degree_of_graph = max(len(j) for i, j in graph.items())\n",
    "degree_of_graph"
   ]
  },
  {
   "cell_type": "code",
   "execution_count": 4,
   "id": "3fe19503-24e3-45af-af1f-2a633d84f935",
   "metadata": {},
   "outputs": [
    {
     "data": {
      "text/plain": [
       "{0, 1, 2, 3}"
      ]
     },
     "execution_count": 4,
     "metadata": {},
     "output_type": "execute_result"
    }
   ],
   "source": [
    "possible_node_values = set(range(degree_of_graph + 1))\n",
    "possible_node_values"
   ]
  },
  {
   "cell_type": "code",
   "execution_count": 5,
   "id": "ae0c4103-1928-4b52-8cf4-a150654edced",
   "metadata": {},
   "outputs": [],
   "source": [
    "pertubations = set(product(possible_node_values, repeat=len(graph)))\n",
    "# pertubations"
   ]
  },
  {
   "cell_type": "code",
   "execution_count": 6,
   "id": "9c2c7802-fc97-4d17-9a3a-5f2c7b67fee2",
   "metadata": {},
   "outputs": [],
   "source": [
    "def get_program_transitions_perturbations(start_state):\n",
    "    result = set()\n",
    "    for position, val in enumerate(start_state):\n",
    "        perturb_values_for_position = possible_node_values - {val}\n",
    "        for perturb_val in perturb_values_for_position:\n",
    "            perturb_state = list(start_state)\n",
    "            perturb_state[position] = perturb_val\n",
    "            result.add(tuple(perturb_state))\n",
    "    return result"
   ]
  },
  {
   "cell_type": "code",
   "execution_count": 7,
   "id": "c9bee728-f0d8-43f9-8879-da84cd54d680",
   "metadata": {},
   "outputs": [],
   "source": [
    "transition_steps_betn_perturbations = {}\n",
    "\n",
    "for perturb in pertubations:\n",
    "    transition_steps_betn_perturbations[perturb] = get_program_transitions_perturbations(perturb)\n",
    "\n",
    "# transition_steps_betn_perturbations"
   ]
  },
  {
   "cell_type": "code",
   "execution_count": 8,
   "id": "06bbd87e-42a8-4c1e-b71f-b77b0fe08c18",
   "metadata": {},
   "outputs": [],
   "source": [
    "rank_states = {0: set()}\n",
    "for state in pertubations:\n",
    "    # print(state)\n",
    "    all_paths = combinations(range(len(state)), 2)\n",
    "    for path in all_paths:\n",
    "        if path[1] in graph[path[0]] and state[path[0]] == state[path[1]]:\n",
    "            # found same color node between neighbors\n",
    "            break\n",
    "    else:\n",
    "        rank_states[0].add(state)\n",
    "            \n",
    "remaining_states_to_be_ranked = pertubations - rank_states[0]\n",
    "# rank_states"
   ]
  },
  {
   "cell_type": "code",
   "execution_count": 9,
   "id": "88efc72e-bd6a-49eb-94f4-c598840d4969",
   "metadata": {},
   "outputs": [
    {
     "name": "stdout",
     "output_type": "stream",
     "text": [
      "88\n",
      "4\n",
      "0\n"
     ]
    }
   ],
   "source": [
    "init = 0\n",
    "while remaining_states_to_be_ranked:\n",
    "    temp = set()\n",
    "    for state in rank_states[init]:\n",
    "        temp = temp.union({i for i in transition_steps_betn_perturbations[state] if i in remaining_states_to_be_ranked})\n",
    "    init += 1\n",
    "    rank_states[init] = temp\n",
    "    remaining_states_to_be_ranked = remaining_states_to_be_ranked - temp\n",
    "    print(len(remaining_states_to_be_ranked))"
   ]
  },
  {
   "cell_type": "code",
   "execution_count": 10,
   "id": "4cab3f66-751d-46e8-bbc4-23eb272677e8",
   "metadata": {},
   "outputs": [],
   "source": [
    "# rank_states"
   ]
  },
  {
   "cell_type": "code",
   "execution_count": 11,
   "id": "051e65a8-c60b-43c5-8b10-9679fa0f35bc",
   "metadata": {},
   "outputs": [],
   "source": [
    "rank_states_inverse = {j: i for i, values in rank_states.items() for j in values}\n",
    "# rank_states_inverse"
   ]
  },
  {
   "cell_type": "code",
   "execution_count": 12,
   "id": "40b60b7a-4819-498e-9b90-511a93535817",
   "metadata": {},
   "outputs": [],
   "source": [
    "cost = []\n",
    "\n",
    "for state in rank_states_inverse:\n",
    "    other_states = set(rank_states_inverse.keys()) - {state}\n",
    "    for o_state in other_states:\n",
    "        cost.append(rank_states_inverse[state] - rank_states_inverse[o_state])\n",
    "\n",
    "# cost"
   ]
  },
  {
   "cell_type": "code",
   "execution_count": 13,
   "id": "b73f154f-3480-41cf-a692-05c9cf5aa5d3",
   "metadata": {},
   "outputs": [
    {
     "data": {
      "image/png": "[encoded data removed]",
      "text/plain": [
       "<Figure size 640x480 with 1 Axes>"
      ]
     },
     "metadata": {},
     "output_type": "display_data"
    }
   ],
   "source": [
    "n, bins, patches = plt.hist(cost, bins=len(set(cost)), weights=np.ones(len(cost)) * 100 / len(cost))\n",
    "ticks = [(patch._x0 + patch._width/2) for patch in patches]\n",
    "ticklabels = sorted([i for i in set(cost)])\n",
    "plt.xticks(ticks, ticklabels)\n",
    "plt.show()"
   ]
  },
  {
   "cell_type": "code",
   "execution_count": null,
   "id": "960864e9-5937-41b4-9461-98bf0cb1450c",
   "metadata": {},
   "outputs": [],
   "source": []
  }
 ],
 "metadata": {
  "kernelspec": {
   "display_name": "Python 3 (ipykernel)",
   "language": "python",
   "name": "python3"
  },
  "language_info": {
   "codemirror_mode": {
    "name": "ipython",
    "version": 3
   },
   "file_extension": ".py",
   "mimetype": "text/x-python",
   "name": "python",
   "nbconvert_exporter": "python",
   "pygments_lexer": "ipython3",
   "version": "3.11.6"
  }
 },
 "nbformat": 4,
 "nbformat_minor": 5
}
