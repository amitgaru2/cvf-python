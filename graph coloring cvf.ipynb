{
 "cells": [
  {
   "cell_type": "code",
   "execution_count": 1,
   "id": "0f835198-d227-43b9-93df-b3802a6ec3cd",
   "metadata": {},
   "outputs": [],
   "source": [
    "import copy\n",
    "\n",
    "from itertools import combinations"
   ]
  },
  {
   "cell_type": "code",
   "execution_count": 2,
   "id": "af124b06-64da-41aa-baca-5b44f3550299",
   "metadata": {},
   "outputs": [
    {
     "name": "stdout",
     "output_type": "stream",
     "text": [
      "Graph:\n"
     ]
    },
    {
     "data": {
      "text/plain": [
       "{'A': {'B', 'C'}, 'B': {'A'}, 'C': {'A'}}"
      ]
     },
     "execution_count": 2,
     "metadata": {},
     "output_type": "execute_result"
    }
   ],
   "source": [
    "nodes = [\"A\", \"B\", \"C\"]\n",
    "node_positions = {v: i for i, v in enumerate(nodes)}\n",
    "graph = {\n",
    "    \"A\": {\"B\", \"C\"},\n",
    "    \"B\": {\"A\"},\n",
    "    \"C\": {\"A\"}\n",
    "}\n",
    "print(\"Graph:\")\n",
    "graph"
   ]
  },
  {
   "cell_type": "code",
   "execution_count": 3,
   "id": "d5e33ad8-d5d2-48c3-9cfd-15598a53fa08",
   "metadata": {},
   "outputs": [
    {
     "name": "stdout",
     "output_type": "stream",
     "text": [
      "Degree of all nodes (starting from 0):\n"
     ]
    },
    {
     "data": {
      "text/plain": [
       "{'A': 2, 'B': 1, 'C': 1}"
      ]
     },
     "execution_count": 3,
     "metadata": {},
     "output_type": "execute_result"
    }
   ],
   "source": [
    "degree_of_nodes = {n: len(graph[n]) for n in nodes}\n",
    "\n",
    "print(\"Degree of all nodes (starting from 0):\")\n",
    "degree_of_nodes # start from 0"
   ]
  },
  {
   "cell_type": "code",
   "execution_count": 4,
   "id": "a899267f-9f8a-4b36-b1fe-7609281a809c",
   "metadata": {},
   "outputs": [
    {
     "name": "stdout",
     "output_type": "stream",
     "text": [
      "All possible configurations:\n"
     ]
    },
    {
     "data": {
      "text/plain": [
       "({(0, 0, 0),\n",
       "  (0, 0, 1),\n",
       "  (0, 1, 0),\n",
       "  (0, 1, 1),\n",
       "  (1, 0, 0),\n",
       "  (1, 0, 1),\n",
       "  (1, 1, 0),\n",
       "  (1, 1, 1),\n",
       "  (2, 0, 0),\n",
       "  (2, 0, 1),\n",
       "  (2, 1, 0),\n",
       "  (2, 1, 1)},\n",
       " 12)"
      ]
     },
     "execution_count": 4,
     "metadata": {},
     "output_type": "execute_result"
    }
   ],
   "source": [
    "configurations = {\n",
    "    tuple([0 for i in range(len(nodes))])\n",
    "}\n",
    "# perturb each state at a time for all states in configurations and accumulate the same in the configurations for next state to perturb\n",
    "for n in nodes:\n",
    "    node_pos = node_positions[n]\n",
    "    config_copy = copy.deepcopy(configurations)\n",
    "    for i in range(1, degree_of_nodes[n]+1):\n",
    "        for cc in config_copy:\n",
    "            cc = list(cc)\n",
    "            cc[node_pos] = i\n",
    "            configurations.add(tuple(cc))\n",
    "            \n",
    "print(\"All possible configurations:\")\n",
    "configurations, len(configurations)"
   ]
  },
  {
   "cell_type": "code",
   "execution_count": 5,
   "id": "f842f8f6-5e31-4ee1-bd21-4891cc4e7718",
   "metadata": {},
   "outputs": [
    {
     "name": "stdout",
     "output_type": "stream",
     "text": [
      "Invariants and Count of Invariants:\n"
     ]
    },
    {
     "data": {
      "text/plain": [
       "({(0, 1, 1), (1, 0, 0), (2, 0, 0), (2, 0, 1), (2, 1, 0), (2, 1, 1)}, 6)"
      ]
     },
     "execution_count": 5,
     "metadata": {},
     "output_type": "execute_result"
    }
   ],
   "source": [
    "invariants = set()\n",
    "for state in configurations:\n",
    "    all_paths = combinations(range(len(state)), 2)\n",
    "    for path in all_paths:\n",
    "        source = nodes[path[0]]\n",
    "        dest = nodes[path[1]]\n",
    "        source_color = state[path[0]]\n",
    "        dest_color = state[path[1]]\n",
    "        if dest in graph[source] and source_color == dest_color:\n",
    "            # found same color node between neighbors\n",
    "            break\n",
    "    else:\n",
    "        invariants.add(state)\n",
    "\n",
    "print(\"Invariants and Count of Invariants:\")\n",
    "invariants, len(invariants)"
   ]
  },
  {
   "cell_type": "code",
   "execution_count": 6,
   "id": "983f031e-5928-4a60-b23e-dc20f2217c71",
   "metadata": {},
   "outputs": [
    {
     "name": "stdout",
     "output_type": "stream",
     "text": [
      "Path information (Avg rank) for invariants:\n"
     ]
    },
    {
     "data": {
      "text/plain": [
       "{(2, 1, 1): {'totalPathLength': 0, 'pathCount': 1},\n",
       " (2, 1, 0): {'totalPathLength': 0, 'pathCount': 1},\n",
       " (2, 0, 1): {'totalPathLength': 0, 'pathCount': 1},\n",
       " (1, 0, 0): {'totalPathLength': 0, 'pathCount': 1},\n",
       " (2, 0, 0): {'totalPathLength': 0, 'pathCount': 1},\n",
       " (0, 1, 1): {'totalPathLength': 0, 'pathCount': 1}}"
      ]
     },
     "execution_count": 6,
     "metadata": {},
     "output_type": "execute_result"
    }
   ],
   "source": [
    "path_information_avg_rank = {}\n",
    "for inv in invariants:\n",
    "    path_information_avg_rank[inv] = {\"totalPathLength\": 0, \"pathCount\": 1}\n",
    "\n",
    "print(\"Path information (Avg rank) for invariants:\")\n",
    "path_information_avg_rank"
   ]
  },
  {
   "cell_type": "code",
   "execution_count": 7,
   "id": "bb8e6cf5-6045-4223-9301-4bbeeb4df77a",
   "metadata": {},
   "outputs": [],
   "source": [
    "def get_program_transitions_state(start_state):\n",
    "    result = set()\n",
    "    for position, val in enumerate(start_state):\n",
    "        possible_node_colors = set(range(degree_of_nodes[nodes[position]]+1))\n",
    "        for perturb_val in possible_node_colors:\n",
    "            perturb_state = list(start_state)\n",
    "            perturb_state[position] = perturb_val\n",
    "            perturb_state = tuple(perturb_state)\n",
    "            if perturb_state != start_state:\n",
    "                result.add(perturb_state)\n",
    "    return result"
   ]
  },
  {
   "cell_type": "code",
   "execution_count": 8,
   "id": "f97ddc0c-677b-4392-9192-81f91182a1a1",
   "metadata": {},
   "outputs": [
    {
     "name": "stdout",
     "output_type": "stream",
     "text": [
      "All Program transitions:\n"
     ]
    },
    {
     "data": {
      "text/plain": [
       "({(2, 1, 1): {(0, 1, 1), (1, 1, 1), (2, 0, 1), (2, 1, 0)},\n",
       "  (1, 0, 1): {(0, 0, 1), (1, 0, 0), (1, 1, 1), (2, 0, 1)},\n",
       "  (1, 1, 0): {(0, 1, 0), (1, 0, 0), (1, 1, 1), (2, 1, 0)},\n",
       "  (0, 1, 0): {(0, 0, 0), (0, 1, 1), (1, 1, 0), (2, 1, 0)},\n",
       "  (2, 1, 0): {(0, 1, 0), (1, 1, 0), (2, 0, 0), (2, 1, 1)},\n",
       "  (0, 0, 0): {(0, 0, 1), (0, 1, 0), (1, 0, 0), (2, 0, 0)},\n",
       "  (1, 0, 0): {(0, 0, 0), (1, 0, 1), (1, 1, 0), (2, 0, 0)},\n",
       "  (2, 0, 1): {(0, 0, 1), (1, 0, 1), (2, 0, 0), (2, 1, 1)},\n",
       "  (2, 0, 0): {(0, 0, 0), (1, 0, 0), (2, 0, 1), (2, 1, 0)},\n",
       "  (0, 0, 1): {(0, 0, 0), (0, 1, 1), (1, 0, 1), (2, 0, 1)},\n",
       "  (1, 1, 1): {(0, 1, 1), (1, 0, 1), (1, 1, 0), (2, 1, 1)},\n",
       "  (0, 1, 1): {(0, 0, 1), (0, 1, 0), (1, 1, 1), (2, 1, 1)}},\n",
       " 12)"
      ]
     },
     "execution_count": 8,
     "metadata": {},
     "output_type": "execute_result"
    }
   ],
   "source": [
    "program_transitions = {}\n",
    "\n",
    "for state in configurations:\n",
    "    program_transitions[state] = get_program_transitions_state(state)\n",
    "\n",
    "print(\"All Program transitions:\")\n",
    "program_transitions, len(program_transitions)"
   ]
  },
  {
   "cell_type": "code",
   "execution_count": 9,
   "id": "38f90235-8707-49df-b403-6f8f793978f8",
   "metadata": {},
   "outputs": [
    {
     "name": "stdout",
     "output_type": "stream",
     "text": [
      "Unranked states:\n"
     ]
    },
    {
     "data": {
      "text/plain": [
       "({(0, 0, 0), (0, 0, 1), (0, 1, 0), (1, 0, 1), (1, 1, 0), (1, 1, 1)}, 6)"
      ]
     },
     "execution_count": 9,
     "metadata": {},
     "output_type": "execute_result"
    }
   ],
   "source": [
    "unranked_states = set(program_transitions.keys()) - set(path_information_avg_rank.keys())\n",
    "print(\"Unranked states:\")\n",
    "unranked_states, len(unranked_states)"
   ]
  },
  {
   "cell_type": "code",
   "execution_count": null,
   "id": "1708f79f-e68e-4a29-a234-5457b6bb0d48",
   "metadata": {},
   "outputs": [
    {
     "name": "stdout",
     "output_type": "stream",
     "text": [
      "(1, 0, 1)  destinations {(2, 0, 1), (1, 0, 0), (0, 0, 1), (1, 1, 1)}\n",
      "(1, 1, 0)  destinations {(2, 1, 0), (1, 0, 0), (1, 1, 1), (0, 1, 0)}\n",
      "(0, 1, 0)  destinations {(2, 1, 0), (0, 0, 0), (1, 1, 0), (0, 1, 1)}\n",
      "(0, 0, 0)  destinations {(1, 0, 0), (0, 0, 1), (0, 1, 0), (2, 0, 0)}\n",
      "(0, 0, 1)  destinations {(2, 0, 1), (1, 0, 1), (0, 0, 0), (0, 1, 1)}\n",
      "(1, 1, 1)  destinations {(2, 1, 1), (1, 0, 1), (1, 1, 0), (0, 1, 1)}\n",
      "remove  set()\n"
     ]
    }
   ],
   "source": [
    "# rank the states that has all the paths to the ranked one\n",
    "while unranked_states:\n",
    "    ranked_states = set(path_information_avg_rank.keys())\n",
    "    remove_from_unranked_states = set()\n",
    "    for state in unranked_states:\n",
    "        destinations = program_transitions[state]\n",
    "        print(state, \" destinations\", destinations)\n",
    "        if destinations - ranked_states:\n",
    "            pass\n",
    "        else:\n",
    "            # all the destination has been ranked\n",
    "            total_path_length = len(destinations)\n",
    "            path_count = 0\n",
    "            for succ in destinations:\n",
    "                path_count += path_information_avg_rank[succ][\"pathCount\"]\n",
    "                total_path_length += path_information_avg_rank[succ][\"totalPathLength\"]\n",
    "            path_information_avg_rank[state] = {\"totalPathLength\": total_path_length, \"pathCount\": path_count}\n",
    "            remove_from_unranked_states.add(state)\n",
    "    print(\"remove \", remove_from_unranked_states)\n",
    "    unranked_states -= remove_from_unranked_states\n",
    "    input()"
   ]
  },
  {
   "cell_type": "code",
   "execution_count": null,
   "id": "74f58d88-84c5-4ddc-b0ba-d3851e8289ef",
   "metadata": {},
   "outputs": [],
   "source": [
    "path_information_avg_rank"
   ]
  },
  {
   "cell_type": "code",
   "execution_count": null,
   "id": "59ddd413-b2ef-4901-8585-caeceeffd852",
   "metadata": {},
   "outputs": [],
   "source": []
  }
 ],
 "metadata": {
  "kernelspec": {
   "display_name": "Python 3 (ipykernel)",
   "language": "python",
   "name": "python3"
  },
  "language_info": {
   "codemirror_mode": {
    "name": "ipython",
    "version": 3
   },
   "file_extension": ".py",
   "mimetype": "text/x-python",
   "name": "python",
   "nbconvert_exporter": "python",
   "pygments_lexer": "ipython3",
   "version": "3.11.6"
  }
 },
 "nbformat": 4,
 "nbformat_minor": 5
}
