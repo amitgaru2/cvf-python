{
 "cells": [
  {
   "cell_type": "code",
   "execution_count": 1,
   "id": "0f835198-d227-43b9-93df-b3802a6ec3cd",
   "metadata": {},
   "outputs": [],
   "source": [
    "import copy\n",
    "\n",
    "import matplotlib.pyplot as plt\n",
    "\n",
    "from itertools import combinations"
   ]
  },
  {
   "cell_type": "code",
   "execution_count": 2,
   "id": "0abdc286-adec-4144-b854-cbf93244533b",
   "metadata": {},
   "outputs": [
    {
     "data": {
      "text/plain": [
       "{'A': {'D', 'E', 'F', 'G', 'H', 'I', 'J', 'K'},\n",
       " 'B': {'D'},\n",
       " 'C': {'D', 'E'},\n",
       " 'D': {'A', 'B', 'C', 'E', 'F', 'H', 'J', 'K', 'L'},\n",
       " 'E': {'A', 'C', 'D', 'F', 'G', 'H', 'I', 'J', 'K'},\n",
       " 'F': {'A', 'D', 'E', 'G'},\n",
       " 'G': {'A', 'E', 'F'},\n",
       " 'H': {'A', 'D', 'E', 'I'},\n",
       " 'I': {'A', 'E', 'H'},\n",
       " 'J': {'A', 'D', 'E', 'L'},\n",
       " 'K': {'A', 'D', 'E'},\n",
       " 'L': {'D', 'J'}}"
      ]
     },
     "execution_count": 2,
     "metadata": {},
     "output_type": "execute_result"
    }
   ],
   "source": [
    "graph = {}\n",
    "with open(\"graph_powerlaw_cluster_graph_n12.txt\", \"r\") as f:\n",
    "    line = f.readline()\n",
    "    while line:\n",
    "        node_edges = line.split()\n",
    "        node = node_edges[0]\n",
    "        edges = node_edges[1:]\n",
    "        graph[node] = set(edges)\n",
    "        line = f.readline()\n",
    "graph"
   ]
  },
  {
   "cell_type": "code",
   "execution_count": 3,
   "id": "af124b06-64da-41aa-baca-5b44f3550299",
   "metadata": {},
   "outputs": [
    {
     "name": "stdout",
     "output_type": "stream",
     "text": [
      "Graph:\n"
     ]
    },
    {
     "data": {
      "text/plain": [
       "{'A': {'D', 'E', 'F', 'G', 'H', 'I', 'J', 'K'},\n",
       " 'B': {'D'},\n",
       " 'C': {'D', 'E'},\n",
       " 'D': {'A', 'B', 'C', 'E', 'F', 'H', 'J', 'K', 'L'},\n",
       " 'E': {'A', 'C', 'D', 'F', 'G', 'H', 'I', 'J', 'K'},\n",
       " 'F': {'A', 'D', 'E', 'G'},\n",
       " 'G': {'A', 'E', 'F'},\n",
       " 'H': {'A', 'D', 'E', 'I'},\n",
       " 'I': {'A', 'E', 'H'},\n",
       " 'J': {'A', 'D', 'E', 'L'},\n",
       " 'K': {'A', 'D', 'E'},\n",
       " 'L': {'D', 'J'}}"
      ]
     },
     "execution_count": 3,
     "metadata": {},
     "output_type": "execute_result"
    }
   ],
   "source": [
    "# graph = {\n",
    "#     \"A\": {\"B\", \"C\", \"D\"},\n",
    "#     \"B\": {\"A\"},\n",
    "#     \"C\": {\"A\"},\n",
    "#     \"D\": {\"A\"}\n",
    "# }\n",
    "nodes = list(graph.keys())\n",
    "node_positions = {v: i for i, v in enumerate(nodes)}\n",
    "print(\"Graph:\")\n",
    "graph"
   ]
  },
  {
   "cell_type": "code",
   "execution_count": 4,
   "id": "d5e33ad8-d5d2-48c3-9cfd-15598a53fa08",
   "metadata": {},
   "outputs": [
    {
     "name": "stdout",
     "output_type": "stream",
     "text": [
      "Degree of all nodes (starting from 0):\n"
     ]
    },
    {
     "data": {
      "text/plain": [
       "{'A': 8,\n",
       " 'B': 1,\n",
       " 'C': 2,\n",
       " 'D': 9,\n",
       " 'E': 9,\n",
       " 'F': 4,\n",
       " 'G': 3,\n",
       " 'H': 4,\n",
       " 'I': 3,\n",
       " 'J': 4,\n",
       " 'K': 3,\n",
       " 'L': 2}"
      ]
     },
     "execution_count": 4,
     "metadata": {},
     "output_type": "execute_result"
    }
   ],
   "source": [
    "degree_of_nodes = {n: len(graph[n]) for n in nodes}\n",
    "\n",
    "print(\"Degree of all nodes (starting from 0):\")\n",
    "degree_of_nodes # start from 0"
   ]
  },
  {
   "cell_type": "code",
   "execution_count": null,
   "id": "a899267f-9f8a-4b36-b1fe-7609281a809c",
   "metadata": {},
   "outputs": [],
   "source": [
    "configurations = {\n",
    "    tuple([0 for i in range(len(nodes))])\n",
    "}\n",
    "# perturb each state at a time for all states in configurations and accumulate the same in the configurations for next state to perturb\n",
    "for n in nodes:\n",
    "    node_pos = node_positions[n]\n",
    "    config_copy = copy.deepcopy(configurations)\n",
    "    for i in range(1, degree_of_nodes[n]+1):\n",
    "        for cc in config_copy:\n",
    "            cc = list(cc)\n",
    "            cc[node_pos] = i\n",
    "            configurations.add(tuple(cc))\n",
    "            \n",
    "print(\"All possible configurations:\")\n",
    "configurations, len(configurations)"
   ]
  },
  {
   "cell_type": "code",
   "execution_count": null,
   "id": "f842f8f6-5e31-4ee1-bd21-4891cc4e7718",
   "metadata": {},
   "outputs": [],
   "source": [
    "invariants = set()\n",
    "for state in configurations:\n",
    "    all_paths = combinations(range(len(state)), 2)\n",
    "    for path in all_paths:\n",
    "        source = nodes[path[0]]\n",
    "        dest = nodes[path[1]]\n",
    "        source_color = state[path[0]]\n",
    "        dest_color = state[path[1]]\n",
    "        if dest in graph[source] and source_color == dest_color:\n",
    "            # found same color node between neighbors\n",
    "            break\n",
    "    else:\n",
    "        invariants.add(state)\n",
    "\n",
    "print(\"Invariants and Count of Invariants:\")\n",
    "invariants, len(invariants)"
   ]
  },
  {
   "cell_type": "code",
   "execution_count": null,
   "id": "983f031e-5928-4a60-b23e-dc20f2217c71",
   "metadata": {},
   "outputs": [],
   "source": [
    "program_transitions_rank = {}\n",
    "for inv in invariants:\n",
    "    program_transitions_rank[inv] = {\"L\": 0, \"C\": 1, \"A\": 0, \"Ar\": 0, \"M\": 0}\n",
    "\n",
    "print(\"Program transitions rank for invariants:\")\n",
    "program_transitions_rank"
   ]
  },
  {
   "cell_type": "code",
   "execution_count": null,
   "id": "ed3c1c99-393b-4502-b7d2-2fb196865cbb",
   "metadata": {},
   "outputs": [],
   "source": [
    "def find_min_color(colors):\n",
    "    for i in range(len(colors)+1):\n",
    "        if i not in colors:\n",
    "            return i"
   ]
  },
  {
   "cell_type": "code",
   "execution_count": null,
   "id": "3e7fde7f-f961-43c1-8185-6048e235ee0b",
   "metadata": {},
   "outputs": [],
   "source": [
    "def is_program_transition(perturb_pos, dest_state):\n",
    "    node = nodes[perturb_pos]\n",
    "    neighbor_pos = [node_positions[n] for n in graph[node]]\n",
    "    neighbor_colors = set(dest_state[i] for i in neighbor_pos)\n",
    "    min_color = find_min_color(neighbor_colors)\n",
    "    return dest_state[perturb_pos] == min_color"
   ]
  },
  {
   "cell_type": "code",
   "execution_count": null,
   "id": "bb8e6cf5-6045-4223-9301-4bbeeb4df77a",
   "metadata": {},
   "outputs": [],
   "source": [
    "def get_program_transitions_cvfs(start_state):\n",
    "    program_transitions = set()\n",
    "    cvfs = set()\n",
    "    for position, val in enumerate(start_state):\n",
    "        possible_node_colors = set(range(degree_of_nodes[nodes[position]]+1))\n",
    "        for perturb_val in possible_node_colors:\n",
    "            perturb_state = list(start_state)\n",
    "            perturb_state[position] = perturb_val\n",
    "            perturb_state = tuple(perturb_state)\n",
    "            if perturb_state != start_state:\n",
    "                if is_program_transition(position, perturb_state):\n",
    "                    program_transitions.add(perturb_state)\n",
    "                else:\n",
    "                    cvfs.add(perturb_state)\n",
    "    return {\"program_transitions\": program_transitions, \"cvfs\": cvfs}"
   ]
  },
  {
   "cell_type": "code",
   "execution_count": null,
   "id": "f97ddc0c-677b-4392-9192-81f91182a1a1",
   "metadata": {},
   "outputs": [],
   "source": [
    "program_transitions_n_cvf = {}\n",
    "\n",
    "for state in configurations:\n",
    "    program_transitions_n_cvf[state] = get_program_transitions_cvfs(state)\n",
    "\n",
    "print(\"All Program transitions and CVFs:\")\n",
    "program_transitions_n_cvf"
   ]
  },
  {
   "cell_type": "code",
   "execution_count": null,
   "id": "38f90235-8707-49df-b403-6f8f793978f8",
   "metadata": {},
   "outputs": [],
   "source": [
    "unranked_states = set(program_transitions_n_cvf.keys()) - set(program_transitions_rank.keys())\n",
    "print(\"Unranked states for Program transitions:\")\n",
    "unranked_states, len(unranked_states)"
   ]
  },
  {
   "cell_type": "code",
   "execution_count": null,
   "id": "1708f79f-e68e-4a29-a234-5457b6bb0d48",
   "metadata": {},
   "outputs": [],
   "source": [
    "# rank the states that has all the paths to the ranked one\n",
    "while unranked_states:\n",
    "    ranked_states = set(program_transitions_rank.keys())\n",
    "    remove_from_unranked_states = set()\n",
    "    for state in unranked_states:\n",
    "        dests = program_transitions_n_cvf[state]['program_transitions']\n",
    "        if dests - ranked_states:\n",
    "            pass\n",
    "        else:\n",
    "            # all the destination has been ranked\n",
    "            total_path_length = 0\n",
    "            path_count = 0\n",
    "            _max = 0\n",
    "            for succ in dests:\n",
    "                path_count += program_transitions_rank[succ][\"C\"]\n",
    "                total_path_length += program_transitions_rank[succ][\"L\"] + program_transitions_rank[succ][\"C\"]\n",
    "                _max = max(_max, program_transitions_rank[succ][\"M\"])\n",
    "            program_transitions_rank[state] = {\n",
    "                \"L\": total_path_length,\n",
    "                \"C\": path_count,\n",
    "                \"A\": total_path_length/path_count,\n",
    "                \"Ar\": round(total_path_length/path_count),\n",
    "                \"M\": _max + 1\n",
    "            }\n",
    "            remove_from_unranked_states.add(state)\n",
    "    unranked_states -= remove_from_unranked_states"
   ]
  },
  {
   "cell_type": "code",
   "execution_count": null,
   "id": "74f58d88-84c5-4ddc-b0ba-d3851e8289ef",
   "metadata": {},
   "outputs": [],
   "source": [
    "print(\"Program transitions Rank :\")\n",
    "program_transitions_rank"
   ]
  },
  {
   "cell_type": "code",
   "execution_count": null,
   "id": "59ddd413-b2ef-4901-8585-caeceeffd852",
   "metadata": {},
   "outputs": [],
   "source": [
    "cvfs_rank = {}\n",
    "for state, transition_cvfs in program_transitions_n_cvf.items():\n",
    "    for cvf in transition_cvfs['cvfs']:\n",
    "        cvfs_rank[(state, cvf)] = {\n",
    "            \"A\": program_transitions_rank[cvf][\"A\"] - program_transitions_rank[state][\"A\"],\n",
    "            \"M\": program_transitions_rank[cvf][\"M\"] - program_transitions_rank[state][\"M\"]\n",
    "        }\n",
    "        cvfs_rank[(state, cvf)][\"Ar\"] = round(cvfs_rank[(state, cvf)][\"A\"])"
   ]
  },
  {
   "cell_type": "code",
   "execution_count": null,
   "id": "c2e39838-c344-4929-9d00-d885d173caf5",
   "metadata": {},
   "outputs": [],
   "source": [
    "print(\"CVFs Rank :\")\n",
    "cvfs_rank"
   ]
  },
  {
   "cell_type": "code",
   "execution_count": null,
   "id": "2d7719e4-864e-414f-a3ee-4cfc9584dc62",
   "metadata": {},
   "outputs": [],
   "source": [
    "cvfs_avg = [i[\"Ar\"] for _, i in cvfs_rank.items()]\n",
    "cvfs_max = [i[\"M\"] for _, i in cvfs_rank.items()]\n",
    "\n",
    "cvfs_avg, cvfs_max"
   ]
  },
  {
   "cell_type": "code",
   "execution_count": null,
   "id": "ddb3b192-b14c-4869-9d46-b59dccc5e264",
   "metadata": {},
   "outputs": [],
   "source": [
    "n, bins, patches = plt.hist(cvfs_avg, bins=len(set(cvfs_avg)))\n",
    "ticks = [(patch._x0 + patch._width/2) for patch in patches]\n",
    "ticklabels = sorted([i for i in set(cvfs_avg)])\n",
    "plt.xticks(ticks, ticklabels)\n",
    "plt.show()"
   ]
  },
  {
   "cell_type": "code",
   "execution_count": null,
   "id": "a5d5737b-c086-4ce5-84b5-f8ca5bae78f5",
   "metadata": {},
   "outputs": [],
   "source": [
    "n, bins, patches = plt.hist(cvfs_max, bins=len(set(cvfs_max)))\n",
    "ticks = [(patch._x0 + patch._width/2) for patch in patches]\n",
    "ticklabels = sorted([i for i in set(cvfs_max)])\n",
    "plt.xticks(ticks, ticklabels)\n",
    "plt.show()"
   ]
  },
  {
   "cell_type": "code",
   "execution_count": null,
   "id": "b31aca63-b251-47ec-9880-96dbed3bc648",
   "metadata": {},
   "outputs": [],
   "source": []
  }
 ],
 "metadata": {
  "kernelspec": {
   "display_name": "Python 3 (ipykernel)",
   "language": "python",
   "name": "python3"
  },
  "language_info": {
   "codemirror_mode": {
    "name": "ipython",
    "version": 3
   },
   "file_extension": ".py",
   "mimetype": "text/x-python",
   "name": "python",
   "nbconvert_exporter": "python",
   "pygments_lexer": "ipython3",
   "version": "3.11.6"
  }
 },
 "nbformat": 4,
 "nbformat_minor": 5
}
