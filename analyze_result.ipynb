{
 "cells": [
  {
   "cell_type": "code",
   "execution_count": 1,
   "metadata": {},
   "outputs": [],
   "source": [
    "import pandas as pd\n",
    "import seaborn as sns\n",
    "\n",
    "from matplotlib import pyplot as plt"
   ]
  },
  {
   "cell_type": "code",
   "execution_count": 2,
   "metadata": {},
   "outputs": [],
   "source": [
    "folder = \"coloring/results/\"\n",
    "graph = \"graph\"\n",
    "\n",
    "pt_df = pd.read_csv(f\"{folder}program_transitions_{graph}.csv\")\n",
    "cvf_df = pd.read_csv(f\"{folder}cvf_{graph}.csv\")"
   ]
  },
  {
   "cell_type": "code",
   "execution_count": 3,
   "metadata": {},
   "outputs": [],
   "source": [
    "pt_avg_counts = pt_df['Ar'].value_counts()\n",
    "pt_max_counts = pt_df['M'].value_counts()\n",
    "\n",
    "cvf_avg_counts = cvf_df['Ar'].value_counts()\n",
    "cvf_max_counts = cvf_df['M'].value_counts()"
   ]
  },
  {
   "cell_type": "code",
   "execution_count": 4,
   "metadata": {},
   "outputs": [
    {
     "data": {
      "text/plain": [
       "(Ar\n",
       "  0    308\n",
       " -2    228\n",
       " -1    228\n",
       " -3      4\n",
       " Name: count, dtype: int64,\n",
       " Ar\n",
       "  0    1204\n",
       "  2     486\n",
       "  1     282\n",
       " -2     258\n",
       " -1      54\n",
       "  3      12\n",
       " -3       8\n",
       " Name: count, dtype: int64)"
      ]
     },
     "execution_count": 4,
     "metadata": {},
     "output_type": "execute_result"
    }
   ],
   "source": [
    "pt_avg_counts, cvf_avg_counts"
   ]
  },
  {
   "cell_type": "code",
   "execution_count": 8,
   "metadata": {},
   "outputs": [
    {
     "data": {
      "text/plain": [
       "Index([0, -2, -1, -3], dtype='int64', name='Ar')"
      ]
     },
     "execution_count": 8,
     "metadata": {},
     "output_type": "execute_result"
    }
   ],
   "source": [
    "pt_avg_counts.index"
   ]
  },
  {
   "cell_type": "code",
   "execution_count": 11,
   "metadata": {},
   "outputs": [
    {
     "data": {
      "text/plain": [
       "(M\n",
       " -1    276\n",
       "  0    260\n",
       " -3    124\n",
       " -2    108\n",
       " Name: count, dtype: int64,\n",
       " M\n",
       "  0    1144\n",
       "  1     336\n",
       "  3     276\n",
       "  2     222\n",
       " -3     152\n",
       " -2     114\n",
       " -1      60\n",
       " Name: count, dtype: int64)"
      ]
     },
     "execution_count": 11,
     "metadata": {},
     "output_type": "execute_result"
    }
   ],
   "source": [
    "pt_max_counts, cvf_max_counts"
   ]
  },
  {
   "cell_type": "code",
   "execution_count": null,
   "metadata": {},
   "outputs": [],
   "source": [
    "fig, axs = plt.subplots(2, 2, figsize=(10, 6),  constrained_layout=True)\n",
    "\n",
    "sns.lineplot(data=pt_avg_counts, ax=axs[0, 0])\n",
    "axs[0, 0].set(xlabel=\"Rank Effect\", ylabel=\"Count\")\n",
    "axs[0, 0].set_title(\"Program Transition Avg Effect\")\n",
    "axs[0, 0].set_yscale('log')\n",
    "\n",
    "sns.lineplot(data=pt_max_counts, ax=axs[0, 1])\n",
    "axs[0, 1].set(xlabel=\"Rank Effect\", ylabel=\"Count\")\n",
    "axs[0, 1].set_title(\"Program Transition Max Effect\")\n",
    "axs[0, 1].set_yscale('log')\n",
    "\n",
    "sns.lineplot(data=cvf_avg_counts, ax=axs[1, 0])\n",
    "axs[1, 0].set(xlabel=\"Rank Effect\", ylabel=\"Count\")\n",
    "axs[1, 0].set_title(\"CVF Avg Effect\")\n",
    "axs[1, 0].set_yscale('log')\n",
    "\n",
    "sns.lineplot(data=cvf_max_counts, ax=axs[1, 1])\n",
    "axs[1, 1].set(xlabel=\"Rank Effect\", ylabel=\"Count\")\n",
    "axs[1, 1].set_title(\"CVF Max Effect\")\n",
    "axs[1, 1].set_yscale('log')"
   ]
  },
  {
   "cell_type": "code",
   "execution_count": null,
   "metadata": {},
   "outputs": [],
   "source": []
  }
 ],
 "metadata": {
  "kernelspec": {
   "display_name": "cvf",
   "language": "python",
   "name": "python3"
  },
  "language_info": {
   "codemirror_mode": {
    "name": "ipython",
    "version": 3
   },
   "file_extension": ".py",
   "mimetype": "text/x-python",
   "name": "python",
   "nbconvert_exporter": "python",
   "pygments_lexer": "ipython3",
   "version": "3.11.6"
  }
 },
 "nbformat": 4,
 "nbformat_minor": 2
}
