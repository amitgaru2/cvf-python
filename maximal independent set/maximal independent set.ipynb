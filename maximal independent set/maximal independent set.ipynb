{
 "cells": [
  {
   "cell_type": "code",
   "execution_count": 1,
   "id": "e81b05e3-e75f-40ae-b8fc-7261a3030577",
   "metadata": {},
   "outputs": [],
   "source": [
    "import copy"
   ]
  },
  {
   "cell_type": "code",
   "execution_count": 2,
   "id": "3814371c-bf62-4784-a9f4-ebd4e48cdb4f",
   "metadata": {},
   "outputs": [
    {
     "data": {
      "text/plain": [
       "{'A': ['B'], 'B': ['A', 'C'], 'C': ['B', 'D'], 'D': ['C']}"
      ]
     },
     "execution_count": 2,
     "metadata": {},
     "output_type": "execute_result"
    }
   ],
   "source": [
    "graph_name = \"graph\"\n",
    "\n",
    "graph = {}\n",
    "with open(f\"{graph_name}.txt\", \"r\") as f:\n",
    "    line = f.readline()\n",
    "    while line:\n",
    "        node_edges = line.split()\n",
    "        node = node_edges[0]\n",
    "        edges = node_edges[1:]\n",
    "        # graph[node] = set(edges)\n",
    "        graph[node] = edges\n",
    "        line = f.readline()\n",
    "graph"
   ]
  },
  {
   "cell_type": "code",
   "execution_count": 3,
   "id": "931ef336-eced-491c-9551-5910f126fe35",
   "metadata": {},
   "outputs": [
    {
     "name": "stdout",
     "output_type": "stream",
     "text": [
      "Graph:\n"
     ]
    },
    {
     "data": {
      "text/plain": [
       "{'A': ['B'], 'B': ['A', 'C'], 'C': ['B', 'D'], 'D': ['C']}"
      ]
     },
     "execution_count": 3,
     "metadata": {},
     "output_type": "execute_result"
    }
   ],
   "source": [
    "nodes = list(graph.keys())\n",
    "node_positions = {v: i for i, v in enumerate(nodes)}\n",
    "print(\"Graph:\")\n",
    "graph"
   ]
  },
  {
   "cell_type": "code",
   "execution_count": 4,
   "id": "c502620c-f45e-434c-be31-f11d5a4a5a5c",
   "metadata": {},
   "outputs": [
    {
     "name": "stdout",
     "output_type": "stream",
     "text": [
      "Degree of all nodes (starting from 0):\n"
     ]
    },
    {
     "data": {
      "text/plain": [
       "{'A': 2, 'B': 2, 'C': 2, 'D': 2}"
      ]
     },
     "execution_count": 4,
     "metadata": {},
     "output_type": "execute_result"
    }
   ],
   "source": [
    "max_degree = max(len(graph[n]) for n in nodes)\n",
    "degree_of_nodes = {n: max_degree for n in nodes}\n",
    "\n",
    "print(\"Degree of all nodes (starting from 0):\")\n",
    "degree_of_nodes # start from 0"
   ]
  },
  {
   "cell_type": "code",
   "execution_count": 5,
   "id": "df20c544-0ec3-4b0a-b1a3-ed40df44683c",
   "metadata": {},
   "outputs": [
    {
     "name": "stdout",
     "output_type": "stream",
     "text": [
      "All possible configurations:\n"
     ]
    },
    {
     "data": {
      "text/plain": [
       "({(0, 0, 0, 0),\n",
       "  (0, 0, 0, 1),\n",
       "  (0, 0, 0, 2),\n",
       "  (0, 0, 1, 0),\n",
       "  (0, 0, 1, 1),\n",
       "  (0, 0, 1, 2),\n",
       "  (0, 0, 2, 0),\n",
       "  (0, 0, 2, 1),\n",
       "  (0, 0, 2, 2),\n",
       "  (0, 1, 0, 0),\n",
       "  (0, 1, 0, 1),\n",
       "  (0, 1, 0, 2),\n",
       "  (0, 1, 1, 0),\n",
       "  (0, 1, 1, 1),\n",
       "  (0, 1, 1, 2),\n",
       "  (0, 1, 2, 0),\n",
       "  (0, 1, 2, 1),\n",
       "  (0, 1, 2, 2),\n",
       "  (0, 2, 0, 0),\n",
       "  (0, 2, 0, 1),\n",
       "  (0, 2, 0, 2),\n",
       "  (0, 2, 1, 0),\n",
       "  (0, 2, 1, 1),\n",
       "  (0, 2, 1, 2),\n",
       "  (0, 2, 2, 0),\n",
       "  (0, 2, 2, 1),\n",
       "  (0, 2, 2, 2),\n",
       "  (1, 0, 0, 0),\n",
       "  (1, 0, 0, 1),\n",
       "  (1, 0, 0, 2),\n",
       "  (1, 0, 1, 0),\n",
       "  (1, 0, 1, 1),\n",
       "  (1, 0, 1, 2),\n",
       "  (1, 0, 2, 0),\n",
       "  (1, 0, 2, 1),\n",
       "  (1, 0, 2, 2),\n",
       "  (1, 1, 0, 0),\n",
       "  (1, 1, 0, 1),\n",
       "  (1, 1, 0, 2),\n",
       "  (1, 1, 1, 0),\n",
       "  (1, 1, 1, 1),\n",
       "  (1, 1, 1, 2),\n",
       "  (1, 1, 2, 0),\n",
       "  (1, 1, 2, 1),\n",
       "  (1, 1, 2, 2),\n",
       "  (1, 2, 0, 0),\n",
       "  (1, 2, 0, 1),\n",
       "  (1, 2, 0, 2),\n",
       "  (1, 2, 1, 0),\n",
       "  (1, 2, 1, 1),\n",
       "  (1, 2, 1, 2),\n",
       "  (1, 2, 2, 0),\n",
       "  (1, 2, 2, 1),\n",
       "  (1, 2, 2, 2),\n",
       "  (2, 0, 0, 0),\n",
       "  (2, 0, 0, 1),\n",
       "  (2, 0, 0, 2),\n",
       "  (2, 0, 1, 0),\n",
       "  (2, 0, 1, 1),\n",
       "  (2, 0, 1, 2),\n",
       "  (2, 0, 2, 0),\n",
       "  (2, 0, 2, 1),\n",
       "  (2, 0, 2, 2),\n",
       "  (2, 1, 0, 0),\n",
       "  (2, 1, 0, 1),\n",
       "  (2, 1, 0, 2),\n",
       "  (2, 1, 1, 0),\n",
       "  (2, 1, 1, 1),\n",
       "  (2, 1, 1, 2),\n",
       "  (2, 1, 2, 0),\n",
       "  (2, 1, 2, 1),\n",
       "  (2, 1, 2, 2),\n",
       "  (2, 2, 0, 0),\n",
       "  (2, 2, 0, 1),\n",
       "  (2, 2, 0, 2),\n",
       "  (2, 2, 1, 0),\n",
       "  (2, 2, 1, 1),\n",
       "  (2, 2, 1, 2),\n",
       "  (2, 2, 2, 0),\n",
       "  (2, 2, 2, 1),\n",
       "  (2, 2, 2, 2)},\n",
       " 81)"
      ]
     },
     "execution_count": 5,
     "metadata": {},
     "output_type": "execute_result"
    }
   ],
   "source": [
    "configurations = {\n",
    "    tuple([0 for i in range(len(nodes))])\n",
    "}\n",
    "# perturb each state at a time for all states in configurations and accumulate the same in the configurations for next state to perturb\n",
    "for n in nodes:\n",
    "    node_pos = node_positions[n]\n",
    "    config_copy = copy.deepcopy(configurations)\n",
    "    for i in range(1, degree_of_nodes[n]+1):\n",
    "        for cc in config_copy:\n",
    "            cc = list(cc)\n",
    "            cc[node_pos] = i\n",
    "            configurations.add(tuple(cc))\n",
    "            \n",
    "print(\"All possible configurations:\")\n",
    "configurations, len(configurations)"
   ]
  },
  {
   "cell_type": "code",
   "execution_count": null,
   "id": "f6df01d9-b0a8-4f53-8ce8-c764c53d0246",
   "metadata": {},
   "outputs": [],
   "source": []
  }
 ],
 "metadata": {
  "kernelspec": {
   "display_name": "Python 3 (ipykernel)",
   "language": "python",
   "name": "python3"
  },
  "language_info": {
   "codemirror_mode": {
    "name": "ipython",
    "version": 3
   },
   "file_extension": ".py",
   "mimetype": "text/x-python",
   "name": "python",
   "nbconvert_exporter": "python",
   "pygments_lexer": "ipython3",
   "version": "3.11.5"
  }
 },
 "nbformat": 4,
 "nbformat_minor": 5
}
