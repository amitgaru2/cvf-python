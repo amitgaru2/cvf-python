{
 "cells": [
  {
   "cell_type": "code",
   "execution_count": null,
   "id": "0f835198-d227-43b9-93df-b3802a6ec3cd",
   "metadata": {},
   "outputs": [],
   "source": [
    "import copy"
   ]
  },
  {
   "cell_type": "code",
   "execution_count": null,
   "id": "0abdc286-adec-4144-b854-cbf93244533b",
   "metadata": {},
   "outputs": [],
   "source": [
    "graph = {}\n",
    "with open(\"graph_dijkstra.txt\", \"r\") as f:\n",
    "    line = f.readline()\n",
    "    while line:\n",
    "        node_edges = line.split()\n",
    "        node = node_edges[0]\n",
    "        edges = node_edges[1:]\n",
    "        # graph[node] = set(edges)\n",
    "        graph[node] = edges\n",
    "        line = f.readline()\n",
    "graph"
   ]
  },
  {
   "cell_type": "code",
   "execution_count": null,
   "id": "af124b06-64da-41aa-baca-5b44f3550299",
   "metadata": {},
   "outputs": [],
   "source": [
    "# graph = {\n",
    "#     \"A\": {\"B\", \"C\", \"D\"},\n",
    "#     \"B\": {\"A\"},\n",
    "#     \"C\": {\"A\"},\n",
    "#     \"D\": {\"A\"}\n",
    "# }\n",
    "nodes = list(graph.keys())\n",
    "node_positions = {v: i for i, v in enumerate(nodes)}\n",
    "print(\"Graph:\")\n",
    "graph"
   ]
  },
  {
   "cell_type": "code",
   "execution_count": null,
   "id": "d5e33ad8-d5d2-48c3-9cfd-15598a53fa08",
   "metadata": {},
   "outputs": [],
   "source": [
    "degree_of_nodes = {n: 2 for n in nodes}\n",
    "\n",
    "print(\"Degree of all nodes (starting from 0):\")\n",
    "degree_of_nodes # start from 0"
   ]
  },
  {
   "cell_type": "code",
   "execution_count": null,
   "id": "a899267f-9f8a-4b36-b1fe-7609281a809c",
   "metadata": {},
   "outputs": [],
   "source": [
    "configurations = {\n",
    "    tuple([0 for i in range(len(nodes))])\n",
    "}\n",
    "# perturb each state at a time for all states in configurations and accumulate the same in the configurations for next state to perturb\n",
    "for n in nodes:\n",
    "    node_pos = node_positions[n]\n",
    "    config_copy = copy.deepcopy(configurations)\n",
    "    for i in range(1, degree_of_nodes[n]+1):\n",
    "        for cc in config_copy:\n",
    "            cc = list(cc)\n",
    "            cc[node_pos] = i\n",
    "            configurations.add(tuple(cc))\n",
    "            \n",
    "print(\"All possible configurations:\")\n",
    "configurations, len(configurations)"
   ]
  },
  {
   "cell_type": "code",
   "execution_count": null,
   "id": "0022d000",
   "metadata": {},
   "outputs": [],
   "source": [
    "def check_if_only_one_eligible_process(state):\n",
    "    \"\"\"check invariant\"\"\"\n",
    "    bottom = 0\n",
    "    top = len(state) - 1\n",
    "    eligible_nodes = 0\n",
    "    for i, node_state in enumerate(state):\n",
    "        if i == bottom:\n",
    "            if (node_state + 1) % 3 == state[i + 1]:\n",
    "                eligible_nodes += 1\n",
    "\n",
    "        elif i == top:\n",
    "            if state[i - 1] == state[0] and (state[i - 1] + 1) % 3 != node_state:\n",
    "                eligible_nodes += 1\n",
    "\n",
    "        elif (node_state + 1) % 3 == state[i - 1] or (node_state + 1) % 3 == state[\n",
    "            i + 1\n",
    "        ]:\n",
    "            eligible_nodes += 1\n",
    "\n",
    "    return eligible_nodes == 1"
   ]
  },
  {
   "cell_type": "code",
   "execution_count": null,
   "id": "f842f8f6-5e31-4ee1-bd21-4891cc4e7718",
   "metadata": {},
   "outputs": [],
   "source": [
    "invariants = set()\n",
    "for state in configurations:\n",
    "    # dijkstra specific\n",
    "    if check_if_only_one_eligible_process(state):\n",
    "        invariants.add(state)\n",
    "\n",
    "print(\"Invariants and Count of Invariants:\")\n",
    "invariants, len(invariants)"
   ]
  },
  {
   "cell_type": "code",
   "execution_count": null,
   "id": "983f031e-5928-4a60-b23e-dc20f2217c71",
   "metadata": {},
   "outputs": [],
   "source": [
    "program_transitions_rank = {}\n",
    "for inv in invariants:\n",
    "    program_transitions_rank[inv] = {\"L\": 0, \"C\": 1, \"A\": 0, \"Ar\": 0, \"M\": 0}\n",
    "\n",
    "print(\"Program transitions rank for invariants:\")\n",
    "program_transitions_rank"
   ]
  },
  {
   "cell_type": "code",
   "execution_count": null,
   "id": "3e7fde7f-f961-43c1-8185-6048e235ee0b",
   "metadata": {},
   "outputs": [],
   "source": [
    "def is_program_transition(perturb_pos, start_state, dest_state):\n",
    "    # dijkstra specific\n",
    "    s_prev = start_state[perturb_pos]\n",
    "    s_new = dest_state[perturb_pos]\n",
    "\n",
    "    node = nodes[perturb_pos]\n",
    "\n",
    "    neighbor_pos = [node_positions[n] for n in graph[node]]\n",
    "    neighbor_states = [start_state[i] for i in neighbor_pos]\n",
    "    left_state, right_state = neighbor_states\n",
    "\n",
    "    if node == nodes[0]:  # bottom\n",
    "        return (s_prev + 1) % 3 == right_state and s_new == (s_prev - 1) % 3\n",
    "\n",
    "    elif node == nodes[-1]:  # top\n",
    "        return (\n",
    "            left_state == right_state\n",
    "            and (left_state + 1) % 3 != s_prev\n",
    "            and s_new == (left_state + 1) % 3\n",
    "        )\n",
    "\n",
    "    else:  # others\n",
    "        if (s_prev + 1) % 3 == left_state:\n",
    "            return s_new == left_state\n",
    "        elif (s_prev + 1) % 3 == right_state:\n",
    "            return s_new == right_state\n",
    "    return False\n",
    "\n",
    "\n",
    "# is_program_transition(0, [2, 0, 1])"
   ]
  },
  {
   "cell_type": "code",
   "execution_count": null,
   "id": "bb8e6cf5-6045-4223-9301-4bbeeb4df77a",
   "metadata": {},
   "outputs": [],
   "source": [
    "def get_program_transitions_cvfs(start_state):\n",
    "    # dijkstra specific\n",
    "    program_transitions = set()\n",
    "    cvfs = set()\n",
    "    for position, _ in enumerate(start_state):\n",
    "        possible_node_colors = set(range(degree_of_nodes[nodes[position]]+1))\n",
    "        for perturb_val in possible_node_colors:\n",
    "            perturb_state = list(start_state)\n",
    "            perturb_state[position] = perturb_val\n",
    "            perturb_state = tuple(perturb_state)\n",
    "            if perturb_state != start_state:\n",
    "                if is_program_transition(position, start_state, perturb_state):\n",
    "                    program_transitions.add(perturb_state)\n",
    "                else:\n",
    "                    cvfs.add(perturb_state)\n",
    "    return {\"program_transitions\": program_transitions, \"cvfs\": cvfs}"
   ]
  },
  {
   "cell_type": "code",
   "execution_count": null,
   "id": "f97ddc0c-677b-4392-9192-81f91182a1a1",
   "metadata": {},
   "outputs": [],
   "source": [
    "program_transitions_n_cvf = {}\n",
    "\n",
    "for state in configurations:\n",
    "    program_transitions_n_cvf[state] = get_program_transitions_cvfs(state)\n",
    "\n",
    "print(\"All Program transitions and CVFs:\")\n",
    "program_transitions_n_cvf"
   ]
  },
  {
   "cell_type": "code",
   "execution_count": null,
   "id": "bf9e8489",
   "metadata": {},
   "outputs": [],
   "source": [
    "# program_transitions_n_cvf[(0, 1, 2)]"
   ]
  },
  {
   "cell_type": "code",
   "execution_count": null,
   "id": "38f90235-8707-49df-b403-6f8f793978f8",
   "metadata": {},
   "outputs": [],
   "source": [
    "unranked_states = set(program_transitions_n_cvf.keys()) - set(program_transitions_rank.keys())\n",
    "print(\"Unranked states for Program transitions:\")\n",
    "unranked_states, len(unranked_states)"
   ]
  },
  {
   "cell_type": "code",
   "execution_count": null,
   "id": "1708f79f-e68e-4a29-a234-5457b6bb0d48",
   "metadata": {},
   "outputs": [],
   "source": [
    "# rank the states that has all the paths to the ranked one\n",
    "while unranked_states:\n",
    "    ranked_states = set(program_transitions_rank.keys())\n",
    "    remove_from_unranked_states = set()\n",
    "    for state in unranked_states:\n",
    "        dests = program_transitions_n_cvf[state]['program_transitions']\n",
    "        if dests - ranked_states:       # some desitnations states are yet to be ranked\n",
    "            pass\n",
    "        else:                           # all the destination has been ranked\n",
    "            total_path_length = 0\n",
    "            path_count = 0\n",
    "            _max = 0\n",
    "            for succ in dests:\n",
    "                path_count += program_transitions_rank[succ][\"C\"]\n",
    "                total_path_length += program_transitions_rank[succ][\"L\"] + program_transitions_rank[succ][\"C\"]\n",
    "                _max = max(_max, program_transitions_rank[succ][\"M\"])\n",
    "            program_transitions_rank[state] = {\n",
    "                \"L\": total_path_length,\n",
    "                \"C\": path_count,\n",
    "                \"A\": total_path_length/path_count,\n",
    "                \"Ar\": round(total_path_length/path_count),\n",
    "                \"M\": _max + 1\n",
    "            }\n",
    "            remove_from_unranked_states.add(state)\n",
    "    print(remove_from_unranked_states)\n",
    "    unranked_states -= remove_from_unranked_states"
   ]
  },
  {
   "cell_type": "code",
   "execution_count": null,
   "id": "7a6d75d4",
   "metadata": {},
   "outputs": [],
   "source": [
    "unranked_states"
   ]
  },
  {
   "cell_type": "code",
   "execution_count": null,
   "id": "74f58d88-84c5-4ddc-b0ba-d3851e8289ef",
   "metadata": {},
   "outputs": [],
   "source": [
    "print(\"Program transitions Rank :\")\n",
    "program_transitions_rank"
   ]
  },
  {
   "cell_type": "code",
   "execution_count": null,
   "metadata": {},
   "outputs": [],
   "source": [
    "pt_rank_effect = {}\n",
    "for state, transition_cvfs in program_transitions_n_cvf.items():\n",
    "    for pt in transition_cvfs['program_transitions']:\n",
    "        pt_rank_effect[(state, pt)] = {\n",
    "            \"A\": program_transitions_rank[pt][\"A\"] - program_transitions_rank[state][\"A\"],\n",
    "            \"M\": program_transitions_rank[pt][\"M\"] - program_transitions_rank[state][\"M\"]\n",
    "        }\n",
    "        pt_rank_effect[(state, pt)][\"Ar\"] = round(pt_rank_effect[(state, pt)][\"A\"])"
   ]
  },
  {
   "cell_type": "code",
   "execution_count": null,
   "id": "59ddd413-b2ef-4901-8585-caeceeffd852",
   "metadata": {},
   "outputs": [],
   "source": [
    "cvfs_rank = {}\n",
    "for state, transition_cvfs in program_transitions_n_cvf.items():\n",
    "    for cvf in transition_cvfs['cvfs']:\n",
    "        cvfs_rank[(state, cvf)] = {\n",
    "            \"A\": program_transitions_rank[cvf][\"A\"] - program_transitions_rank[state][\"A\"],\n",
    "            \"M\": program_transitions_rank[cvf][\"M\"] - program_transitions_rank[state][\"M\"]\n",
    "        }\n",
    "        cvfs_rank[(state, cvf)][\"Ar\"] = round(cvfs_rank[(state, cvf)][\"A\"])"
   ]
  },
  {
   "cell_type": "code",
   "execution_count": null,
   "id": "c2e39838-c344-4929-9d00-d885d173caf5",
   "metadata": {},
   "outputs": [],
   "source": [
    "print(\"CVFs Rank :\")\n",
    "cvfs_rank"
   ]
  },
  {
   "cell_type": "code",
   "execution_count": null,
   "metadata": {},
   "outputs": [],
   "source": [
    "pt_avg = [i[\"Ar\"] for _, i in pt_rank_effect.items()]\n",
    "pt_max = [i[\"M\"] for _, i in pt_rank_effect.items()]"
   ]
  },
  {
   "cell_type": "code",
   "execution_count": null,
   "id": "2d7719e4-864e-414f-a3ee-4cfc9584dc62",
   "metadata": {},
   "outputs": [],
   "source": [
    "cvfs_avg = [i[\"Ar\"] for _, i in cvfs_rank.items()]\n",
    "cvfs_max = [i[\"M\"] for _, i in cvfs_rank.items()]"
   ]
  },
  {
   "cell_type": "code",
   "execution_count": null,
   "id": "8980ada4",
   "metadata": {},
   "outputs": [],
   "source": [
    "from matplotlib import pyplot as plt\n",
    "\n",
    "n, bins, patches = plt.hist(pt_avg, bins=len(set(pt_avg)))\n",
    "ticks = [(patch._x0 + patch._width/2) for patch in patches]\n",
    "ticklabels = sorted([i for i in set(pt_avg)])\n",
    "plt.xticks(ticks, ticklabels)\n",
    "plt.show()"
   ]
  },
  {
   "cell_type": "code",
   "execution_count": null,
   "metadata": {},
   "outputs": [],
   "source": [
    "n, bins, patches = plt.hist(pt_max, bins=len(set(pt_max)))\n",
    "ticks = [(patch._x0 + patch._width/2) for patch in patches]\n",
    "ticklabels = sorted([i for i in set(pt_max)])\n",
    "plt.xticks(ticks, ticklabels)\n",
    "plt.show()"
   ]
  },
  {
   "cell_type": "code",
   "execution_count": null,
   "id": "ddb3b192-b14c-4869-9d46-b59dccc5e264",
   "metadata": {},
   "outputs": [],
   "source": [
    "n, bins, patches = plt.hist(cvfs_avg, bins=len(set(cvfs_avg)))\n",
    "ticks = [(patch._x0 + patch._width/2) for patch in patches]\n",
    "ticklabels = sorted([i for i in set(cvfs_avg)])\n",
    "plt.xticks(ticks, ticklabels)\n",
    "plt.show()"
   ]
  },
  {
   "cell_type": "code",
   "execution_count": null,
   "id": "a5d5737b-c086-4ce5-84b5-f8ca5bae78f5",
   "metadata": {},
   "outputs": [],
   "source": [
    "n, bins, patches = plt.hist(cvfs_max, bins=len(set(cvfs_max)))\n",
    "ticks = [(patch._x0 + patch._width/2) for patch in patches]\n",
    "ticklabels = sorted([i for i in set(cvfs_max)])\n",
    "plt.xticks(ticks, ticklabels)\n",
    "plt.show()"
   ]
  },
  {
   "cell_type": "code",
   "execution_count": null,
   "id": "b31aca63-b251-47ec-9880-96dbed3bc648",
   "metadata": {},
   "outputs": [],
   "source": []
  }
 ],
 "metadata": {
  "kernelspec": {
   "display_name": "Python 3 (ipykernel)",
   "language": "python",
   "name": "python3"
  },
  "language_info": {
   "codemirror_mode": {
    "name": "ipython",
    "version": 3
   },
   "file_extension": ".py",
   "mimetype": "text/x-python",
   "name": "python",
   "nbconvert_exporter": "python",
   "pygments_lexer": "ipython3",
   "version": "3.11.6"
  }
 },
 "nbformat": 4,
 "nbformat_minor": 5
}
