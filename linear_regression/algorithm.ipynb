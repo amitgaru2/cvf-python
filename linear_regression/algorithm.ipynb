{
 "cells": [
  {
   "cell_type": "code",
   "execution_count": 19,
   "id": "3b9a78e1-54ec-4c71-b088-f5909999e0ac",
   "metadata": {},
   "outputs": [],
   "source": [
    "x = [1, 2, 3, 4, 5]\n",
    "y = [4, 8, 12, 13, 20]\n",
    "# y = [1.0616 * i + 11.329 for i in x]"
   ]
  },
  {
   "cell_type": "code",
   "execution_count": 20,
   "id": "25b5b19d-85e7-4157-b985-a2c65b4eea81",
   "metadata": {},
   "outputs": [
    {
     "data": {
      "text/plain": [
       "([1, 2, 3, 4, 5], [4, 8, 12, 13, 20])"
      ]
     },
     "execution_count": 20,
     "metadata": {},
     "output_type": "execute_result"
    }
   ],
   "source": [
    "x, y"
   ]
  },
  {
   "cell_type": "code",
   "execution_count": 21,
   "id": "11fbc64a-0d89-477e-a69a-55ee0868e085",
   "metadata": {},
   "outputs": [],
   "source": [
    "N = len(x)"
   ]
  },
  {
   "cell_type": "code",
   "execution_count": 22,
   "id": "4c11a197-0230-42d1-8972-962ad7aa01bc",
   "metadata": {},
   "outputs": [],
   "source": [
    "xy = [i*j for i, j in zip(x,y)]\n",
    "x_sqr = [i**2 for i in x]"
   ]
  },
  {
   "cell_type": "code",
   "execution_count": 23,
   "id": "09f54f7f-83cd-4d66-b27b-903203007a7e",
   "metadata": {},
   "outputs": [],
   "source": [
    "m = (N * sum(xy) - sum(x) * sum(y))/(N * sum(x_sqr) - sum(x) ** 2)\n",
    "b = (sum(y) - m * sum(x))/N"
   ]
  },
  {
   "cell_type": "code",
   "execution_count": 24,
   "id": "a849b3d2-cb29-4d76-bc59-a5b32b416790",
   "metadata": {},
   "outputs": [
    {
     "data": {
      "text/plain": [
       "(3.7, 0.3)"
      ]
     },
     "execution_count": 24,
     "metadata": {},
     "output_type": "execute_result"
    }
   ],
   "source": [
    "m, b"
   ]
  },
  {
   "cell_type": "code",
   "execution_count": 25,
   "id": "d6d128cc-ebc0-440b-bb85-2abb83a52616",
   "metadata": {},
   "outputs": [
    {
     "data": {
      "text/plain": [
       "[4.0, 7.7, 11.400000000000002, 15.100000000000001, 18.8]"
      ]
     },
     "execution_count": 25,
     "metadata": {},
     "output_type": "execute_result"
    }
   ],
   "source": [
    "y_pred = [m * i + b for i in x]\n",
    "y_pred"
   ]
  },
  {
   "cell_type": "code",
   "execution_count": 26,
   "id": "313fb8c5-ff99-4f74-8949-02fb40b45cc3",
   "metadata": {},
   "outputs": [
    {
     "data": {
      "text/plain": [
       "11.4"
      ]
     },
     "execution_count": 26,
     "metadata": {},
     "output_type": "execute_result"
    }
   ],
   "source": [
    "y_mean = sum(y)/len(y)\n",
    "y_mean"
   ]
  },
  {
   "cell_type": "code",
   "execution_count": 27,
   "id": "1220272d-379f-45d3-8104-6358c0f83fbb",
   "metadata": {},
   "outputs": [
    {
     "data": {
      "text/plain": [
       "0.9560055865921787"
      ]
     },
     "execution_count": 27,
     "metadata": {},
     "output_type": "execute_result"
    }
   ],
   "source": [
    "r2 = 1 - sum( (y[i] - y_pred[i])**2 for i in range(N) ) / sum( (y[i] - y_mean)**2 for i in range(N) )\n",
    "r2"
   ]
  },
  {
   "cell_type": "code",
   "execution_count": null,
   "id": "ef37ca9a-3b94-47e1-a5cb-74ee8ddc4a29",
   "metadata": {},
   "outputs": [],
   "source": []
  }
 ],
 "metadata": {
  "kernelspec": {
   "display_name": "Python 3 (ipykernel)",
   "language": "python",
   "name": "python3"
  },
  "language_info": {
   "codemirror_mode": {
    "name": "ipython",
    "version": 3
   },
   "file_extension": ".py",
   "mimetype": "text/x-python",
   "name": "python",
   "nbconvert_exporter": "python",
   "pygments_lexer": "ipython3",
   "version": "3.11.7"
  }
 },
 "nbformat": 4,
 "nbformat_minor": 5
}
