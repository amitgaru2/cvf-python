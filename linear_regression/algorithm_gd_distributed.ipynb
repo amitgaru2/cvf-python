{
 "cells": [
  {
   "cell_type": "code",
   "execution_count": 1,
   "id": "04a8a123-8383-4119-a768-9d64df9e5a37",
   "metadata": {},
   "outputs": [
    {
     "data": {
      "text/plain": [
       "[2, 1, 2, 1, 7, 6, 7, 6, 12, 11, 12, 11]"
      ]
     },
     "execution_count": 1,
     "metadata": {},
     "output_type": "execute_result"
    }
   ],
   "source": [
    "# actual_m = 10\n",
    "# actual_c = 20\n",
    "\n",
    "x = [1, 2, 3, 4, 5, 6, 7, 8, 9, 10, 11, 12]\n",
    "y = [2, 1, 2, 1, 7, 6, 7, 6, 12, 11, 12, 11]\n",
    "y"
   ]
  },
  {
   "cell_type": "code",
   "execution_count": 2,
   "id": "32096651-b8c2-41d9-9780-b07859bfe4e2",
   "metadata": {},
   "outputs": [
    {
     "data": {
      "text/plain": [
       "[{'x': [1, 2, 3, 4], 'y': [2, 1, 2, 1]},\n",
       " {'x': [5, 6, 7, 8], 'y': [7, 6, 7, 6]},\n",
       " {'x': [9, 10, 11, 12], 'y': [12, 11, 12, 11]}]"
      ]
     },
     "execution_count": 2,
     "metadata": {},
     "output_type": "execute_result"
    }
   ],
   "source": [
    "node_1_data = {\"x\": x[:4], \"y\": y[:4]}\n",
    "node_2_data = {\"x\": x[4:8], \"y\": y[4:8]}\n",
    "node_3_data = {\"x\": x[8:12], \"y\": y[8:12]}\n",
    "\n",
    "node_data = [node_1_data, node_2_data, node_3_data]\n",
    "node_data"
   ]
  },
  {
   "cell_type": "code",
   "execution_count": 3,
   "id": "5b6d8ebe-b276-42b2-b933-c78e41c6d1c8",
   "metadata": {},
   "outputs": [],
   "source": [
    "y_mean = sum(y)/len(y)\n",
    "y_mean\n",
    "node_y_mean = [\n",
    "    sum(y[:4])/4,\n",
    "    sum(y[4:8])/4,\n",
    "    sum(y[8:12])/4\n",
    "]"
   ]
  },
  {
   "cell_type": "code",
   "execution_count": 4,
   "id": "76bc1335-c5a8-41ae-baf7-a1691a72a4bf",
   "metadata": {},
   "outputs": [],
   "source": [
    "node_params = [\n",
    "    {\"m\": 0, \"c\": 0},\n",
    "    {\"m\": 0, \"c\": 0},\n",
    "    {\"m\": 0, \"c\": 0},\n",
    "]"
   ]
  },
  {
   "cell_type": "code",
   "execution_count": 5,
   "id": "89cc1921-9798-4cf9-bbb9-91dc1038566f",
   "metadata": {},
   "outputs": [],
   "source": [
    "iterations = 10"
   ]
  },
  {
   "cell_type": "code",
   "execution_count": 6,
   "id": "70f33896-908b-4eb1-a550-f77641e7fdb8",
   "metadata": {},
   "outputs": [
    {
     "data": {
      "text/plain": [
       "4"
      ]
     },
     "execution_count": 6,
     "metadata": {},
     "output_type": "execute_result"
    }
   ],
   "source": [
    "N = 4\n",
    "N"
   ]
  },
  {
   "cell_type": "code",
   "execution_count": 7,
   "id": "1e2b81c8-1052-47b2-8528-f57a9f3f54d9",
   "metadata": {},
   "outputs": [],
   "source": [
    "L = 0.05 # learning rate"
   ]
  },
  {
   "cell_type": "code",
   "execution_count": 8,
   "id": "19a3f738-3108-4b6c-a07b-289c44d0711b",
   "metadata": {},
   "outputs": [],
   "source": [
    "def forward_node(node_id):\n",
    "    params = node_params[node_id]\n",
    "    x = node_data[node_id][\"x\"]\n",
    "    return [params[\"m\"] * i + params[\"c\"] for i in x]"
   ]
  },
  {
   "cell_type": "code",
   "execution_count": 9,
   "id": "d954c1c0-95b6-43ef-b175-b05ea6772320",
   "metadata": {},
   "outputs": [],
   "source": [
    "def loss_fn_node(node_id, y_pred):\n",
    "    y = node_data[node_id][\"y\"]\n",
    "    return (1 / N) * sum( (y[i] - y_pred[i]) ** 2 for i in range(N) )"
   ]
  },
  {
   "cell_type": "code",
   "execution_count": 10,
   "id": "78b5e3d7-c350-4c03-af6e-992069c5e073",
   "metadata": {},
   "outputs": [],
   "source": [
    "def r2_score_node(node_id, y_pred):\n",
    "    y = node_data[node_id][\"y\"]\n",
    "    y_mean = node_y_mean[node_id]\n",
    "    rss = sum( (y[i] - y_pred[i])**2 for i in range(N) )\n",
    "    tss = sum( (y[i] - y_mean)**2 for i in range(N) )\n",
    "    r2 = 1 - rss/tss \n",
    "    return r2"
   ]
  },
  {
   "cell_type": "code",
   "execution_count": 11,
   "id": "b3a30e44-59eb-48cd-9a72-9615bca30739",
   "metadata": {},
   "outputs": [],
   "source": [
    "def gradient_m_node(node_id, y_pred):\n",
    "    x = node_data[node_id][\"x\"]\n",
    "    y = node_data[node_id][\"y\"]\n",
    "    return (-2 / N) * sum( ( x[i] * (y[i] - y_pred[i]) ) for i in range(N) )"
   ]
  },
  {
   "cell_type": "code",
   "execution_count": 12,
   "id": "58b37611-1c95-43ed-9cc2-194ec44462c3",
   "metadata": {},
   "outputs": [],
   "source": [
    "def gradient_c_node(node_id, y_pred):\n",
    "    y = node_data[node_id][\"y\"]\n",
    "    return (-2 / N) * sum( (y[i] - y_pred[i]) for i in range(N) )"
   ]
  },
  {
   "cell_type": "code",
   "execution_count": 13,
   "id": "201a1e83-d7aa-4255-a6cd-0161a7f93391",
   "metadata": {},
   "outputs": [
    {
     "name": "stdout",
     "output_type": "stream",
     "text": [
      "Node: 0 | Loss: 2.5 | Accuracy: -9.0\n",
      "Node: 1 | Loss: 42.5 | Accuracy: -169.0\n",
      "Node: 2 | Loss: 132.5 | Accuracy: -529.0\n",
      "Node: 0 | Loss: 2.5 | Accuracy: -9.0\n",
      "Node: 1 | Loss: 42.5 | Accuracy: -169.0\n",
      "Node: 2 | Loss: 132.5 | Accuracy: -529.0\n",
      "Node: 0 | Loss: 2.5 | Accuracy: -9.0\n",
      "Node: 1 | Loss: 42.5 | Accuracy: -169.0\n",
      "Node: 2 | Loss: 132.5 | Accuracy: -529.0\n",
      "Node: 0 | Loss: 2.5 | Accuracy: -9.0\n",
      "Node: 1 | Loss: 42.5 | Accuracy: -169.0\n",
      "Node: 2 | Loss: 132.5 | Accuracy: -529.0\n",
      "Node: 0 | Loss: 2.5 | Accuracy: -9.0\n",
      "Node: 1 | Loss: 42.5 | Accuracy: -169.0\n",
      "Node: 2 | Loss: 132.5 | Accuracy: -529.0\n",
      "Node: 0 | Loss: 2.5 | Accuracy: -9.0\n",
      "Node: 1 | Loss: 42.5 | Accuracy: -169.0\n",
      "Node: 2 | Loss: 132.5 | Accuracy: -529.0\n",
      "Node: 0 | Loss: 2.5 | Accuracy: -9.0\n",
      "Node: 1 | Loss: 42.5 | Accuracy: -169.0\n",
      "Node: 2 | Loss: 132.5 | Accuracy: -529.0\n",
      "Node: 0 | Loss: 2.5 | Accuracy: -9.0\n",
      "Node: 1 | Loss: 42.5 | Accuracy: -169.0\n",
      "Node: 2 | Loss: 132.5 | Accuracy: -529.0\n",
      "Node: 0 | Loss: 2.5 | Accuracy: -9.0\n",
      "Node: 1 | Loss: 42.5 | Accuracy: -169.0\n",
      "Node: 2 | Loss: 132.5 | Accuracy: -529.0\n",
      "Node: 0 | Loss: 2.5 | Accuracy: -9.0\n",
      "Node: 1 | Loss: 42.5 | Accuracy: -169.0\n",
      "Node: 2 | Loss: 132.5 | Accuracy: -529.0\n"
     ]
    }
   ],
   "source": [
    "for i in range(iterations):\n",
    "    for node_id in range(len(node_data)):\n",
    "        y_pred = forward_node(node_id)\n",
    "        loss = loss_fn_node(node_id, y_pred)\n",
    "        accuracy = r2_score_node(node_id, y_pred)\n",
    "        print(\"Node:\", node_id, \"| Loss:\", loss, \"| Accuracy:\", accuracy)\n",
    "    \n",
    "        # grad_m = gradient_m(y_pred)\n",
    "        # grad_c = gradient_c(y_pred)\n",
    "        # print(\"gradient of m:\", grad_m, \"| graident of c:\", grad_c)\n",
    "    \n",
    "        # m = m - L * grad_m\n",
    "        # c = c - L * grad_c\n",
    "        # print(\"m:\", m, \"| c:\", c)\n",
    "        # print()"
   ]
  },
  {
   "cell_type": "code",
   "execution_count": null,
   "id": "b00d4bab-aeaf-4fbb-87bc-fac513ab7a41",
   "metadata": {},
   "outputs": [],
   "source": []
  }
 ],
 "metadata": {
  "kernelspec": {
   "display_name": "Python 3 (ipykernel)",
   "language": "python",
   "name": "python3"
  },
  "language_info": {
   "codemirror_mode": {
    "name": "ipython",
    "version": 3
   },
   "file_extension": ".py",
   "mimetype": "text/x-python",
   "name": "python",
   "nbconvert_exporter": "python",
   "pygments_lexer": "ipython3",
   "version": "3.12.4"
  }
 },
 "nbformat": 4,
 "nbformat_minor": 5
}
