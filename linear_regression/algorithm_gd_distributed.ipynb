{
 "cells": [
  {
   "cell_type": "code",
   "execution_count": 1,
   "id": "67dc53cd-f7d6-46ab-becf-814c6efb247b",
   "metadata": {},
   "outputs": [],
   "source": [
    "import numpy as np\n",
    "import pandas as pd\n",
    "import seaborn as sns"
   ]
  },
  {
   "cell_type": "code",
   "execution_count": 2,
   "id": "04a8a123-8383-4119-a768-9d64df9e5a37",
   "metadata": {},
   "outputs": [
    {
     "data": {
      "text/plain": [
       "[2, 1, 2, 1, 7, 6, 7, 6, 12, 11, 12, 11]"
      ]
     },
     "execution_count": 2,
     "metadata": {},
     "output_type": "execute_result"
    }
   ],
   "source": [
    "# actual_m = 10\n",
    "# actual_c = 20\n",
    "\n",
    "x = [1, 2, 3, 4, 5, 6, 7, 8, 9, 10, 11, 12]\n",
    "y = [2, 1, 2, 1, 7, 6, 7, 6, 12, 11, 12, 11]\n",
    "y"
   ]
  },
  {
   "cell_type": "code",
   "execution_count": 3,
   "id": "57fe4584-bb2c-4170-be6b-c0556ee69191",
   "metadata": {},
   "outputs": [
    {
     "data": {
      "text/plain": [
       "<Axes: >"
      ]
     },
     "execution_count": 3,
     "metadata": {},
     "output_type": "execute_result"
    },
    {
     "data": {
      "image/png": "[encoded data removed]",
      "text/plain": [
       "<Figure size 640x480 with 1 Axes>"
      ]
     },
     "metadata": {},
     "output_type": "display_data"
    }
   ],
   "source": [
    "sns.scatterplot(x=x, y=y)"
   ]
  },
  {
   "cell_type": "code",
   "execution_count": 4,
   "id": "8102924a-fc41-4829-9587-5886ae0d77a1",
   "metadata": {},
   "outputs": [],
   "source": [
    "no_of_nodes = 3"
   ]
  },
  {
   "cell_type": "code",
   "execution_count": 5,
   "id": "53d9378f-a82e-4df1-94cc-abe8f3d7ca7b",
   "metadata": {},
   "outputs": [],
   "source": [
    "N = len(x) // no_of_nodes\n",
    "# N"
   ]
  },
  {
   "cell_type": "code",
   "execution_count": 6,
   "id": "32096651-b8c2-41d9-9780-b07859bfe4e2",
   "metadata": {},
   "outputs": [
    {
     "data": {
      "text/plain": [
       "[{'x': [1, 2, 3, 4], 'y': [2, 1, 2, 1], 'y_mean': 1.5},\n",
       " {'x': [5, 6, 7, 8], 'y': [7, 6, 7, 6], 'y_mean': 6.5},\n",
       " {'x': [9, 10, 11, 12], 'y': [12, 11, 12, 11], 'y_mean': 11.5}]"
      ]
     },
     "execution_count": 6,
     "metadata": {},
     "output_type": "execute_result"
    }
   ],
   "source": [
    "# node_1_data = {\"x\": x[:N], \"y\": y[:4]}\n",
    "# node_2_data = {\"x\": x[4:8], \"y\": y[4:8]}\n",
    "# node_3_data = {\"x\": x[8:12], \"y\": y[8:12]}\n",
    "node_data = []\n",
    "for i in range(no_of_nodes):\n",
    "    node_data.append({\"x\": x[i*N:(i+1)*N], \"y\": y[i*N:(i+1)*N]})\n",
    "    node_data[-1][\"y_mean\"] = sum(node_data[-1][\"y\"])/len(node_data[-1][\"y\"])\n",
    "node_data"
   ]
  },
  {
   "cell_type": "code",
   "execution_count": 7,
   "id": "76bc1335-c5a8-41ae-baf7-a1691a72a4bf",
   "metadata": {},
   "outputs": [
    {
     "data": {
      "text/plain": [
       "[{'m': 0, 'c': 0}, {'m': 0, 'c': 0}, {'m': 0, 'c': 0}]"
      ]
     },
     "execution_count": 7,
     "metadata": {},
     "output_type": "execute_result"
    }
   ],
   "source": [
    "node_params = [ {\"m\": 0, \"c\": 0} for i in range(no_of_nodes)]\n",
    "node_params"
   ]
  },
  {
   "cell_type": "code",
   "execution_count": 8,
   "id": "89cc1921-9798-4cf9-bbb9-91dc1038566f",
   "metadata": {},
   "outputs": [],
   "source": [
    "iterations = 1000"
   ]
  },
  {
   "cell_type": "code",
   "execution_count": 9,
   "id": "1e2b81c8-1052-47b2-8528-f57a9f3f54d9",
   "metadata": {},
   "outputs": [],
   "source": [
    "L = 0.00001 # learning rate"
   ]
  },
  {
   "cell_type": "code",
   "execution_count": 10,
   "id": "19a3f738-3108-4b6c-a07b-289c44d0711b",
   "metadata": {},
   "outputs": [],
   "source": [
    "def forward_node(node_id):\n",
    "    params = node_params[node_id]\n",
    "    x = node_data[node_id][\"x\"]\n",
    "    return [params[\"m\"] * i + params[\"c\"] for i in x]"
   ]
  },
  {
   "cell_type": "code",
   "execution_count": 11,
   "id": "d954c1c0-95b6-43ef-b175-b05ea6772320",
   "metadata": {},
   "outputs": [],
   "source": [
    "def loss_fn_node(node_id, y_pred):\n",
    "    y = node_data[node_id][\"y\"]\n",
    "    return (1 / N) * sum( (y[i] - y_pred[i]) ** 2 for i in range(N) )"
   ]
  },
  {
   "cell_type": "code",
   "execution_count": 12,
   "id": "78b5e3d7-c350-4c03-af6e-992069c5e073",
   "metadata": {},
   "outputs": [],
   "source": [
    "def r2_score_node(node_id, y_pred):\n",
    "    y = node_data[node_id][\"y\"]\n",
    "    y_mean = node_data[node_id][\"y_mean\"]\n",
    "    rss = sum( (y[i] - y_pred[i])**2 for i in range(N) )\n",
    "    tss = sum( (y[i] - y_mean)**2 for i in range(N) )\n",
    "    r2 = 1 - rss/tss \n",
    "    return r2"
   ]
  },
  {
   "cell_type": "code",
   "execution_count": 13,
   "id": "b3a30e44-59eb-48cd-9a72-9615bca30739",
   "metadata": {},
   "outputs": [],
   "source": [
    "def gradient_m_node(node_id, y_pred):\n",
    "    x = node_data[node_id][\"x\"]\n",
    "    y = node_data[node_id][\"y\"]\n",
    "    return (-2 / N) * sum( ( x[i] * (y[i] - y_pred[i]) ) for i in range(N) )"
   ]
  },
  {
   "cell_type": "code",
   "execution_count": 14,
   "id": "58b37611-1c95-43ed-9cc2-194ec44462c3",
   "metadata": {},
   "outputs": [],
   "source": [
    "def gradient_c_node(node_id, y_pred):\n",
    "    y = node_data[node_id][\"y\"]\n",
    "    return (-2 / N) * sum( (y[i] - y_pred[i]) for i in range(N) )"
   ]
  },
  {
   "cell_type": "code",
   "execution_count": 15,
   "id": "90b1686a-1a43-4526-b27a-647ec8d335be",
   "metadata": {},
   "outputs": [],
   "source": [
    "doubly_stochastic_matrix_config = [\n",
    "    [1/2, 1/4, 1/4],\n",
    "    [1/4, 0, 3/4],\n",
    "    [1/4, 3/4, 0]\n",
    "]"
   ]
  },
  {
   "cell_type": "code",
   "execution_count": 16,
   "id": "6fac3a25-6f0a-4700-af56-60615f562a19",
   "metadata": {},
   "outputs": [],
   "source": [
    "# doubly_stochastic_matrix_config = [\n",
    "#     [1/3, 1/3, 1/3],\n",
    "#     [1/3, 1/3, 1/3],\n",
    "#     [1/3, 1/3, 1/3]\n",
    "# ]"
   ]
  },
  {
   "cell_type": "code",
   "execution_count": 17,
   "id": "201a1e83-d7aa-4255-a6cd-0161a7f93391",
   "metadata": {},
   "outputs": [],
   "source": [
    "# for i in range(iterations):\n",
    "#     for node_id in range(no_of_nodes):\n",
    "#         y_pred = forward_node(node_id)\n",
    "#         loss = loss_fn_node(node_id, y_pred)\n",
    "#         accuracy = r2_score_node(node_id, y_pred)\n",
    "#         print(\"Node:\", node_id, \"| Loss:\", round(loss, 6), \"| Accuracy:\", round(accuracy, 6))\n",
    "    \n",
    "#         grad_m = gradient_m_node(node_id, y_pred)\n",
    "#         grad_c = gradient_c_node(node_id, y_pred)\n",
    "#         # print(\"gradient of m:\", grad_m, \"| graident of c:\", grad_c)\n",
    "\n",
    "#         params = node_params[node_id]\n",
    "#         params['m'] = params['m'] - L * grad_m\n",
    "#         params['c'] = params['c'] - L * grad_c\n",
    "#         # print(params)\n",
    "#         # print()\n",
    "\n",
    "#     # comm and averaging\n",
    "#     node_params_copy = node_params.copy()\n",
    "#     for node_id in range(no_of_nodes):\n",
    "#         doubly_st_mt = doubly_stochastic_matrix_config[node_id]\n",
    "#         node_params[node_id][\"m\"] = sum( frac*node_params_copy[i][\"m\"] for i, frac in enumerate(doubly_st_mt) )\n",
    "#         node_params[node_id][\"c\"] = sum( frac*node_params_copy[i][\"c\"] for i, frac in enumerate(doubly_st_mt) )\n",
    "\n",
    "#     print(node_params)"
   ]
  },
  {
   "cell_type": "code",
   "execution_count": 18,
   "id": "40118914-9142-464f-916f-60a339c32af9",
   "metadata": {},
   "outputs": [],
   "source": [
    "steps_data = []\n",
    "accuracy_data = [\n",
    "    [] for i in range(no_of_nodes)\n",
    "]"
   ]
  },
  {
   "cell_type": "code",
   "execution_count": 19,
   "id": "d9df7331-84f0-4b63-a5ae-48fba32fdb32",
   "metadata": {},
   "outputs": [],
   "source": [
    "for i in range(1, iterations+1):\n",
    "    gradients = []\n",
    "    steps_data.append(i)\n",
    "    for node_id in range(no_of_nodes):\n",
    "        y_pred = forward_node(node_id)\n",
    "        loss = loss_fn_node(node_id, y_pred)\n",
    "        accuracy = r2_score_node(node_id, y_pred)\n",
    "        accuracy_data[node_id].append(accuracy)\n",
    "        # print(\"Node:\", node_id, \"| Loss:\", round(loss, 6), \"| Accuracy:\", round(accuracy, 6))\n",
    "    \n",
    "        grad_m = gradient_m_node(node_id, y_pred)\n",
    "        grad_c = gradient_c_node(node_id, y_pred)\n",
    "        # print(\"gradient of m:\", grad_m, \"| graident of c:\", grad_c)\n",
    "\n",
    "        gradients.append({\"m\": grad_m, \"c\": grad_c})\n",
    "        # print(params)\n",
    "        # print()\n",
    "\n",
    "    # comm and averaging\n",
    "    for node_id in range(no_of_nodes):\n",
    "        doubly_st_mt = doubly_stochastic_matrix_config[node_id]\n",
    "        params = node_params[node_id]\n",
    "        grad_m = sum( frac*gradients[i][\"m\"] for i, frac in enumerate(doubly_st_mt) )\n",
    "        grad_c = sum( frac*gradients[i][\"c\"] for i, frac in enumerate(doubly_st_mt) )\n",
    "        params['m'] = params['m'] - L * grad_m\n",
    "        params['c'] = params['c'] - L * grad_c\n",
    "\n",
    "    gradients = []\n",
    "    # print(node_params)"
   ]
  },
  {
   "cell_type": "code",
   "execution_count": 20,
   "id": "b9e7bd8e-7dc4-4c31-9035-e30fe74630aa",
   "metadata": {},
   "outputs": [],
   "source": [
    "data = {f'Node {i}': accuracy_data[i] for i in range(no_of_nodes)}\n",
    "df = pd.DataFrame({\"Iteration\": steps_data, **data})\n",
    "dfl = pd.melt(df, [\"Iteration\"])"
   ]
  },
  {
   "cell_type": "code",
   "execution_count": 21,
   "id": "c2fb7d21-02eb-47b4-81bc-6bd9e312e3bc",
   "metadata": {},
   "outputs": [
    {
     "data": {
      "text/plain": [
       "Text(0, 0.5, 'Accuracy')"
      ]
     },
     "execution_count": 21,
     "metadata": {},
     "output_type": "execute_result"
    },
    {
     "data": {
      "image/png": "[encoded data removed]",
      "text/plain": [
       "<Figure size 640x480 with 1 Axes>"
      ]
     },
     "metadata": {},
     "output_type": "display_data"
    }
   ],
   "source": [
    "ax = sns.lineplot(data=dfl, x='Iteration', y='value', hue='variable')\n",
    "ax.set_ylabel(\"Accuracy\")"
   ]
  },
  {
   "cell_type": "code",
   "execution_count": null,
   "id": "db4dc857-aced-4a06-8af6-40a4645768dc",
   "metadata": {},
   "outputs": [],
   "source": []
  }
 ],
 "metadata": {
  "kernelspec": {
   "display_name": "Python 3 (ipykernel)",
   "language": "python",
   "name": "python3"
  },
  "language_info": {
   "codemirror_mode": {
    "name": "ipython",
    "version": 3
   },
   "file_extension": ".py",
   "mimetype": "text/x-python",
   "name": "python",
   "nbconvert_exporter": "python",
   "pygments_lexer": "ipython3",
   "version": "3.12.4"
  }
 },
 "nbformat": 4,
 "nbformat_minor": 5
}
