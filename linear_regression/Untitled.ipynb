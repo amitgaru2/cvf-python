{
 "cells": [
  {
   "cell_type": "code",
   "execution_count": 6,
   "id": "52d107db-89ca-476c-8839-50bafaf70b41",
   "metadata": {},
   "outputs": [],
   "source": [
    "import pandas as pd"
   ]
  },
  {
   "cell_type": "code",
   "execution_count": 7,
   "id": "60c10706-8fb0-48ac-969f-fd9b8673ed19",
   "metadata": {},
   "outputs": [],
   "source": [
    "from algorithm_gd import *"
   ]
  },
  {
   "cell_type": "code",
   "execution_count": 8,
   "id": "738d9879-fe99-461f-834c-d0d93072db5f",
   "metadata": {},
   "outputs": [],
   "source": [
    "df = pd.read_csv(\"random-data.csv\")"
   ]
  },
  {
   "cell_type": "code",
   "execution_count": 9,
   "id": "b113ab02-d404-4d3c-a22a-c20173356426",
   "metadata": {},
   "outputs": [],
   "source": [
    "X = df['X'].array\n",
    "y = df['y'].array"
   ]
  },
  {
   "cell_type": "code",
   "execution_count": 11,
   "id": "135574c2-5282-4586-ad3c-e6da88aa11a3",
   "metadata": {},
   "outputs": [
    {
     "data": {
      "text/plain": [
       "<NumpyExtensionArray>\n",
       "[  np.float64(2.0),  np.float64(2.25),  np.float64(1.75),   np.float64(2.0),\n",
       "  np.float64(2.25),  np.float64(1.75),   np.float64(2.0),  np.float64(2.25),\n",
       "  np.float64(1.75),   np.float64(6.0),  np.float64(6.25),  np.float64(5.75),\n",
       "   np.float64(6.0),  np.float64(6.25),  np.float64(5.75),   np.float64(6.0),\n",
       "  np.float64(6.25),  np.float64(5.75),  np.float64(10.0),  np.float64(9.75),\n",
       " np.float64(10.25),  np.float64(10.0),  np.float64(9.75), np.float64(10.25),\n",
       "  np.float64(10.0),  np.float64(9.75), np.float64(10.25)]\n",
       "Length: 27, dtype: float64"
      ]
     },
     "execution_count": 11,
     "metadata": {},
     "output_type": "execute_result"
    }
   ],
   "source": [
    "y"
   ]
  },
  {
   "cell_type": "code",
   "execution_count": 12,
   "id": "fac81f0f-6a06-4635-9442-4885a6872493",
   "metadata": {},
   "outputs": [
    {
     "data": {
      "text/plain": [
       "\u001b[0;31mSignature:\u001b[0m \u001b[0mforward\u001b[0m\u001b[0;34m(\u001b[0m\u001b[0mX\u001b[0m\u001b[0;34m,\u001b[0m \u001b[0mparams\u001b[0m\u001b[0;34m)\u001b[0m\u001b[0;34m\u001b[0m\u001b[0;34m\u001b[0m\u001b[0m\n",
       "\u001b[0;31mDocstring:\u001b[0m <no docstring>\n",
       "\u001b[0;31mFile:\u001b[0m      ~/research/cvf-python/linear_regression/algorithm_gd.py\n",
       "\u001b[0;31mType:\u001b[0m      function"
      ]
     },
     "metadata": {},
     "output_type": "display_data"
    }
   ],
   "source": [
    "forward?"
   ]
  },
  {
   "cell_type": "code",
   "execution_count": 35,
   "id": "bb6efd04-21c4-4804-bc77-c9b1bdcd0024",
   "metadata": {},
   "outputs": [
    {
     "name": "stdout",
     "output_type": "stream",
     "text": [
      "-17.599999999999994\n"
     ]
    },
    {
     "data": {
      "text/plain": [
       "np.float64(0.8509333333333332)"
      ]
     },
     "execution_count": 35,
     "metadata": {},
     "output_type": "execute_result"
    }
   ],
   "source": [
    "y_pred = forward(X, {\"m\": 0.8, \"c\": 0})\n",
    "grad_m = gradient_m(X, y, y_pred)\n",
    "print(grad_m)\n",
    "m = sum([2/3*0.8,1/6*0.9,1/6*0.9]) - 0.001*grad_m\n",
    "m"
   ]
  },
  {
   "cell_type": "code",
   "execution_count": 28,
   "id": "fdd0487f-d7ca-4a5f-af4b-798489649bb6",
   "metadata": {},
   "outputs": [],
   "source": [
    "slope_step = 0.1\n",
    "min_slope = 0\n",
    "max_slope = 1.2"
   ]
  },
  {
   "cell_type": "code",
   "execution_count": 29,
   "id": "6b679dc1-619b-4e3b-94e1-8206fa0d4766",
   "metadata": {},
   "outputs": [],
   "source": [
    "def get_adjusted_value(value):\n",
    "    if value > max_slope:\n",
    "        return max_slope\n",
    "\n",
    "    if value < min_slope:\n",
    "        return min_slope\n",
    "\n",
    "    result = value\n",
    "\n",
    "    if result / slope_step != 0:\n",
    "        result = (result // slope_step) * slope_step\n",
    "\n",
    "    if (value - result) > slope_step / 2:\n",
    "        result = result + slope_step\n",
    "\n",
    "    return result"
   ]
  },
  {
   "cell_type": "code",
   "execution_count": 30,
   "id": "78a9a5f5-3707-419c-9d7f-615c87908c10",
   "metadata": {},
   "outputs": [
    {
     "data": {
      "text/plain": [
       "np.float64(0.9)"
      ]
     },
     "execution_count": 30,
     "metadata": {},
     "output_type": "execute_result"
    }
   ],
   "source": [
    "get_adjusted_value(m)"
   ]
  },
  {
   "cell_type": "code",
   "execution_count": 26,
   "id": "19333cc3-f421-470e-b735-c08d55cf27f8",
   "metadata": {},
   "outputs": [
    {
     "data": {
      "text/plain": [
       "np.float64(1.7509333333333335)"
      ]
     },
     "execution_count": 26,
     "metadata": {},
     "output_type": "execute_result"
    }
   ],
   "source": [
    "m"
   ]
  },
  {
   "cell_type": "code",
   "execution_count": null,
   "id": "b328d26a-8604-456f-9bcf-f50ef91bb3de",
   "metadata": {},
   "outputs": [],
   "source": []
  }
 ],
 "metadata": {
  "kernelspec": {
   "display_name": "Python 3 (ipykernel)",
   "language": "python",
   "name": "python3"
  },
  "language_info": {
   "codemirror_mode": {
    "name": "ipython",
    "version": 3
   },
   "file_extension": ".py",
   "mimetype": "text/x-python",
   "name": "python",
   "nbconvert_exporter": "python",
   "pygments_lexer": "ipython3",
   "version": "3.12.4"
  }
 },
 "nbformat": 4,
 "nbformat_minor": 5
}
