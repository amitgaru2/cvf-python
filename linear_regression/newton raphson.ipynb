{
 "cells": [
  {
   "cell_type": "code",
   "execution_count": 1,
   "id": "fe64e61b-e0a7-45b6-9d30-54df372aa6d5",
   "metadata": {},
   "outputs": [],
   "source": [
    "import numpy as np\n",
    "import pandas as pd\n",
    "import seaborn as sns"
   ]
  },
  {
   "cell_type": "code",
   "execution_count": 2,
   "id": "9ce8deef-649f-4470-885b-da3578f35a5a",
   "metadata": {},
   "outputs": [],
   "source": [
    "from algorithm_gd import forward, loss_fn, r2_score, gradient_m, gradient_c, get_iteration_vs_accuracy_data"
   ]
  },
  {
   "cell_type": "code",
   "execution_count": 3,
   "id": "1bf46254-a797-4d31-854b-5ded7c021f5c",
   "metadata": {},
   "outputs": [],
   "source": [
    "X = [1, 1, 1, 2, 2, 2, 3, 3, 3,  5, 5, 5, 6, 6, 6, 7,7, 7,  9, 9, 9, 10, 10, 10, 11, 11, 11]\n",
    "y = [2, 2.25, 1.75, 2, 2.25, 1.75, 2, 2.25, 1.75, 6, 6.25, 5.75, 6, 6.25, 5.75, 6, 6.25, 5.75,  10, 9.75, 10.25, 10, 9.75, 10.25, 10, 9.75, 10.25]"
   ]
  },
  {
   "cell_type": "code",
   "execution_count": 4,
   "id": "515aa39d-60b4-4903-adc5-a0ee1179fe3b",
   "metadata": {},
   "outputs": [],
   "source": [
    "L0 = 0.001"
   ]
  },
  {
   "cell_type": "code",
   "execution_count": 5,
   "id": "2a9686ec-3556-4129-b0cb-5bbb357e9238",
   "metadata": {},
   "outputs": [],
   "source": [
    "m = 0.1\n",
    "step_m = 0.1\n",
    "c = 0"
   ]
  },
  {
   "cell_type": "code",
   "execution_count": 6,
   "id": "46d3b85b-fe13-4d2e-bf01-ad50ac9a9bbf",
   "metadata": {},
   "outputs": [],
   "source": [
    "iterations = 10"
   ]
  },
  {
   "cell_type": "code",
   "execution_count": 7,
   "id": "731dbf38-6289-4194-bcd9-b927ad7e7ccf",
   "metadata": {},
   "outputs": [],
   "source": [
    "def newton_raphson_L(L0, m_pred, m, grad_m):\n",
    "    def f_L(L):\n",
    "        return m_pred - m + L * grad_m\n",
    "\n",
    "    def f_L_der(L):\n",
    "        return grad_m\n",
    "\n",
    "    numerator = f_L(L0)\n",
    "    denominator = f_L_der(L0)\n",
    "    \n",
    "    while numerator != 0:\n",
    "        L0 = L0 - numerator/denominator\n",
    "        numerator = f_L(L0)\n",
    "        denominator = f_L_der(L0)\n",
    "\n",
    "    print(\"returning\", L0)\n",
    "    return L0"
   ]
  },
  {
   "cell_type": "code",
   "execution_count": 8,
   "id": "244b9b45-4d06-467f-a10f-1010bb65771b",
   "metadata": {},
   "outputs": [],
   "source": [
    "params = {\"m\": m, \"c\": c}\n",
    "X_test = X\n",
    "y_test = y\n",
    "y_test_mean = sum(y_test)/len(y_test)"
   ]
  },
  {
   "cell_type": "code",
   "execution_count": 9,
   "id": "0b4ac814-8d4c-4b34-a910-bcd76672eb75",
   "metadata": {},
   "outputs": [
    {
     "name": "stdout",
     "output_type": "stream",
     "text": [
      "returning 0.001192368839427663\n",
      "m 0.2\n",
      "returning 0.001346883538470763\n",
      "m 0.30000000000000004\n",
      "returning 0.0015474113462532295\n",
      "m 0.4\n",
      "returning 0.0018181035061246701\n",
      "m 0.5\n",
      "returning 0.002203599042861383\n",
      "m 0.6\n",
      "returning 0.0027965995273752818\n",
      "m 0.7\n",
      "returning 0.003826389186948585\n",
      "m 0.7999999999999999\n",
      "returning 0.006057130458429189\n",
      "m 0.8999999999999999\n",
      "returning 0.01453157456730513\n",
      "m 0.9999999999999999\n",
      "returning -0.03625849548022597\n",
      "m 1.0999999999999999\n"
     ]
    }
   ],
   "source": [
    "for i in range(1, iterations + 1):\n",
    "    y_pred = forward(X, params)\n",
    "    y_test_pred = forward(X_test, params)\n",
    "\n",
    "    accuracy = r2_score(y_test, y_test_mean, y_test_pred)\n",
    "\n",
    "    grad_m = gradient_m(X, y, y_pred)\n",
    "    grad_c = gradient_c(y, y_pred)\n",
    "\n",
    "    m_pred = m + step_m\n",
    "    L = newton_raphson_L(L0, m_pred, m, grad_m)\n",
    "    \n",
    "    m = m - L * grad_m\n",
    "    c = c - L * grad_c\n",
    "\n",
    "    print(\"m\", m)\n",
    "\n",
    "    params = {\"m\": m, \"c\": c}"
   ]
  },
  {
   "cell_type": "code",
   "execution_count": null,
   "id": "b3ab351e-2e5d-4896-8cf7-25555d087355",
   "metadata": {},
   "outputs": [],
   "source": []
  }
 ],
 "metadata": {
  "kernelspec": {
   "display_name": "Python 3 (ipykernel)",
   "language": "python",
   "name": "python3"
  },
  "language_info": {
   "codemirror_mode": {
    "name": "ipython",
    "version": 3
   },
   "file_extension": ".py",
   "mimetype": "text/x-python",
   "name": "python",
   "nbconvert_exporter": "python",
   "pygments_lexer": "ipython3",
   "version": "3.12.4"
  }
 },
 "nbformat": 4,
 "nbformat_minor": 5
}
