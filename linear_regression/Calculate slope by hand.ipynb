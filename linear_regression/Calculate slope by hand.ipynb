{
 "cells": [
  {
   "cell_type": "code",
   "execution_count": 1,
   "id": "52d107db-89ca-476c-8839-50bafaf70b41",
   "metadata": {},
   "outputs": [],
   "source": [
    "import pandas as pd\n",
    "import numpy as np"
   ]
  },
  {
   "cell_type": "code",
   "execution_count": 2,
   "id": "60c10706-8fb0-48ac-969f-fd9b8673ed19",
   "metadata": {},
   "outputs": [],
   "source": [
    "from algorithm_gd import *"
   ]
  },
  {
   "cell_type": "code",
   "execution_count": 3,
   "id": "738d9879-fe99-461f-834c-d0d93072db5f",
   "metadata": {},
   "outputs": [],
   "source": [
    "df = pd.read_csv(\"random-data.csv\")"
   ]
  },
  {
   "cell_type": "code",
   "execution_count": 4,
   "id": "b113ab02-d404-4d3c-a22a-c20173356426",
   "metadata": {},
   "outputs": [],
   "source": [
    "X = df['X'].array\n",
    "y = df['y'].array"
   ]
  },
  {
   "cell_type": "code",
   "execution_count": 5,
   "id": "135574c2-5282-4586-ad3c-e6da88aa11a3",
   "metadata": {},
   "outputs": [
    {
     "data": {
      "text/plain": [
       "<NumpyExtensionArray>\n",
       "[  np.float64(2.0),  np.float64(2.25),  np.float64(1.75),   np.float64(2.0),\n",
       "  np.float64(2.25),  np.float64(1.75),   np.float64(2.0),  np.float64(2.25),\n",
       "  np.float64(1.75),   np.float64(6.0),  np.float64(6.25),  np.float64(5.75),\n",
       "   np.float64(6.0),  np.float64(6.25),  np.float64(5.75),   np.float64(6.0),\n",
       "  np.float64(6.25),  np.float64(5.75),  np.float64(10.0),  np.float64(9.75),\n",
       " np.float64(10.25),  np.float64(10.0),  np.float64(9.75), np.float64(10.25),\n",
       "  np.float64(10.0),  np.float64(9.75), np.float64(10.25)]\n",
       "Length: 27, dtype: float64"
      ]
     },
     "execution_count": 5,
     "metadata": {},
     "output_type": "execute_result"
    }
   ],
   "source": [
    "y"
   ]
  },
  {
   "cell_type": "code",
   "execution_count": 6,
   "id": "fac81f0f-6a06-4635-9442-4885a6872493",
   "metadata": {},
   "outputs": [
    {
     "data": {
      "text/plain": [
       "\u001b[0;31mSignature:\u001b[0m \u001b[0mforward\u001b[0m\u001b[0;34m(\u001b[0m\u001b[0mX\u001b[0m\u001b[0;34m,\u001b[0m \u001b[0mparams\u001b[0m\u001b[0;34m)\u001b[0m\u001b[0;34m\u001b[0m\u001b[0;34m\u001b[0m\u001b[0m\n",
       "\u001b[0;31mDocstring:\u001b[0m <no docstring>\n",
       "\u001b[0;31mFile:\u001b[0m      ~/research/cvf-python/linear_regression/algorithm_gd.py\n",
       "\u001b[0;31mType:\u001b[0m      function"
      ]
     },
     "metadata": {},
     "output_type": "display_data"
    }
   ],
   "source": [
    "forward?"
   ]
  },
  {
   "cell_type": "code",
   "execution_count": 18,
   "id": "bb6efd04-21c4-4804-bc77-c9b1bdcd0024",
   "metadata": {},
   "outputs": [
    {
     "name": "stdout",
     "output_type": "stream",
     "text": [
      "-8.133333333333331\n",
      "0.8833333333333333 -0.008133333333333331\n"
     ]
    },
    {
     "data": {
      "text/plain": [
       "np.float64(0.8914666666666666)"
      ]
     },
     "execution_count": 18,
     "metadata": {},
     "output_type": "execute_result"
    }
   ],
   "source": [
    "m1 = 0.9\n",
    "m2 = 0.9\n",
    "m3 = 0.8\n",
    "y_pred = forward(X, {\"m\": m1, \"c\": 0})\n",
    "grad_m = gradient_m(X, y, y_pred)\n",
    "print(grad_m)\n",
    "grad_m = np.round(grad_m, decimals=1)\n",
    "sub = 0.001*grad_m\n",
    "add = sum([2/3*m1, 1/6*m2, 1/6*m3])\n",
    "print(add, sub)\n",
    "m = add - sub\n",
    "m"
   ]
  },
  {
   "cell_type": "code",
   "execution_count": 8,
   "id": "fdd0487f-d7ca-4a5f-af4b-798489649bb6",
   "metadata": {},
   "outputs": [],
   "source": [
    "slope_step = 0.1\n",
    "min_slope = 0\n",
    "max_slope = 1.0"
   ]
  },
  {
   "cell_type": "code",
   "execution_count": 9,
   "id": "6b679dc1-619b-4e3b-94e1-8206fa0d4766",
   "metadata": {},
   "outputs": [],
   "source": [
    "def get_adjusted_value(value):\n",
    "    if value > max_slope:\n",
    "        return max_slope\n",
    "\n",
    "    if value < min_slope:\n",
    "        return min_slope\n",
    "\n",
    "    result = value\n",
    "\n",
    "    if result / slope_step != 0:\n",
    "        result = (result // slope_step) * slope_step\n",
    "\n",
    "    if (value - result) > slope_step / 2:\n",
    "        result = result + slope_step\n",
    "\n",
    "    return result"
   ]
  },
  {
   "cell_type": "code",
   "execution_count": 17,
   "id": "78a9a5f5-3707-419c-9d7f-615c87908c10",
   "metadata": {},
   "outputs": [
    {
     "data": {
      "text/plain": [
       "np.float64(0.9)"
      ]
     },
     "execution_count": 17,
     "metadata": {},
     "output_type": "execute_result"
    }
   ],
   "source": [
    "ad_m = get_adjusted_value(m)\n",
    "ad_m"
   ]
  },
  {
   "cell_type": "code",
   "execution_count": 12,
   "id": "5d5e84a4-07a4-4d36-8e25-44efb4fe560c",
   "metadata": {},
   "outputs": [
    {
     "data": {
      "text/plain": [
       "np.float64(0.9)"
      ]
     },
     "execution_count": 12,
     "metadata": {},
     "output_type": "execute_result"
    }
   ],
   "source": [
    "ad_m"
   ]
  },
  {
   "cell_type": "code",
   "execution_count": 13,
   "id": "af7ae263-45a9-4595-a201-eeeefc994139",
   "metadata": {},
   "outputs": [
    {
     "data": {
      "text/plain": [
       "np.float64(0.9)"
      ]
     },
     "execution_count": 13,
     "metadata": {},
     "output_type": "execute_result"
    }
   ],
   "source": [
    "np.round(ad_m, 1)"
   ]
  },
  {
   "cell_type": "code",
   "execution_count": 14,
   "id": "c1b415fe-c80b-49c6-8db5-d376f40f1f7c",
   "metadata": {},
   "outputs": [],
   "source": [
    "def __get_next_near_convergence_value(original_value, calculated_value, adjusted_value):\n",
    "    if calculated_value > original_value:\n",
    "        return original_value + slope_step\n",
    "    elif calculated_value < original_value:\n",
    "        return original_value - slope_step\n",
    "    return adjusted_value"
   ]
  },
  {
   "cell_type": "code",
   "execution_count": 19,
   "id": "6d0c7c99-0fb0-4292-bfd2-14ae94fbdcd0",
   "metadata": {},
   "outputs": [
    {
     "data": {
      "text/plain": [
       "0.8"
      ]
     },
     "execution_count": 19,
     "metadata": {},
     "output_type": "execute_result"
    }
   ],
   "source": [
    "__get_next_near_convergence_value(m1, 0.8914666666666666, ad_m)"
   ]
  },
  {
   "cell_type": "code",
   "execution_count": 16,
   "id": "291b7df0-9d53-420f-94f8-bbe3148a704e",
   "metadata": {},
   "outputs": [
    {
     "data": {
      "text/plain": [
       "np.float64(0.8914333333333333)"
      ]
     },
     "execution_count": 16,
     "metadata": {},
     "output_type": "execute_result"
    }
   ],
   "source": [
    "m"
   ]
  },
  {
   "cell_type": "code",
   "execution_count": null,
   "id": "2f575701-63bc-4c85-b719-232e2836e4b9",
   "metadata": {},
   "outputs": [],
   "source": []
  }
 ],
 "metadata": {
  "kernelspec": {
   "display_name": "Python 3 (ipykernel)",
   "language": "python",
   "name": "python3"
  },
  "language_info": {
   "codemirror_mode": {
    "name": "ipython",
    "version": 3
   },
   "file_extension": ".py",
   "mimetype": "text/x-python",
   "name": "python",
   "nbconvert_exporter": "python",
   "pygments_lexer": "ipython3",
   "version": "3.12.4"
  }
 },
 "nbformat": 4,
 "nbformat_minor": 5
}
