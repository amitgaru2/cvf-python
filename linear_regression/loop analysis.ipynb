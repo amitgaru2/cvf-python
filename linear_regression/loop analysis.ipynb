{
 "cells": [
  {
   "cell_type": "code",
   "execution_count": 1,
   "id": "7fb1bea2-e73d-47e6-85e0-d1d52e6461f6",
   "metadata": {},
   "outputs": [],
   "source": [
    "import random\n",
    "\n",
    "import numpy as np\n",
    "import pandas as pd\n",
    "import seaborn as sns\n",
    "\n",
    "from algorithm_gd import forward, loss_fn, r2_score, gradient_m, gradient_c, get_iteration_vs_accuracy_data"
   ]
  },
  {
   "cell_type": "code",
   "execution_count": 2,
   "id": "45207350-1600-42c4-bccf-aa946e09ea59",
   "metadata": {},
   "outputs": [
    {
     "data": {
      "text/html": [
       "<div>\n",
       "<style scoped>\n",
       "    .dataframe tbody tr th:only-of-type {\n",
       "        vertical-align: middle;\n",
       "    }\n",
       "\n",
       "    .dataframe tbody tr th {\n",
       "        vertical-align: top;\n",
       "    }\n",
       "\n",
       "    .dataframe thead th {\n",
       "        text-align: right;\n",
       "    }\n",
       "</style>\n",
       "<table border=\"1\" class=\"dataframe\">\n",
       "  <thead>\n",
       "    <tr style=\"text-align: right;\">\n",
       "      <th></th>\n",
       "      <th>Index</th>\n",
       "      <th>X</th>\n",
       "      <th>y</th>\n",
       "    </tr>\n",
       "  </thead>\n",
       "  <tbody>\n",
       "    <tr>\n",
       "      <th>0</th>\n",
       "      <td>1</td>\n",
       "      <td>65.78331</td>\n",
       "      <td>112.9925</td>\n",
       "    </tr>\n",
       "    <tr>\n",
       "      <th>1</th>\n",
       "      <td>2</td>\n",
       "      <td>71.51521</td>\n",
       "      <td>136.4873</td>\n",
       "    </tr>\n",
       "    <tr>\n",
       "      <th>2</th>\n",
       "      <td>3</td>\n",
       "      <td>69.39874</td>\n",
       "      <td>153.0269</td>\n",
       "    </tr>\n",
       "    <tr>\n",
       "      <th>3</th>\n",
       "      <td>4</td>\n",
       "      <td>68.21660</td>\n",
       "      <td>142.3354</td>\n",
       "    </tr>\n",
       "    <tr>\n",
       "      <th>4</th>\n",
       "      <td>5</td>\n",
       "      <td>67.78781</td>\n",
       "      <td>144.2971</td>\n",
       "    </tr>\n",
       "    <tr>\n",
       "      <th>...</th>\n",
       "      <td>...</td>\n",
       "      <td>...</td>\n",
       "      <td>...</td>\n",
       "    </tr>\n",
       "    <tr>\n",
       "      <th>24995</th>\n",
       "      <td>24996</td>\n",
       "      <td>69.50215</td>\n",
       "      <td>118.0312</td>\n",
       "    </tr>\n",
       "    <tr>\n",
       "      <th>24996</th>\n",
       "      <td>24997</td>\n",
       "      <td>64.54826</td>\n",
       "      <td>120.1932</td>\n",
       "    </tr>\n",
       "    <tr>\n",
       "      <th>24997</th>\n",
       "      <td>24998</td>\n",
       "      <td>64.69855</td>\n",
       "      <td>118.2655</td>\n",
       "    </tr>\n",
       "    <tr>\n",
       "      <th>24998</th>\n",
       "      <td>24999</td>\n",
       "      <td>67.52918</td>\n",
       "      <td>132.2682</td>\n",
       "    </tr>\n",
       "    <tr>\n",
       "      <th>24999</th>\n",
       "      <td>25000</td>\n",
       "      <td>68.87761</td>\n",
       "      <td>124.8742</td>\n",
       "    </tr>\n",
       "  </tbody>\n",
       "</table>\n",
       "<p>25000 rows × 3 columns</p>\n",
       "</div>"
      ],
      "text/plain": [
       "       Index         X         y\n",
       "0          1  65.78331  112.9925\n",
       "1          2  71.51521  136.4873\n",
       "2          3  69.39874  153.0269\n",
       "3          4  68.21660  142.3354\n",
       "4          5  67.78781  144.2971\n",
       "...      ...       ...       ...\n",
       "24995  24996  69.50215  118.0312\n",
       "24996  24997  64.54826  120.1932\n",
       "24997  24998  64.69855  118.2655\n",
       "24998  24999  67.52918  132.2682\n",
       "24999  25000  68.87761  124.8742\n",
       "\n",
       "[25000 rows x 3 columns]"
      ]
     },
     "execution_count": 2,
     "metadata": {},
     "output_type": "execute_result"
    }
   ],
   "source": [
    "df = pd.read_csv(\"SOCR-HeightWeight.csv\")\n",
    "df.rename(columns={\"Height(Inches)\": \"X\", \"Weight(Pounds)\": \"y\"}, inplace=True)\n",
    "df"
   ]
  },
  {
   "cell_type": "code",
   "execution_count": 3,
   "id": "370d975d-d15c-46f6-9723-9dc4ef06d2bc",
   "metadata": {},
   "outputs": [],
   "source": [
    "df['X_sqr'] = df['X'].apply(lambda x: np.square(x))\n",
    "df['Xy'] = df[['X', 'y']].apply(lambda row: row.X * row.y, axis=1)"
   ]
  },
  {
   "cell_type": "code",
   "execution_count": 4,
   "id": "3069cc27-4928-4b01-bd90-83151ad7a4b6",
   "metadata": {},
   "outputs": [
    {
     "data": {
      "text/html": [
       "<div>\n",
       "<style scoped>\n",
       "    .dataframe tbody tr th:only-of-type {\n",
       "        vertical-align: middle;\n",
       "    }\n",
       "\n",
       "    .dataframe tbody tr th {\n",
       "        vertical-align: top;\n",
       "    }\n",
       "\n",
       "    .dataframe thead th {\n",
       "        text-align: right;\n",
       "    }\n",
       "</style>\n",
       "<table border=\"1\" class=\"dataframe\">\n",
       "  <thead>\n",
       "    <tr style=\"text-align: right;\">\n",
       "      <th></th>\n",
       "      <th>Index</th>\n",
       "      <th>X</th>\n",
       "      <th>y</th>\n",
       "      <th>X_sqr</th>\n",
       "      <th>Xy</th>\n",
       "    </tr>\n",
       "  </thead>\n",
       "  <tbody>\n",
       "    <tr>\n",
       "      <th>0</th>\n",
       "      <td>1</td>\n",
       "      <td>65.78331</td>\n",
       "      <td>112.9925</td>\n",
       "      <td>4327.443875</td>\n",
       "      <td>7433.020655</td>\n",
       "    </tr>\n",
       "    <tr>\n",
       "      <th>1</th>\n",
       "      <td>2</td>\n",
       "      <td>71.51521</td>\n",
       "      <td>136.4873</td>\n",
       "      <td>5114.425261</td>\n",
       "      <td>9760.917922</td>\n",
       "    </tr>\n",
       "    <tr>\n",
       "      <th>2</th>\n",
       "      <td>3</td>\n",
       "      <td>69.39874</td>\n",
       "      <td>153.0269</td>\n",
       "      <td>4816.185114</td>\n",
       "      <td>10619.874046</td>\n",
       "    </tr>\n",
       "    <tr>\n",
       "      <th>3</th>\n",
       "      <td>4</td>\n",
       "      <td>68.21660</td>\n",
       "      <td>142.3354</td>\n",
       "      <td>4653.504516</td>\n",
       "      <td>9709.637048</td>\n",
       "    </tr>\n",
       "    <tr>\n",
       "      <th>4</th>\n",
       "      <td>5</td>\n",
       "      <td>67.78781</td>\n",
       "      <td>144.2971</td>\n",
       "      <td>4595.187185</td>\n",
       "      <td>9781.584398</td>\n",
       "    </tr>\n",
       "    <tr>\n",
       "      <th>...</th>\n",
       "      <td>...</td>\n",
       "      <td>...</td>\n",
       "      <td>...</td>\n",
       "      <td>...</td>\n",
       "      <td>...</td>\n",
       "    </tr>\n",
       "    <tr>\n",
       "      <th>24995</th>\n",
       "      <td>24996</td>\n",
       "      <td>69.50215</td>\n",
       "      <td>118.0312</td>\n",
       "      <td>4830.548855</td>\n",
       "      <td>8203.422167</td>\n",
       "    </tr>\n",
       "    <tr>\n",
       "      <th>24996</th>\n",
       "      <td>24997</td>\n",
       "      <td>64.54826</td>\n",
       "      <td>120.1932</td>\n",
       "      <td>4166.477869</td>\n",
       "      <td>7758.261924</td>\n",
       "    </tr>\n",
       "    <tr>\n",
       "      <th>24997</th>\n",
       "      <td>24998</td>\n",
       "      <td>64.69855</td>\n",
       "      <td>118.2655</td>\n",
       "      <td>4185.902372</td>\n",
       "      <td>7651.606365</td>\n",
       "    </tr>\n",
       "    <tr>\n",
       "      <th>24998</th>\n",
       "      <td>24999</td>\n",
       "      <td>67.52918</td>\n",
       "      <td>132.2682</td>\n",
       "      <td>4560.190151</td>\n",
       "      <td>8931.963086</td>\n",
       "    </tr>\n",
       "    <tr>\n",
       "      <th>24999</th>\n",
       "      <td>25000</td>\n",
       "      <td>68.87761</td>\n",
       "      <td>124.8742</td>\n",
       "      <td>4744.125159</td>\n",
       "      <td>8601.036447</td>\n",
       "    </tr>\n",
       "  </tbody>\n",
       "</table>\n",
       "<p>25000 rows × 5 columns</p>\n",
       "</div>"
      ],
      "text/plain": [
       "       Index         X         y        X_sqr            Xy\n",
       "0          1  65.78331  112.9925  4327.443875   7433.020655\n",
       "1          2  71.51521  136.4873  5114.425261   9760.917922\n",
       "2          3  69.39874  153.0269  4816.185114  10619.874046\n",
       "3          4  68.21660  142.3354  4653.504516   9709.637048\n",
       "4          5  67.78781  144.2971  4595.187185   9781.584398\n",
       "...      ...       ...       ...          ...           ...\n",
       "24995  24996  69.50215  118.0312  4830.548855   8203.422167\n",
       "24996  24997  64.54826  120.1932  4166.477869   7758.261924\n",
       "24997  24998  64.69855  118.2655  4185.902372   7651.606365\n",
       "24998  24999  67.52918  132.2682  4560.190151   8931.963086\n",
       "24999  25000  68.87761  124.8742  4744.125159   8601.036447\n",
       "\n",
       "[25000 rows x 5 columns]"
      ]
     },
     "execution_count": 4,
     "metadata": {},
     "output_type": "execute_result"
    }
   ],
   "source": [
    "df"
   ]
  },
  {
   "cell_type": "code",
   "execution_count": 5,
   "id": "d0c2b197-6d46-4809-a335-560febfb92fe",
   "metadata": {},
   "outputs": [],
   "source": [
    "L = 0.001"
   ]
  },
  {
   "cell_type": "code",
   "execution_count": 6,
   "id": "50369de4-d030-4502-b490-dac70c9ff449",
   "metadata": {},
   "outputs": [],
   "source": [
    "doubly_stochastic_matrix_config = [\n",
    "    [1 / 2, 1 / 4, 1 / 8, 1 / 8],\n",
    "    [1 / 4, 3 / 4, 0, 0],\n",
    "    [1 / 8, 0, 7 / 8, 0],\n",
    "    [1 / 8, 0, 0, 7 / 8],\n",
    "]"
   ]
  },
  {
   "cell_type": "code",
   "execution_count": 7,
   "id": "53e2b1ac-01b7-4e9c-85a9-be94b6d9f3a6",
   "metadata": {},
   "outputs": [],
   "source": [
    "s1 = [1.7, 1.9, 1.1, 1.8]\n",
    "s2 = [1.7, 1.9, 1.1, 1.9]"
   ]
  },
  {
   "cell_type": "code",
   "execution_count": 8,
   "id": "01e9856e-723f-46b8-92cd-9e882b1abdc5",
   "metadata": {},
   "outputs": [],
   "source": [
    "def get_front(s, pos):\n",
    "    dbl_st_mat = doubly_stochastic_matrix_config[pos]\n",
    "    return sum(i*j for i, j in zip(dbl_st_mat, s))"
   ]
  },
  {
   "cell_type": "code",
   "execution_count": 9,
   "id": "7aa343b8-724e-4946-8f1d-aa886b86df9e",
   "metadata": {},
   "outputs": [],
   "source": [
    "def get_p():\n",
    "    return -2/df.Index.count()"
   ]
  },
  {
   "cell_type": "code",
   "execution_count": 10,
   "id": "f3a55b91-20c4-4279-80a4-5ba3ca0dff4a",
   "metadata": {},
   "outputs": [],
   "source": [
    "def get_q():\n",
    "    return np.sum(df['Xy'])"
   ]
  },
  {
   "cell_type": "code",
   "execution_count": 11,
   "id": "5fe3b115-e0c9-4e29-9933-d6425792fce3",
   "metadata": {},
   "outputs": [],
   "source": [
    "def get_r():\n",
    "    return np.sum(df['X_sqr'])"
   ]
  },
  {
   "cell_type": "code",
   "execution_count": 12,
   "id": "19525068-5bed-446d-83a2-aaef425b1bbe",
   "metadata": {},
   "outputs": [
    {
     "data": {
      "text/plain": [
       "(np.float64(-8e-05),\n",
       " np.float64(216291902.5483566),\n",
       " np.float64(115666993.35202293))"
      ]
     },
     "execution_count": 12,
     "metadata": {},
     "output_type": "execute_result"
    }
   ],
   "source": [
    "p = get_p()\n",
    "q = get_q()\n",
    "r = get_r()\n",
    "p, q, r"
   ]
  },
  {
   "cell_type": "code",
   "execution_count": 13,
   "id": "a4ee8d26-f2a9-4e0c-8fa3-6e3dd195e28e",
   "metadata": {},
   "outputs": [
    {
     "name": "stdout",
     "output_type": "stream",
     "text": [
      "1.7874999999999999 [1.7, 1.9, 1.1, np.float64(2.4348051611772252)]\n"
     ]
    }
   ],
   "source": [
    "for i in range(1):\n",
    "    pos = 3\n",
    "    frnt = get_front(s1, pos) \n",
    "    s1[pos] = frnt - L * p * (q - s1[pos] * r)\n",
    "    print(frnt, s1)"
   ]
  },
  {
   "cell_type": "code",
   "execution_count": null,
   "id": "c21680f0-0bc4-4a79-8ba2-45b23728ec47",
   "metadata": {},
   "outputs": [],
   "source": []
  }
 ],
 "metadata": {
  "kernelspec": {
   "display_name": "Python 3 (ipykernel)",
   "language": "python",
   "name": "python3"
  },
  "language_info": {
   "codemirror_mode": {
    "name": "ipython",
    "version": 3
   },
   "file_extension": ".py",
   "mimetype": "text/x-python",
   "name": "python",
   "nbconvert_exporter": "python",
   "pygments_lexer": "ipython3",
   "version": "3.12.4"
  }
 },
 "nbformat": 4,
 "nbformat_minor": 5
}
