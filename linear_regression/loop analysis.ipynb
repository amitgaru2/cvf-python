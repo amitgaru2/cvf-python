{
 "cells": [
  {
   "cell_type": "code",
   "execution_count": 1,
   "id": "7fb1bea2-e73d-47e6-85e0-d1d52e6461f6",
   "metadata": {},
   "outputs": [],
   "source": [
    "import random\n",
    "\n",
    "import numpy as np\n",
    "import pandas as pd\n",
    "import seaborn as sns\n",
    "\n",
    "from algorithm_gd import forward, loss_fn, r2_score, gradient_m, gradient_c, get_iteration_vs_accuracy_data"
   ]
  },
  {
   "cell_type": "code",
   "execution_count": 2,
   "id": "45207350-1600-42c4-bccf-aa946e09ea59",
   "metadata": {},
   "outputs": [
    {
     "data": {
      "text/html": [
       "<div>\n",
       "<style scoped>\n",
       "    .dataframe tbody tr th:only-of-type {\n",
       "        vertical-align: middle;\n",
       "    }\n",
       "\n",
       "    .dataframe tbody tr th {\n",
       "        vertical-align: top;\n",
       "    }\n",
       "\n",
       "    .dataframe thead th {\n",
       "        text-align: right;\n",
       "    }\n",
       "</style>\n",
       "<table border=\"1\" class=\"dataframe\">\n",
       "  <thead>\n",
       "    <tr style=\"text-align: right;\">\n",
       "      <th></th>\n",
       "      <th>Index</th>\n",
       "      <th>X</th>\n",
       "      <th>y</th>\n",
       "    </tr>\n",
       "  </thead>\n",
       "  <tbody>\n",
       "    <tr>\n",
       "      <th>0</th>\n",
       "      <td>1</td>\n",
       "      <td>65.78331</td>\n",
       "      <td>112.9925</td>\n",
       "    </tr>\n",
       "    <tr>\n",
       "      <th>1</th>\n",
       "      <td>2</td>\n",
       "      <td>71.51521</td>\n",
       "      <td>136.4873</td>\n",
       "    </tr>\n",
       "    <tr>\n",
       "      <th>2</th>\n",
       "      <td>3</td>\n",
       "      <td>69.39874</td>\n",
       "      <td>153.0269</td>\n",
       "    </tr>\n",
       "    <tr>\n",
       "      <th>3</th>\n",
       "      <td>4</td>\n",
       "      <td>68.21660</td>\n",
       "      <td>142.3354</td>\n",
       "    </tr>\n",
       "    <tr>\n",
       "      <th>4</th>\n",
       "      <td>5</td>\n",
       "      <td>67.78781</td>\n",
       "      <td>144.2971</td>\n",
       "    </tr>\n",
       "    <tr>\n",
       "      <th>...</th>\n",
       "      <td>...</td>\n",
       "      <td>...</td>\n",
       "      <td>...</td>\n",
       "    </tr>\n",
       "    <tr>\n",
       "      <th>24995</th>\n",
       "      <td>24996</td>\n",
       "      <td>69.50215</td>\n",
       "      <td>118.0312</td>\n",
       "    </tr>\n",
       "    <tr>\n",
       "      <th>24996</th>\n",
       "      <td>24997</td>\n",
       "      <td>64.54826</td>\n",
       "      <td>120.1932</td>\n",
       "    </tr>\n",
       "    <tr>\n",
       "      <th>24997</th>\n",
       "      <td>24998</td>\n",
       "      <td>64.69855</td>\n",
       "      <td>118.2655</td>\n",
       "    </tr>\n",
       "    <tr>\n",
       "      <th>24998</th>\n",
       "      <td>24999</td>\n",
       "      <td>67.52918</td>\n",
       "      <td>132.2682</td>\n",
       "    </tr>\n",
       "    <tr>\n",
       "      <th>24999</th>\n",
       "      <td>25000</td>\n",
       "      <td>68.87761</td>\n",
       "      <td>124.8742</td>\n",
       "    </tr>\n",
       "  </tbody>\n",
       "</table>\n",
       "<p>25000 rows × 3 columns</p>\n",
       "</div>"
      ],
      "text/plain": [
       "       Index         X         y\n",
       "0          1  65.78331  112.9925\n",
       "1          2  71.51521  136.4873\n",
       "2          3  69.39874  153.0269\n",
       "3          4  68.21660  142.3354\n",
       "4          5  67.78781  144.2971\n",
       "...      ...       ...       ...\n",
       "24995  24996  69.50215  118.0312\n",
       "24996  24997  64.54826  120.1932\n",
       "24997  24998  64.69855  118.2655\n",
       "24998  24999  67.52918  132.2682\n",
       "24999  25000  68.87761  124.8742\n",
       "\n",
       "[25000 rows x 3 columns]"
      ]
     },
     "execution_count": 2,
     "metadata": {},
     "output_type": "execute_result"
    }
   ],
   "source": [
    "df = pd.read_csv(\"SOCR-HeightWeight.csv\")\n",
    "df.rename(columns={\"Height(Inches)\": \"X\", \"Weight(Pounds)\": \"y\"}, inplace=True)\n",
    "df"
   ]
  },
  {
   "cell_type": "code",
   "execution_count": 3,
   "id": "370d975d-d15c-46f6-9723-9dc4ef06d2bc",
   "metadata": {},
   "outputs": [],
   "source": [
    "df['X_sqr'] = df['X'].apply(lambda x: np.square(x))"
   ]
  },
  {
   "cell_type": "code",
   "execution_count": 4,
   "id": "3069cc27-4928-4b01-bd90-83151ad7a4b6",
   "metadata": {},
   "outputs": [
    {
     "data": {
      "text/html": [
       "<div>\n",
       "<style scoped>\n",
       "    .dataframe tbody tr th:only-of-type {\n",
       "        vertical-align: middle;\n",
       "    }\n",
       "\n",
       "    .dataframe tbody tr th {\n",
       "        vertical-align: top;\n",
       "    }\n",
       "\n",
       "    .dataframe thead th {\n",
       "        text-align: right;\n",
       "    }\n",
       "</style>\n",
       "<table border=\"1\" class=\"dataframe\">\n",
       "  <thead>\n",
       "    <tr style=\"text-align: right;\">\n",
       "      <th></th>\n",
       "      <th>Index</th>\n",
       "      <th>X</th>\n",
       "      <th>y</th>\n",
       "      <th>X_sqr</th>\n",
       "    </tr>\n",
       "  </thead>\n",
       "  <tbody>\n",
       "    <tr>\n",
       "      <th>0</th>\n",
       "      <td>1</td>\n",
       "      <td>65.78331</td>\n",
       "      <td>112.9925</td>\n",
       "      <td>4327.443875</td>\n",
       "    </tr>\n",
       "    <tr>\n",
       "      <th>1</th>\n",
       "      <td>2</td>\n",
       "      <td>71.51521</td>\n",
       "      <td>136.4873</td>\n",
       "      <td>5114.425261</td>\n",
       "    </tr>\n",
       "    <tr>\n",
       "      <th>2</th>\n",
       "      <td>3</td>\n",
       "      <td>69.39874</td>\n",
       "      <td>153.0269</td>\n",
       "      <td>4816.185114</td>\n",
       "    </tr>\n",
       "    <tr>\n",
       "      <th>3</th>\n",
       "      <td>4</td>\n",
       "      <td>68.21660</td>\n",
       "      <td>142.3354</td>\n",
       "      <td>4653.504516</td>\n",
       "    </tr>\n",
       "    <tr>\n",
       "      <th>4</th>\n",
       "      <td>5</td>\n",
       "      <td>67.78781</td>\n",
       "      <td>144.2971</td>\n",
       "      <td>4595.187185</td>\n",
       "    </tr>\n",
       "    <tr>\n",
       "      <th>...</th>\n",
       "      <td>...</td>\n",
       "      <td>...</td>\n",
       "      <td>...</td>\n",
       "      <td>...</td>\n",
       "    </tr>\n",
       "    <tr>\n",
       "      <th>24995</th>\n",
       "      <td>24996</td>\n",
       "      <td>69.50215</td>\n",
       "      <td>118.0312</td>\n",
       "      <td>4830.548855</td>\n",
       "    </tr>\n",
       "    <tr>\n",
       "      <th>24996</th>\n",
       "      <td>24997</td>\n",
       "      <td>64.54826</td>\n",
       "      <td>120.1932</td>\n",
       "      <td>4166.477869</td>\n",
       "    </tr>\n",
       "    <tr>\n",
       "      <th>24997</th>\n",
       "      <td>24998</td>\n",
       "      <td>64.69855</td>\n",
       "      <td>118.2655</td>\n",
       "      <td>4185.902372</td>\n",
       "    </tr>\n",
       "    <tr>\n",
       "      <th>24998</th>\n",
       "      <td>24999</td>\n",
       "      <td>67.52918</td>\n",
       "      <td>132.2682</td>\n",
       "      <td>4560.190151</td>\n",
       "    </tr>\n",
       "    <tr>\n",
       "      <th>24999</th>\n",
       "      <td>25000</td>\n",
       "      <td>68.87761</td>\n",
       "      <td>124.8742</td>\n",
       "      <td>4744.125159</td>\n",
       "    </tr>\n",
       "  </tbody>\n",
       "</table>\n",
       "<p>25000 rows × 4 columns</p>\n",
       "</div>"
      ],
      "text/plain": [
       "       Index         X         y        X_sqr\n",
       "0          1  65.78331  112.9925  4327.443875\n",
       "1          2  71.51521  136.4873  5114.425261\n",
       "2          3  69.39874  153.0269  4816.185114\n",
       "3          4  68.21660  142.3354  4653.504516\n",
       "4          5  67.78781  144.2971  4595.187185\n",
       "...      ...       ...       ...          ...\n",
       "24995  24996  69.50215  118.0312  4830.548855\n",
       "24996  24997  64.54826  120.1932  4166.477869\n",
       "24997  24998  64.69855  118.2655  4185.902372\n",
       "24998  24999  67.52918  132.2682  4560.190151\n",
       "24999  25000  68.87761  124.8742  4744.125159\n",
       "\n",
       "[25000 rows x 4 columns]"
      ]
     },
     "execution_count": 4,
     "metadata": {},
     "output_type": "execute_result"
    }
   ],
   "source": [
    "df"
   ]
  },
  {
   "cell_type": "code",
   "execution_count": 5,
   "id": "d7fa8d99-411a-436f-bef1-67f0e8de77ae",
   "metadata": {},
   "outputs": [],
   "source": [
    "diff = 0.1"
   ]
  },
  {
   "cell_type": "code",
   "execution_count": 6,
   "id": "55cc2644-4d6f-4ee0-9a4f-347ef68479fe",
   "metadata": {},
   "outputs": [
    {
     "data": {
      "text/plain": [
       "np.float64(0.9253359468161835)"
      ]
     },
     "execution_count": 6,
     "metadata": {},
     "output_type": "execute_result"
    }
   ],
   "source": [
    "tmp = (2/df.Index.count()) * 0.0001 * df['X_sqr'].sum()\n",
    "tmp"
   ]
  },
  {
   "cell_type": "code",
   "execution_count": 7,
   "id": "50369de4-d030-4502-b490-dac70c9ff449",
   "metadata": {},
   "outputs": [],
   "source": [
    "dbl_st_mat = [1/8, 0, 0, 7/8]"
   ]
  },
  {
   "cell_type": "code",
   "execution_count": 12,
   "id": "53e2b1ac-01b7-4e9c-85a9-be94b6d9f3a6",
   "metadata": {},
   "outputs": [],
   "source": [
    "s1 = [1.7, 1.9, 1.1, 1.8]\n",
    "s2 = [1.7, 1.9, 1.1, 1.9]"
   ]
  },
  {
   "cell_type": "code",
   "execution_count": 13,
   "id": "01e9856e-723f-46b8-92cd-9e882b1abdc5",
   "metadata": {},
   "outputs": [],
   "source": [
    "def get_front(s):\n",
    "    return sum(i*j for i, j in zip(dbl_st_mat, s))"
   ]
  },
  {
   "cell_type": "code",
   "execution_count": 14,
   "id": "a4ee8d26-f2a9-4e0c-8fa3-6e3dd195e28e",
   "metadata": {},
   "outputs": [
    {
     "name": "stdout",
     "output_type": "stream",
     "text": [
      "1.7874999999999999 [1.7, 1.9, 1.1, np.float64(1.6325834257989429)]\n",
      "1.641010497574075 [1.7, 1.9, 1.1, np.float64(1.745449944770064)]\n",
      "1.739768701673806 [1.7, 1.9, 1.1, np.float64(1.6693592042597503)]\n",
      "1.6731893037272814 [1.7, 1.9, 1.1, np.float64(1.7206569747960176)]\n",
      "1.7180748529465153 [1.7, 1.9, 1.1, np.float64(1.6860737752589476)]\n",
      "1.6878145533515791 [1.7, 1.9, 1.1, np.float64(1.7093885836359568)]\n",
      "1.7082150106814622 [1.7, 1.9, 1.1, np.float64(1.6936705385466369)]\n",
      "1.694461721228307 [1.7, 1.9, 1.1, np.float64(1.7042671060772316)]\n",
      "1.7037337178175775 [1.7, 1.9, 1.1, np.float64(1.6971232632652034)]\n",
      "1.697482855357053 [1.7, 1.9, 1.1, np.float64(1.7019393973553827)]\n"
     ]
    }
   ],
   "source": [
    "for i in range(10):\n",
    "    frnt = get_front(s1) \n",
    "    s1[3] = (frnt - tmp * s1[3])/(1-tmp)\n",
    "    print(frnt, s1)"
   ]
  },
  {
   "cell_type": "code",
   "execution_count": null,
   "id": "1a612c3a-dce8-4993-8638-1109e5e46116",
   "metadata": {},
   "outputs": [],
   "source": [
    "1.8749 - tmp * diff"
   ]
  },
  {
   "cell_type": "code",
   "execution_count": null,
   "id": "19d39fcb-43b7-4ba3-add7-dc8217aaa246",
   "metadata": {},
   "outputs": [],
   "source": [
    "1.78749 + tmp * diff"
   ]
  },
  {
   "cell_type": "code",
   "execution_count": null,
   "id": "6bbbcd34-64de-40b5-be79-03190b8ac541",
   "metadata": {},
   "outputs": [],
   "source": []
  }
 ],
 "metadata": {
  "kernelspec": {
   "display_name": "Python 3 (ipykernel)",
   "language": "python",
   "name": "python3"
  },
  "language_info": {
   "codemirror_mode": {
    "name": "ipython",
    "version": 3
   },
   "file_extension": ".py",
   "mimetype": "text/x-python",
   "name": "python",
   "nbconvert_exporter": "python",
   "pygments_lexer": "ipython3",
   "version": "3.12.4"
  }
 },
 "nbformat": 4,
 "nbformat_minor": 5
}
