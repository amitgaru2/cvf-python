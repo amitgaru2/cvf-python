{
 "cells": [
  {
   "cell_type": "code",
   "execution_count": 1,
   "id": "9dbf0ccc-b668-4b82-aed3-d175761c4a7b",
   "metadata": {},
   "outputs": [
    {
     "name": "stderr",
     "output_type": "stream",
     "text": [
      "C:\\Users\\amitg\\AppData\\Local\\Temp\\ipykernel_6092\\2115673951.py:6: DeprecationWarning: \n",
      "Pyarrow will become a required dependency of pandas in the next major release of pandas (pandas 3.0),\n",
      "(to allow more performant data types, such as the Arrow string type, and better interoperability with other libraries)\n",
      "but was not found to be installed on your system.\n",
      "If this would cause problems for you,\n",
      "please provide us feedback at https://github.com/pandas-dev/pandas/issues/54466\n",
      "        \n",
      "  import pandas as pd\n"
     ]
    }
   ],
   "source": [
    "import os\n",
    "import csv\n",
    "import copy\n",
    "import math\n",
    "\n",
    "import pandas as pd"
   ]
  },
  {
   "cell_type": "code",
   "execution_count": 47,
   "id": "792245d4-f48f-42f7-80b2-36b6bae18e21",
   "metadata": {},
   "outputs": [],
   "source": [
    "graph = {\n",
    "    'A': ['B'],\n",
    "    'B': ['A', 'C'],\n",
    "    'C': ['B', 'D'],\n",
    "    'D': ['C']\n",
    "}"
   ]
  },
  {
   "cell_type": "code",
   "execution_count": 48,
   "id": "a11e26b8-6486-4a84-bce6-ab9938ac4d46",
   "metadata": {},
   "outputs": [
    {
     "data": {
      "text/plain": [
       "{'A': 0, 'B': 1, 'C': 2, 'D': 3}"
      ]
     },
     "execution_count": 48,
     "metadata": {},
     "output_type": "execute_result"
    }
   ],
   "source": [
    "nodes = list(graph.keys())\n",
    "node_positions = {v: i for i, v in enumerate(nodes)}\n",
    "node_positions"
   ]
  },
  {
   "cell_type": "code",
   "execution_count": 49,
   "id": "112326de-67e4-4643-bc6c-b4e10fa67ada",
   "metadata": {},
   "outputs": [
    {
     "data": {
      "text/plain": [
       "{0: [1], 1: [0, 2], 2: [1, 3], 3: [2]}"
      ]
     },
     "execution_count": 49,
     "metadata": {},
     "output_type": "execute_result"
    }
   ],
   "source": [
    "graph_based_on_indx = {}\n",
    "for k, v in graph.items():\n",
    "    graph_based_on_indx[node_positions[k]] = []\n",
    "    for iv in v:\n",
    "        graph_based_on_indx[node_positions[k]].append(node_positions[iv])\n",
    "graph_based_on_indx"
   ]
  },
  {
   "cell_type": "code",
   "execution_count": 50,
   "id": "cbd963ed-6426-42c8-acd8-50aa9342c378",
   "metadata": {},
   "outputs": [
    {
     "name": "stdout",
     "output_type": "stream",
     "text": [
      "Degree of all nodes (starting from 0):\n"
     ]
    },
    {
     "data": {
      "text/plain": [
       "{'A': 1, 'B': 2, 'C': 2, 'D': 1}"
      ]
     },
     "execution_count": 50,
     "metadata": {},
     "output_type": "execute_result"
    }
   ],
   "source": [
    "degree_of_nodes = {n: len(graph[n]) for n in nodes}\n",
    "\n",
    "print(\"Degree of all nodes (starting from 0):\")\n",
    "degree_of_nodes # start from 0"
   ]
  },
  {
   "cell_type": "code",
   "execution_count": 51,
   "id": "01507aaa-8515-4958-9b31-003f40434261",
   "metadata": {},
   "outputs": [
    {
     "data": {
      "text/plain": [
       "{0: 1, 1: 2, 2: 2, 3: 1}"
      ]
     },
     "execution_count": 51,
     "metadata": {},
     "output_type": "execute_result"
    }
   ],
   "source": [
    "degree_of_nodes_based_on_indx = {node_positions[k]: v for k, v in degree_of_nodes.items()}\n",
    "degree_of_nodes_based_on_indx"
   ]
  },
  {
   "cell_type": "code",
   "execution_count": 82,
   "id": "c6be9a14-8c43-40dc-8692-53b88b1ab6de",
   "metadata": {},
   "outputs": [],
   "source": [
    "state = [0, 0, 0, 0]"
   ]
  },
  {
   "cell_type": "code",
   "execution_count": 57,
   "id": "17e8ee91-0163-4aca-b884-d7d6b438b055",
   "metadata": {},
   "outputs": [],
   "source": [
    "def check_I_lte_v_null(position, state):\n",
    "    for nbr in graph_based_on_indx[position]:\n",
    "        if degree_of_nodes_based_on_indx[nbr] <= degree_of_nodes_based_on_indx[position] and state[nbr] == 1:\n",
    "            return False\n",
    "    return True"
   ]
  },
  {
   "cell_type": "code",
   "execution_count": 58,
   "id": "fabf9b10-e544-4582-beef-b4348508b821",
   "metadata": {},
   "outputs": [],
   "source": [
    "def update_in_out(position):\n",
    "    if state[position] == 0:\n",
    "        if check_I_lte_v_null(position, state):\n",
    "            state[position] = 1\n",
    "    else:\n",
    "        if not check_I_lte_v_null(position, state):\n",
    "            state[position] = 0\n",
    "\n",
    "    print(state)"
   ]
  },
  {
   "cell_type": "code",
   "execution_count": 83,
   "id": "10087472-856f-47ad-9c95-235d4a744d03",
   "metadata": {},
   "outputs": [
    {
     "name": "stdout",
     "output_type": "stream",
     "text": [
      "[0, 0, 0, 1]\n"
     ]
    }
   ],
   "source": [
    "update_in_out(3)"
   ]
  },
  {
   "cell_type": "code",
   "execution_count": 84,
   "id": "a858cced-e8dd-4845-8ffd-b87f3271d30c",
   "metadata": {},
   "outputs": [
    {
     "name": "stdout",
     "output_type": "stream",
     "text": [
      "[1, 0, 0, 1]\n"
     ]
    }
   ],
   "source": [
    "update_in_out(0)"
   ]
  },
  {
   "cell_type": "code",
   "execution_count": 85,
   "id": "da8f96ca-6e44-4f2f-9d26-d755473db266",
   "metadata": {},
   "outputs": [
    {
     "name": "stdout",
     "output_type": "stream",
     "text": [
      "[1, 0, 0, 1]\n"
     ]
    }
   ],
   "source": [
    "update_in_out(1)"
   ]
  },
  {
   "cell_type": "code",
   "execution_count": 72,
   "id": "8afb99fc-3bcb-4edd-8e99-27822b7837d6",
   "metadata": {},
   "outputs": [
    {
     "name": "stdout",
     "output_type": "stream",
     "text": [
      "[1, 0, 0, 1]\n"
     ]
    }
   ],
   "source": [
    "update_in_out(2)"
   ]
  },
  {
   "cell_type": "code",
   "execution_count": 73,
   "id": "6a6b2b7a-bd4e-4144-8c8f-0d8e25466673",
   "metadata": {},
   "outputs": [
    {
     "name": "stdout",
     "output_type": "stream",
     "text": [
      "[1, 0, 0, 1]\n"
     ]
    }
   ],
   "source": [
    "update_in_out(0)"
   ]
  },
  {
   "cell_type": "code",
   "execution_count": 74,
   "id": "0083b55d-97e7-4c22-802a-b3d780766158",
   "metadata": {},
   "outputs": [
    {
     "name": "stdout",
     "output_type": "stream",
     "text": [
      "[1, 0, 0, 1]\n"
     ]
    }
   ],
   "source": [
    "update_in_out(3)"
   ]
  },
  {
   "cell_type": "code",
   "execution_count": 75,
   "id": "7866a9ff-a31c-464f-836e-ba871de76dff",
   "metadata": {},
   "outputs": [
    {
     "name": "stdout",
     "output_type": "stream",
     "text": [
      "[1, 0, 0, 1]\n"
     ]
    }
   ],
   "source": [
    "update_in_out(2)"
   ]
  },
  {
   "cell_type": "code",
   "execution_count": null,
   "id": "ab168909-2808-4c19-a6e6-a31d846131cc",
   "metadata": {},
   "outputs": [],
   "source": []
  }
 ],
 "metadata": {
  "kernelspec": {
   "display_name": "Python 3 (ipykernel)",
   "language": "python",
   "name": "python3"
  },
  "language_info": {
   "codemirror_mode": {
    "name": "ipython",
    "version": 3
   },
   "file_extension": ".py",
   "mimetype": "text/x-python",
   "name": "python",
   "nbconvert_exporter": "python",
   "pygments_lexer": "ipython3",
   "version": "3.11.6"
  }
 },
 "nbformat": 4,
 "nbformat_minor": 5
}
