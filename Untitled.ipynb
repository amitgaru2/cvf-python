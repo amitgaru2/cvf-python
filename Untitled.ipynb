{
 "cells": [
  {
   "cell_type": "code",
   "execution_count": 16,
   "id": "6e7b3a8d-990d-4777-b2f0-54d74d829ca3",
   "metadata": {},
   "outputs": [
    {
     "data": {
      "text/plain": [
       "{1.7: '0', 1.75: '1', 1.8: '2'}"
      ]
     },
     "execution_count": 16,
     "metadata": {},
     "output_type": "execute_result"
    }
   ],
   "source": [
    "values = [1.70, 1.75, 1.8]\n",
    "values_to_index = {v: str(i) for i, v in enumerate(values)}\n",
    "values_to_index"
   ]
  },
  {
   "cell_type": "code",
   "execution_count": 24,
   "id": "5b264aa0-f2b6-4d49-bbe9-b17d9d9c6ea2",
   "metadata": {},
   "outputs": [],
   "source": [
    "no_nodes = 3"
   ]
  },
  {
   "cell_type": "code",
   "execution_count": 46,
   "id": "59d039dd-5ebe-41ff-b239-436ea215d2ee",
   "metadata": {},
   "outputs": [],
   "source": [
    "given = [1.7, 1.7, 1.8]"
   ]
  },
  {
   "cell_type": "code",
   "execution_count": 47,
   "id": "14351cea-f468-43cc-afb4-32f2f0e038e5",
   "metadata": {},
   "outputs": [
    {
     "data": {
      "text/plain": [
       "'002'"
      ]
     },
     "execution_count": 47,
     "metadata": {},
     "output_type": "execute_result"
    }
   ],
   "source": [
    "given_to_str = \"\".join(values_to_index[i] for i in given)\n",
    "# given_to_str = given_to_str.lstrip(\"0\")\n",
    "given_to_str"
   ]
  },
  {
   "cell_type": "code",
   "execution_count": 48,
   "id": "38110436-7d16-4166-aa9d-44809ab60396",
   "metadata": {},
   "outputs": [
    {
     "name": "stdout",
     "output_type": "stream",
     "text": [
      "Base 3 number 002 is equal to decimal 2.\n"
     ]
    }
   ],
   "source": [
    "def base3_to_decimal(base3_str):\n",
    "    decimal_value = 0\n",
    "    length = len(base3_str)\n",
    "    \n",
    "    for i in range(length):\n",
    "        digit = int(base3_str[length - 1 - i])  # Get the digit from right to left\n",
    "        decimal_value += digit * (no_nodes ** i)  # Calculate its decimal value\n",
    "    \n",
    "    return decimal_value\n",
    "\n",
    "# Example usage\n",
    "# base3_number = \"10\"\n",
    "decimal_value = base3_to_decimal(given_to_str)\n",
    "print(f\"Base {no_nodes} number {given_to_str} is equal to decimal {decimal_value}.\")"
   ]
  },
  {
   "cell_type": "code",
   "execution_count": null,
   "id": "47db33da-ac9a-4ac6-b3a0-606247d1ff30",
   "metadata": {},
   "outputs": [],
   "source": []
  },
  {
   "cell_type": "code",
   "execution_count": null,
   "id": "41960dec-43a4-4869-b998-797b27f63040",
   "metadata": {},
   "outputs": [],
   "source": []
  }
 ],
 "metadata": {
  "kernelspec": {
   "display_name": "Python 3 (ipykernel)",
   "language": "python",
   "name": "python3"
  },
  "language_info": {
   "codemirror_mode": {
    "name": "ipython",
    "version": 3
   },
   "file_extension": ".py",
   "mimetype": "text/x-python",
   "name": "python",
   "nbconvert_exporter": "python",
   "pygments_lexer": "ipython3",
   "version": "3.12.2"
  }
 },
 "nbformat": 4,
 "nbformat_minor": 5
}
